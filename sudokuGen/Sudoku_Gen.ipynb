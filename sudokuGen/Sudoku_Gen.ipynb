{
 "cells": [
  {
   "cell_type": "code",
   "execution_count": 1,
   "id": "40f5359e",
   "metadata": {},
   "outputs": [],
   "source": [
    "import numpy as np"
   ]
  },
  {
   "cell_type": "code",
   "execution_count": null,
   "id": "68176110",
   "metadata": {},
   "outputs": [],
   "source": [
    "def create_valid_sudoku(block_rows, block_cols):\n",
    "    \n",
    "    \n",
    "class Sudoku(np.ndarray):\n",
    "    \n",
    "    def __init__(self):\n",
    "        self.(shape=(3,3,3,3), dtype=np.int16)\n",
    "    \n",
    "    def self.get_block(block=None)"
   ]
  },
  {
   "cell_type": "code",
   "execution_count": 2,
   "id": "2ff83138",
   "metadata": {},
   "outputs": [
    {
     "data": {
      "text/plain": [
       "numpy.ndarray"
      ]
     },
     "execution_count": 2,
     "metadata": {},
     "output_type": "execute_result"
    }
   ],
   "source": [
    "type(np.ndarray(shape=(3,3,3,3), dtype=np.int16))"
   ]
  },
  {
   "cell_type": "code",
   "execution_count": 3,
   "id": "ad8608e8",
   "metadata": {},
   "outputs": [
    {
     "name": "stdout",
     "output_type": "stream",
     "text": [
      "Sudoku grid:\n",
      "[[[[0 0 0]\n",
      "   [0 0 0]\n",
      "   [0 0 0]]\n",
      "\n",
      "  [[0 0 0]\n",
      "   [0 0 0]\n",
      "   [0 0 0]]\n",
      "\n",
      "  [[0 0 0]\n",
      "   [0 0 0]\n",
      "   [0 0 0]]]\n",
      "\n",
      "\n",
      " [[[0 0 0]\n",
      "   [0 0 0]\n",
      "   [0 0 0]]\n",
      "\n",
      "  [[0 0 0]\n",
      "   [0 0 0]\n",
      "   [0 0 0]]\n",
      "\n",
      "  [[0 5 0]\n",
      "   [0 0 0]\n",
      "   [0 2 0]]]\n",
      "\n",
      "\n",
      " [[[0 0 0]\n",
      "   [0 0 0]\n",
      "   [0 0 0]]\n",
      "\n",
      "  [[0 0 0]\n",
      "   [0 0 0]\n",
      "   [0 0 0]]\n",
      "\n",
      "  [[0 0 0]\n",
      "   [0 0 0]\n",
      "   [0 0 0]]]]\n",
      "\n",
      "Value at (1, 2, 0, 1): 5\n",
      "Value at (5, 7): [2]\n"
     ]
    }
   ],
   "source": [
    "import numpy as np\n",
    "\n",
    "class Sudoku(np.ndarray):\n",
    "    def __new__(cls, input_array):\n",
    "        obj = np.asarray(input_array).view(cls)\n",
    "        if obj.shape != (3, 3, 3, 3):\n",
    "            raise ValueError(\"Input array must have shape (3, 3, 3, 3)\")\n",
    "        return obj\n",
    "\n",
    "    def __array_finalize__(self, obj):\n",
    "        if obj is None:\n",
    "            return\n",
    "\n",
    "    def __getitem__(self, item):\n",
    "        if isinstance(item, tuple):\n",
    "            if len(item) == 4:\n",
    "                block_row, block_col, row, col = item\n",
    "                return super().__getitem__((block_row, block_col, row, col))\n",
    "            elif len(item) == 2:\n",
    "                row, col = item\n",
    "                row_block = row // 3\n",
    "                col_block = col // 3\n",
    "                inner_row = row % 3\n",
    "                inner_col = col % 3\n",
    "                return super().__getitem__((row_block, col_block, inner_row, inner_col)).flatten()\n",
    "        return super().__getitem__(item)\n",
    "\n",
    "    def __setitem__(self, item, value):\n",
    "        if isinstance(item, tuple):\n",
    "            if len(item) == 4:\n",
    "                block_row, block_col, row, col = item\n",
    "                super().__setitem__((block_row, block_col, row, col), value)\n",
    "            elif len(item) == 2:\n",
    "                row, col = item\n",
    "                row_block = row // 3\n",
    "                col_block = col // 3\n",
    "                inner_row = row % 3\n",
    "                inner_col = col % 3\n",
    "                super().__setitem__((row_block, col_block, inner_row, inner_col), value)\n",
    "        else:\n",
    "            super().__setitem__(item, value)\n",
    "\n",
    "\n",
    "# Example usage:\n",
    "sudoku_grid = np.zeros((3, 3, 3, 3), dtype=int)\n",
    "sudoku = Sudoku(sudoku_grid)\n",
    "\n",
    "# Set a value using blockRow, blockCol, row, col coordinates\n",
    "sudoku[1, 2, 0, 1] = 5\n",
    "\n",
    "# Set a value using simple row and column indexing\n",
    "sudoku[5, 7] = 2\n",
    "\n",
    "print(\"Sudoku grid:\")\n",
    "print(sudoku)\n",
    "\n",
    "# Get values using blockRow, blockCol, row, col coordinates\n",
    "print(\"\\nValue at (1, 2, 0, 1):\", sudoku[1, 2, 0, 1])\n",
    "\n",
    "# Get values using simple row and column indexing\n",
    "print(\"Value at (5, 7):\", sudoku[5, 7])\n"
   ]
  },
  {
   "cell_type": "code",
   "execution_count": 173,
   "id": "dfc1d4ff",
   "metadata": {},
   "outputs": [
    {
     "name": "stdout",
     "output_type": "stream",
     "text": [
      "Sudoku grid:\n",
      " 5  3  0 | 0  7  0 | 0  0  0 \n",
      " 6  0  0 | 1  9  5 | 0  0  0 \n",
      " 0  9  8 | 0  0  0 | 0  6  0 \n",
      "---------+---------+---------\n",
      " 8  0  0 | 0  6  0 | 0  0  3 \n",
      " 4  0  0 | 8  0  3 | 0  0  1 \n",
      " 7  0  0 | 0  2  0 | 0  0  6 \n",
      "---------+---------+---------\n",
      " 0  6  0 | 0  0  0 | 2  8  0 \n",
      " 0  0  0 | 4  1  9 | 0  0  5 \n",
      " 0  0  0 | 0  8  0 | 6  0  0 \n"
     ]
    }
   ],
   "source": [
    "import numpy as np\n",
    "\n",
    "class Sudoku(np.ndarray):\n",
    "    def __new__(cls, input_array):\n",
    "        obj = np.asarray(input_array).view(cls)\n",
    "        if obj.shape != (3, 3, 3, 3):\n",
    "            raise ValueError(\"Input array must have shape (3, 3, 3, 3)\")\n",
    "        return obj\n",
    "\n",
    "    def __array_finalize__(self, obj):\n",
    "        if obj is None:\n",
    "            return\n",
    "\n",
    "    def __getitem__(self, item):\n",
    "        if isinstance(item, tuple) and len(item) == 4: return super(Sudoku, self).__getitem__(item)\n",
    "        raise IndexError(\"Wrong indexing for Sudoku: must need 4 indices\")\n",
    "\n",
    "    def get(self, row, col):\n",
    "        row_block = row // 3\n",
    "        inner_row = row % 3\n",
    "        col_block = col // 3\n",
    "        inner_col = col % 3\n",
    "        return super(Sudoku, self).__getitem__((row_block, col_block, inner_row, inner_col))\n",
    "    \n",
    "    def get_row(self, row):\n",
    "        row_block = row // 3\n",
    "        inner_row = row % 3\n",
    "    \n",
    "    def get_col(self,col):\n",
    "        pass\n",
    "        \n",
    "\n",
    "    def __setitem__(self, item, value):\n",
    "        if isinstance(item, tuple) and len(item) == 4: super().__setitem__(item, value)\n",
    "        raise IndexError(\"Wrong indexing for Sudoku: must need 4 indices\")\n",
    "\n",
    "    def __repr__(self):\n",
    "        try:\n",
    "            lines = []\n",
    "            for block_row in range(3):\n",
    "                for row in range(3):\n",
    "                    line = \"\"\n",
    "                    for block_col in range(3):\n",
    "                        for col in range(3):\n",
    "                            value = self[block_row, block_col, row, col]\n",
    "                            line += f\" {value} \" if value != 0 else \" 0 \"\n",
    "                        if block_col < 2:\n",
    "                            line += \"|\"\n",
    "                    lines.append(line)\n",
    "                if block_row < 2:\n",
    "                    lines.append(\"---------+---------+---------\")\n",
    "            return \"\\n\".join(lines)\n",
    "        except:\n",
    "            return super().__repr__()\n",
    "    \n",
    "    def __str__(self):\n",
    "        return self.__repr__()\n",
    "\n",
    "\n",
    "# Example usage:\n",
    "sudoku_grid = np.array([\n",
    "    [[[5, 3, 0], [6, 0, 0], [0, 9, 8]],\n",
    "    [[0, 7, 0], [1, 9, 5], [0, 0, 0]],\n",
    "    [[0, 0, 0], [0, 0, 0], [0, 6, 0]]],\n",
    "    [[[8, 0, 0], [4, 0, 0], [7, 0, 0]],\n",
    "    [[0, 6, 0], [8, 0, 3], [0, 2, 0]],\n",
    "    [[0, 0, 3], [0, 0, 1], [0, 0, 6]]],\n",
    "    [[[0, 6, 0], [0, 0, 0], [0, 0, 0]],\n",
    "    [[0, 0, 0], [4, 1, 9], [0, 8, 0]],\n",
    "    [[2, 8, 0], [0, 0, 5], [6, 0, 0]]]\n",
    "])\n",
    "\n",
    "sudoku = Sudoku(sudoku_grid)\n",
    "print(\"Sudoku grid:\")\n",
    "print(sudoku)\n"
   ]
  },
  {
   "cell_type": "code",
   "execution_count": 63,
   "id": "9c6b6114",
   "metadata": {
    "scrolled": true
   },
   "outputs": [
    {
     "data": {
      "text/plain": [
       " 5  3  0 | 0  7  0 | 0  0  0 \n",
       " 6  0  0 | 1  9  5 | 0  0  0 \n",
       " 0  9  8 | 0  0  0 | 0  6  0 \n",
       "---------+---------+---------\n",
       " 8  0  0 | 0  6  0 | 0  0  3 \n",
       " 4  0  0 | 8  0  3 | 0  0  1 \n",
       " 7  0  0 | 0  2  0 | 0  0  6 \n",
       "---------+---------+---------\n",
       " 0  6  0 | 0  0  0 | 2  8  0 \n",
       " 0  0  0 | 4  1  9 | 0  0  5 \n",
       " 0  0  0 | 0  8  0 | 6  0  0 "
      ]
     },
     "execution_count": 63,
     "metadata": {},
     "output_type": "execute_result"
    }
   ],
   "source": [
    "sudoku"
   ]
  },
  {
   "cell_type": "code",
   "execution_count": 67,
   "id": "f7a1de9b",
   "metadata": {},
   "outputs": [
    {
     "name": "stdout",
     "output_type": "stream",
     "text": [
      "3\n"
     ]
    }
   ],
   "source": [
    "print(sudoku.get(0, 0))"
   ]
  },
  {
   "cell_type": "code",
   "execution_count": 65,
   "id": "dfb5ab2b",
   "metadata": {},
   "outputs": [],
   "source": [
    "sudoku_grid[0, 0, :, :] = 3"
   ]
  },
  {
   "cell_type": "code",
   "execution_count": 66,
   "id": "ee98bb8d",
   "metadata": {},
   "outputs": [
    {
     "data": {
      "text/plain": [
       " 3  3  3 | 0  7  0 | 0  0  0 \n",
       " 3  3  3 | 1  9  5 | 0  0  0 \n",
       " 3  3  3 | 0  0  0 | 0  6  0 \n",
       "---------+---------+---------\n",
       " 8  0  0 | 0  6  0 | 0  0  3 \n",
       " 4  0  0 | 8  0  3 | 0  0  1 \n",
       " 7  0  0 | 0  2  0 | 0  0  6 \n",
       "---------+---------+---------\n",
       " 0  6  0 | 0  0  0 | 2  8  0 \n",
       " 0  0  0 | 4  1  9 | 0  0  5 \n",
       " 0  0  0 | 0  8  0 | 6  0  0 "
      ]
     },
     "execution_count": 66,
     "metadata": {},
     "output_type": "execute_result"
    }
   ],
   "source": [
    "sudoku"
   ]
  },
  {
   "cell_type": "code",
   "execution_count": 73,
   "id": "426f9ad3",
   "metadata": {},
   "outputs": [
    {
     "ename": "IndexError",
     "evalue": "Wrong indexing for Sudoku: must need 4 indices",
     "output_type": "error",
     "traceback": [
      "\u001b[1;31m---------------------------------------------------------------------------\u001b[0m",
      "\u001b[1;31mIndexError\u001b[0m                                Traceback (most recent call last)",
      "\u001b[1;32m~\\AppData\\Local\\Temp\\ipykernel_37192\\2055959135.py\u001b[0m in \u001b[0;36m__repr__\u001b[1;34m(self)\u001b[0m\n\u001b[0;32m     41\u001b[0m                         \u001b[1;32mfor\u001b[0m \u001b[0mcol\u001b[0m \u001b[1;32min\u001b[0m \u001b[0mrange\u001b[0m\u001b[1;33m(\u001b[0m\u001b[1;36m3\u001b[0m\u001b[1;33m)\u001b[0m\u001b[1;33m:\u001b[0m\u001b[1;33m\u001b[0m\u001b[1;33m\u001b[0m\u001b[0m\n\u001b[1;32m---> 42\u001b[1;33m                             \u001b[0mvalue\u001b[0m \u001b[1;33m=\u001b[0m \u001b[0mself\u001b[0m\u001b[1;33m[\u001b[0m\u001b[0mblock_row\u001b[0m\u001b[1;33m,\u001b[0m \u001b[0mblock_col\u001b[0m\u001b[1;33m,\u001b[0m \u001b[0mrow\u001b[0m\u001b[1;33m,\u001b[0m \u001b[0mcol\u001b[0m\u001b[1;33m]\u001b[0m\u001b[1;33m\u001b[0m\u001b[1;33m\u001b[0m\u001b[0m\n\u001b[0m\u001b[0;32m     43\u001b[0m                             \u001b[0mline\u001b[0m \u001b[1;33m+=\u001b[0m \u001b[1;34mf\" {value} \"\u001b[0m \u001b[1;32mif\u001b[0m \u001b[0mvalue\u001b[0m \u001b[1;33m!=\u001b[0m \u001b[1;36m0\u001b[0m \u001b[1;32melse\u001b[0m \u001b[1;34m\" 0 \"\u001b[0m\u001b[1;33m\u001b[0m\u001b[1;33m\u001b[0m\u001b[0m\n",
      "\u001b[1;32m~\\AppData\\Local\\Temp\\ipykernel_37192\\2055959135.py\u001b[0m in \u001b[0;36m__getitem__\u001b[1;34m(self, item)\u001b[0m\n\u001b[0;32m     14\u001b[0m     \u001b[1;32mdef\u001b[0m \u001b[0m__getitem__\u001b[0m\u001b[1;33m(\u001b[0m\u001b[0mself\u001b[0m\u001b[1;33m,\u001b[0m \u001b[0mitem\u001b[0m\u001b[1;33m)\u001b[0m\u001b[1;33m:\u001b[0m\u001b[1;33m\u001b[0m\u001b[1;33m\u001b[0m\u001b[0m\n\u001b[1;32m---> 15\u001b[1;33m         \u001b[1;32mif\u001b[0m \u001b[0misinstance\u001b[0m\u001b[1;33m(\u001b[0m\u001b[0mitem\u001b[0m\u001b[1;33m,\u001b[0m \u001b[0mtuple\u001b[0m\u001b[1;33m)\u001b[0m \u001b[1;32mand\u001b[0m \u001b[0mlen\u001b[0m\u001b[1;33m(\u001b[0m\u001b[0mitem\u001b[0m\u001b[1;33m)\u001b[0m \u001b[1;33m==\u001b[0m \u001b[1;36m4\u001b[0m\u001b[1;33m:\u001b[0m \u001b[1;32mreturn\u001b[0m \u001b[0msuper\u001b[0m\u001b[1;33m(\u001b[0m\u001b[0mSudoku\u001b[0m\u001b[1;33m,\u001b[0m \u001b[0mself\u001b[0m\u001b[1;33m)\u001b[0m\u001b[1;33m.\u001b[0m\u001b[0m__getitem__\u001b[0m\u001b[1;33m(\u001b[0m\u001b[0mitem\u001b[0m\u001b[1;33m)\u001b[0m\u001b[1;33m\u001b[0m\u001b[1;33m\u001b[0m\u001b[0m\n\u001b[0m\u001b[0;32m     16\u001b[0m         \u001b[1;32mraise\u001b[0m \u001b[0mIndexError\u001b[0m\u001b[1;33m(\u001b[0m\u001b[1;34m\"Wrong indexing for Sudoku: must need 4 indices\"\u001b[0m\u001b[1;33m)\u001b[0m\u001b[1;33m\u001b[0m\u001b[1;33m\u001b[0m\u001b[0m\n",
      "\u001b[1;31mIndexError\u001b[0m: too many indices for array: array is 2-dimensional, but 4 were indexed",
      "\nDuring handling of the above exception, another exception occurred:\n",
      "\u001b[1;31mIndexError\u001b[0m                                Traceback (most recent call last)",
      "\u001b[1;32mC:\\ProgramData\\Anaconda3\\lib\\site-packages\\IPython\\core\\formatters.py\u001b[0m in \u001b[0;36m__call__\u001b[1;34m(self, obj)\u001b[0m\n\u001b[0;32m    700\u001b[0m                 \u001b[0mtype_pprinters\u001b[0m\u001b[1;33m=\u001b[0m\u001b[0mself\u001b[0m\u001b[1;33m.\u001b[0m\u001b[0mtype_printers\u001b[0m\u001b[1;33m,\u001b[0m\u001b[1;33m\u001b[0m\u001b[1;33m\u001b[0m\u001b[0m\n\u001b[0;32m    701\u001b[0m                 deferred_pprinters=self.deferred_printers)\n\u001b[1;32m--> 702\u001b[1;33m             \u001b[0mprinter\u001b[0m\u001b[1;33m.\u001b[0m\u001b[0mpretty\u001b[0m\u001b[1;33m(\u001b[0m\u001b[0mobj\u001b[0m\u001b[1;33m)\u001b[0m\u001b[1;33m\u001b[0m\u001b[1;33m\u001b[0m\u001b[0m\n\u001b[0m\u001b[0;32m    703\u001b[0m             \u001b[0mprinter\u001b[0m\u001b[1;33m.\u001b[0m\u001b[0mflush\u001b[0m\u001b[1;33m(\u001b[0m\u001b[1;33m)\u001b[0m\u001b[1;33m\u001b[0m\u001b[1;33m\u001b[0m\u001b[0m\n\u001b[0;32m    704\u001b[0m             \u001b[1;32mreturn\u001b[0m \u001b[0mstream\u001b[0m\u001b[1;33m.\u001b[0m\u001b[0mgetvalue\u001b[0m\u001b[1;33m(\u001b[0m\u001b[1;33m)\u001b[0m\u001b[1;33m\u001b[0m\u001b[1;33m\u001b[0m\u001b[0m\n",
      "\u001b[1;32mC:\\ProgramData\\Anaconda3\\lib\\site-packages\\IPython\\lib\\pretty.py\u001b[0m in \u001b[0;36mpretty\u001b[1;34m(self, obj)\u001b[0m\n\u001b[0;32m    392\u001b[0m                         \u001b[1;32mif\u001b[0m \u001b[0mcls\u001b[0m \u001b[1;32mis\u001b[0m \u001b[1;32mnot\u001b[0m \u001b[0mobject\u001b[0m\u001b[0;31m \u001b[0m\u001b[0;31m\\\u001b[0m\u001b[1;33m\u001b[0m\u001b[1;33m\u001b[0m\u001b[0m\n\u001b[0;32m    393\u001b[0m                                 \u001b[1;32mand\u001b[0m \u001b[0mcallable\u001b[0m\u001b[1;33m(\u001b[0m\u001b[0mcls\u001b[0m\u001b[1;33m.\u001b[0m\u001b[0m__dict__\u001b[0m\u001b[1;33m.\u001b[0m\u001b[0mget\u001b[0m\u001b[1;33m(\u001b[0m\u001b[1;34m'__repr__'\u001b[0m\u001b[1;33m)\u001b[0m\u001b[1;33m)\u001b[0m\u001b[1;33m:\u001b[0m\u001b[1;33m\u001b[0m\u001b[1;33m\u001b[0m\u001b[0m\n\u001b[1;32m--> 394\u001b[1;33m                             \u001b[1;32mreturn\u001b[0m \u001b[0m_repr_pprint\u001b[0m\u001b[1;33m(\u001b[0m\u001b[0mobj\u001b[0m\u001b[1;33m,\u001b[0m \u001b[0mself\u001b[0m\u001b[1;33m,\u001b[0m \u001b[0mcycle\u001b[0m\u001b[1;33m)\u001b[0m\u001b[1;33m\u001b[0m\u001b[1;33m\u001b[0m\u001b[0m\n\u001b[0m\u001b[0;32m    395\u001b[0m \u001b[1;33m\u001b[0m\u001b[0m\n\u001b[0;32m    396\u001b[0m             \u001b[1;32mreturn\u001b[0m \u001b[0m_default_pprint\u001b[0m\u001b[1;33m(\u001b[0m\u001b[0mobj\u001b[0m\u001b[1;33m,\u001b[0m \u001b[0mself\u001b[0m\u001b[1;33m,\u001b[0m \u001b[0mcycle\u001b[0m\u001b[1;33m)\u001b[0m\u001b[1;33m\u001b[0m\u001b[1;33m\u001b[0m\u001b[0m\n",
      "\u001b[1;32mC:\\ProgramData\\Anaconda3\\lib\\site-packages\\IPython\\lib\\pretty.py\u001b[0m in \u001b[0;36m_repr_pprint\u001b[1;34m(obj, p, cycle)\u001b[0m\n\u001b[0;32m    698\u001b[0m     \u001b[1;34m\"\"\"A pprint that just redirects to the normal repr function.\"\"\"\u001b[0m\u001b[1;33m\u001b[0m\u001b[1;33m\u001b[0m\u001b[0m\n\u001b[0;32m    699\u001b[0m     \u001b[1;31m# Find newlines and replace them with p.break_()\u001b[0m\u001b[1;33m\u001b[0m\u001b[1;33m\u001b[0m\u001b[1;33m\u001b[0m\u001b[0m\n\u001b[1;32m--> 700\u001b[1;33m     \u001b[0moutput\u001b[0m \u001b[1;33m=\u001b[0m \u001b[0mrepr\u001b[0m\u001b[1;33m(\u001b[0m\u001b[0mobj\u001b[0m\u001b[1;33m)\u001b[0m\u001b[1;33m\u001b[0m\u001b[1;33m\u001b[0m\u001b[0m\n\u001b[0m\u001b[0;32m    701\u001b[0m     \u001b[0mlines\u001b[0m \u001b[1;33m=\u001b[0m \u001b[0moutput\u001b[0m\u001b[1;33m.\u001b[0m\u001b[0msplitlines\u001b[0m\u001b[1;33m(\u001b[0m\u001b[1;33m)\u001b[0m\u001b[1;33m\u001b[0m\u001b[1;33m\u001b[0m\u001b[0m\n\u001b[0;32m    702\u001b[0m     \u001b[1;32mwith\u001b[0m \u001b[0mp\u001b[0m\u001b[1;33m.\u001b[0m\u001b[0mgroup\u001b[0m\u001b[1;33m(\u001b[0m\u001b[1;33m)\u001b[0m\u001b[1;33m:\u001b[0m\u001b[1;33m\u001b[0m\u001b[1;33m\u001b[0m\u001b[0m\n",
      "\u001b[1;32m~\\AppData\\Local\\Temp\\ipykernel_37192\\2055959135.py\u001b[0m in \u001b[0;36m__repr__\u001b[1;34m(self)\u001b[0m\n\u001b[0;32m     49\u001b[0m             \u001b[1;32mreturn\u001b[0m \u001b[1;34m\"\\n\"\u001b[0m\u001b[1;33m.\u001b[0m\u001b[0mjoin\u001b[0m\u001b[1;33m(\u001b[0m\u001b[0mlines\u001b[0m\u001b[1;33m)\u001b[0m\u001b[1;33m\u001b[0m\u001b[1;33m\u001b[0m\u001b[0m\n\u001b[0;32m     50\u001b[0m         \u001b[1;32mexcept\u001b[0m\u001b[1;33m:\u001b[0m\u001b[1;33m\u001b[0m\u001b[1;33m\u001b[0m\u001b[0m\n\u001b[1;32m---> 51\u001b[1;33m             \u001b[1;32mreturn\u001b[0m \u001b[0msuper\u001b[0m\u001b[1;33m(\u001b[0m\u001b[1;33m)\u001b[0m\u001b[1;33m.\u001b[0m\u001b[0m__repr__\u001b[0m\u001b[1;33m(\u001b[0m\u001b[1;33m)\u001b[0m\u001b[1;33m\u001b[0m\u001b[1;33m\u001b[0m\u001b[0m\n\u001b[0m\u001b[0;32m     52\u001b[0m \u001b[1;33m\u001b[0m\u001b[0m\n\u001b[0;32m     53\u001b[0m     \u001b[1;32mdef\u001b[0m \u001b[0m__str__\u001b[0m\u001b[1;33m(\u001b[0m\u001b[0mself\u001b[0m\u001b[1;33m)\u001b[0m\u001b[1;33m:\u001b[0m\u001b[1;33m\u001b[0m\u001b[1;33m\u001b[0m\u001b[0m\n",
      "\u001b[1;32mC:\\ProgramData\\Anaconda3\\lib\\site-packages\\numpy\\core\\arrayprint.py\u001b[0m in \u001b[0;36m_array_repr_implementation\u001b[1;34m(arr, max_line_width, precision, suppress_small, array2string)\u001b[0m\n\u001b[0;32m   1486\u001b[0m         \u001b[0mlst\u001b[0m \u001b[1;33m=\u001b[0m \u001b[0mrepr\u001b[0m\u001b[1;33m(\u001b[0m\u001b[0marr\u001b[0m\u001b[1;33m.\u001b[0m\u001b[0mitem\u001b[0m\u001b[1;33m(\u001b[0m\u001b[1;33m)\u001b[0m\u001b[1;33m)\u001b[0m\u001b[1;33m\u001b[0m\u001b[1;33m\u001b[0m\u001b[0m\n\u001b[0;32m   1487\u001b[0m     \u001b[1;32melif\u001b[0m \u001b[0marr\u001b[0m\u001b[1;33m.\u001b[0m\u001b[0msize\u001b[0m \u001b[1;33m>\u001b[0m \u001b[1;36m0\u001b[0m \u001b[1;32mor\u001b[0m \u001b[0marr\u001b[0m\u001b[1;33m.\u001b[0m\u001b[0mshape\u001b[0m \u001b[1;33m==\u001b[0m \u001b[1;33m(\u001b[0m\u001b[1;36m0\u001b[0m\u001b[1;33m,\u001b[0m\u001b[1;33m)\u001b[0m\u001b[1;33m:\u001b[0m\u001b[1;33m\u001b[0m\u001b[1;33m\u001b[0m\u001b[0m\n\u001b[1;32m-> 1488\u001b[1;33m         lst = array2string(arr, max_line_width, precision, suppress_small,\n\u001b[0m\u001b[0;32m   1489\u001b[0m                            ', ', prefix, suffix=suffix)\n\u001b[0;32m   1490\u001b[0m     \u001b[1;32melse\u001b[0m\u001b[1;33m:\u001b[0m  \u001b[1;31m# show zero-length shape unless it is (0,)\u001b[0m\u001b[1;33m\u001b[0m\u001b[1;33m\u001b[0m\u001b[0m\n",
      "\u001b[1;32mC:\\ProgramData\\Anaconda3\\lib\\site-packages\\numpy\\core\\arrayprint.py\u001b[0m in \u001b[0;36marray2string\u001b[1;34m(a, max_line_width, precision, suppress_small, separator, prefix, style, formatter, threshold, edgeitems, sign, floatmode, suffix, legacy)\u001b[0m\n\u001b[0;32m    734\u001b[0m         \u001b[1;32mreturn\u001b[0m \u001b[1;34m\"[]\"\u001b[0m\u001b[1;33m\u001b[0m\u001b[1;33m\u001b[0m\u001b[0m\n\u001b[0;32m    735\u001b[0m \u001b[1;33m\u001b[0m\u001b[0m\n\u001b[1;32m--> 736\u001b[1;33m     \u001b[1;32mreturn\u001b[0m \u001b[0m_array2string\u001b[0m\u001b[1;33m(\u001b[0m\u001b[0ma\u001b[0m\u001b[1;33m,\u001b[0m \u001b[0moptions\u001b[0m\u001b[1;33m,\u001b[0m \u001b[0mseparator\u001b[0m\u001b[1;33m,\u001b[0m \u001b[0mprefix\u001b[0m\u001b[1;33m)\u001b[0m\u001b[1;33m\u001b[0m\u001b[1;33m\u001b[0m\u001b[0m\n\u001b[0m\u001b[0;32m    737\u001b[0m \u001b[1;33m\u001b[0m\u001b[0m\n\u001b[0;32m    738\u001b[0m \u001b[1;33m\u001b[0m\u001b[0m\n",
      "\u001b[1;32mC:\\ProgramData\\Anaconda3\\lib\\site-packages\\numpy\\core\\arrayprint.py\u001b[0m in \u001b[0;36mwrapper\u001b[1;34m(self, *args, **kwargs)\u001b[0m\n\u001b[0;32m    511\u001b[0m             \u001b[0mrepr_running\u001b[0m\u001b[1;33m.\u001b[0m\u001b[0madd\u001b[0m\u001b[1;33m(\u001b[0m\u001b[0mkey\u001b[0m\u001b[1;33m)\u001b[0m\u001b[1;33m\u001b[0m\u001b[1;33m\u001b[0m\u001b[0m\n\u001b[0;32m    512\u001b[0m             \u001b[1;32mtry\u001b[0m\u001b[1;33m:\u001b[0m\u001b[1;33m\u001b[0m\u001b[1;33m\u001b[0m\u001b[0m\n\u001b[1;32m--> 513\u001b[1;33m                 \u001b[1;32mreturn\u001b[0m \u001b[0mf\u001b[0m\u001b[1;33m(\u001b[0m\u001b[0mself\u001b[0m\u001b[1;33m,\u001b[0m \u001b[1;33m*\u001b[0m\u001b[0margs\u001b[0m\u001b[1;33m,\u001b[0m \u001b[1;33m**\u001b[0m\u001b[0mkwargs\u001b[0m\u001b[1;33m)\u001b[0m\u001b[1;33m\u001b[0m\u001b[1;33m\u001b[0m\u001b[0m\n\u001b[0m\u001b[0;32m    514\u001b[0m             \u001b[1;32mfinally\u001b[0m\u001b[1;33m:\u001b[0m\u001b[1;33m\u001b[0m\u001b[1;33m\u001b[0m\u001b[0m\n\u001b[0;32m    515\u001b[0m                 \u001b[0mrepr_running\u001b[0m\u001b[1;33m.\u001b[0m\u001b[0mdiscard\u001b[0m\u001b[1;33m(\u001b[0m\u001b[0mkey\u001b[0m\u001b[1;33m)\u001b[0m\u001b[1;33m\u001b[0m\u001b[1;33m\u001b[0m\u001b[0m\n",
      "\u001b[1;32mC:\\ProgramData\\Anaconda3\\lib\\site-packages\\numpy\\core\\arrayprint.py\u001b[0m in \u001b[0;36m_array2string\u001b[1;34m(a, options, separator, prefix)\u001b[0m\n\u001b[0;32m    544\u001b[0m     \u001b[0mnext_line_prefix\u001b[0m \u001b[1;33m+=\u001b[0m \u001b[1;34m\" \"\u001b[0m\u001b[1;33m*\u001b[0m\u001b[0mlen\u001b[0m\u001b[1;33m(\u001b[0m\u001b[0mprefix\u001b[0m\u001b[1;33m)\u001b[0m\u001b[1;33m\u001b[0m\u001b[1;33m\u001b[0m\u001b[0m\n\u001b[0;32m    545\u001b[0m \u001b[1;33m\u001b[0m\u001b[0m\n\u001b[1;32m--> 546\u001b[1;33m     lst = _formatArray(a, format_function, options['linewidth'],\n\u001b[0m\u001b[0;32m    547\u001b[0m                        \u001b[0mnext_line_prefix\u001b[0m\u001b[1;33m,\u001b[0m \u001b[0mseparator\u001b[0m\u001b[1;33m,\u001b[0m \u001b[0moptions\u001b[0m\u001b[1;33m[\u001b[0m\u001b[1;34m'edgeitems'\u001b[0m\u001b[1;33m]\u001b[0m\u001b[1;33m,\u001b[0m\u001b[1;33m\u001b[0m\u001b[1;33m\u001b[0m\u001b[0m\n\u001b[0;32m    548\u001b[0m                        summary_insert, options['legacy'])\n",
      "\u001b[1;32mC:\\ProgramData\\Anaconda3\\lib\\site-packages\\numpy\\core\\arrayprint.py\u001b[0m in \u001b[0;36m_formatArray\u001b[1;34m(a, format_function, line_width, next_line_prefix, separator, edge_items, summary_insert, legacy)\u001b[0m\n\u001b[0;32m    887\u001b[0m     \u001b[1;32mtry\u001b[0m\u001b[1;33m:\u001b[0m\u001b[1;33m\u001b[0m\u001b[1;33m\u001b[0m\u001b[0m\n\u001b[0;32m    888\u001b[0m         \u001b[1;31m# invoke the recursive part with an initial index and prefix\u001b[0m\u001b[1;33m\u001b[0m\u001b[1;33m\u001b[0m\u001b[1;33m\u001b[0m\u001b[0m\n\u001b[1;32m--> 889\u001b[1;33m         return recurser(index=(),\n\u001b[0m\u001b[0;32m    890\u001b[0m                         \u001b[0mhanging_indent\u001b[0m\u001b[1;33m=\u001b[0m\u001b[0mnext_line_prefix\u001b[0m\u001b[1;33m,\u001b[0m\u001b[1;33m\u001b[0m\u001b[1;33m\u001b[0m\u001b[0m\n\u001b[0;32m    891\u001b[0m                         curr_width=line_width)\n",
      "\u001b[1;32mC:\\ProgramData\\Anaconda3\\lib\\site-packages\\numpy\\core\\arrayprint.py\u001b[0m in \u001b[0;36mrecurser\u001b[1;34m(index, hanging_indent, curr_width)\u001b[0m\n\u001b[0;32m    874\u001b[0m \u001b[1;33m\u001b[0m\u001b[0m\n\u001b[0;32m    875\u001b[0m             \u001b[1;32mfor\u001b[0m \u001b[0mi\u001b[0m \u001b[1;32min\u001b[0m \u001b[0mrange\u001b[0m\u001b[1;33m(\u001b[0m\u001b[0mtrailing_items\u001b[0m\u001b[1;33m,\u001b[0m \u001b[1;36m1\u001b[0m\u001b[1;33m,\u001b[0m \u001b[1;33m-\u001b[0m\u001b[1;36m1\u001b[0m\u001b[1;33m)\u001b[0m\u001b[1;33m:\u001b[0m\u001b[1;33m\u001b[0m\u001b[1;33m\u001b[0m\u001b[0m\n\u001b[1;32m--> 876\u001b[1;33m                 nested = recurser(index + (-i,), next_hanging_indent,\n\u001b[0m\u001b[0;32m    877\u001b[0m                                   next_width)\n\u001b[0;32m    878\u001b[0m                 \u001b[0ms\u001b[0m \u001b[1;33m+=\u001b[0m \u001b[0mhanging_indent\u001b[0m \u001b[1;33m+\u001b[0m \u001b[0mnested\u001b[0m \u001b[1;33m+\u001b[0m \u001b[0mline_sep\u001b[0m\u001b[1;33m\u001b[0m\u001b[1;33m\u001b[0m\u001b[0m\n",
      "\u001b[1;32mC:\\ProgramData\\Anaconda3\\lib\\site-packages\\numpy\\core\\arrayprint.py\u001b[0m in \u001b[0;36mrecurser\u001b[1;34m(index, hanging_indent, curr_width)\u001b[0m\n\u001b[0;32m    843\u001b[0m \u001b[1;33m\u001b[0m\u001b[0m\n\u001b[0;32m    844\u001b[0m             \u001b[1;32mfor\u001b[0m \u001b[0mi\u001b[0m \u001b[1;32min\u001b[0m \u001b[0mrange\u001b[0m\u001b[1;33m(\u001b[0m\u001b[0mtrailing_items\u001b[0m\u001b[1;33m,\u001b[0m \u001b[1;36m1\u001b[0m\u001b[1;33m,\u001b[0m \u001b[1;33m-\u001b[0m\u001b[1;36m1\u001b[0m\u001b[1;33m)\u001b[0m\u001b[1;33m:\u001b[0m\u001b[1;33m\u001b[0m\u001b[1;33m\u001b[0m\u001b[0m\n\u001b[1;32m--> 845\u001b[1;33m                 \u001b[0mword\u001b[0m \u001b[1;33m=\u001b[0m \u001b[0mrecurser\u001b[0m\u001b[1;33m(\u001b[0m\u001b[0mindex\u001b[0m \u001b[1;33m+\u001b[0m \u001b[1;33m(\u001b[0m\u001b[1;33m-\u001b[0m\u001b[0mi\u001b[0m\u001b[1;33m,\u001b[0m\u001b[1;33m)\u001b[0m\u001b[1;33m,\u001b[0m \u001b[0mnext_hanging_indent\u001b[0m\u001b[1;33m,\u001b[0m \u001b[0mnext_width\u001b[0m\u001b[1;33m)\u001b[0m\u001b[1;33m\u001b[0m\u001b[1;33m\u001b[0m\u001b[0m\n\u001b[0m\u001b[0;32m    846\u001b[0m                 s, line = _extendLine_pretty(\n\u001b[0;32m    847\u001b[0m                     s, line, word, elem_width, hanging_indent, legacy)\n",
      "\u001b[1;32mC:\\ProgramData\\Anaconda3\\lib\\site-packages\\numpy\\core\\arrayprint.py\u001b[0m in \u001b[0;36mrecurser\u001b[1;34m(index, hanging_indent, curr_width)\u001b[0m\n\u001b[0;32m    797\u001b[0m \u001b[1;33m\u001b[0m\u001b[0m\n\u001b[0;32m    798\u001b[0m         \u001b[1;32mif\u001b[0m \u001b[0maxes_left\u001b[0m \u001b[1;33m==\u001b[0m \u001b[1;36m0\u001b[0m\u001b[1;33m:\u001b[0m\u001b[1;33m\u001b[0m\u001b[1;33m\u001b[0m\u001b[0m\n\u001b[1;32m--> 799\u001b[1;33m             \u001b[1;32mreturn\u001b[0m \u001b[0mformat_function\u001b[0m\u001b[1;33m(\u001b[0m\u001b[0ma\u001b[0m\u001b[1;33m[\u001b[0m\u001b[0mindex\u001b[0m\u001b[1;33m]\u001b[0m\u001b[1;33m)\u001b[0m\u001b[1;33m\u001b[0m\u001b[1;33m\u001b[0m\u001b[0m\n\u001b[0m\u001b[0;32m    800\u001b[0m \u001b[1;33m\u001b[0m\u001b[0m\n\u001b[0;32m    801\u001b[0m         \u001b[1;31m# when recursing, add a space to align with the [ added, and reduce the\u001b[0m\u001b[1;33m\u001b[0m\u001b[1;33m\u001b[0m\u001b[1;33m\u001b[0m\u001b[0m\n",
      "\u001b[1;32m~\\AppData\\Local\\Temp\\ipykernel_37192\\2055959135.py\u001b[0m in \u001b[0;36m__getitem__\u001b[1;34m(self, item)\u001b[0m\n\u001b[0;32m     14\u001b[0m     \u001b[1;32mdef\u001b[0m \u001b[0m__getitem__\u001b[0m\u001b[1;33m(\u001b[0m\u001b[0mself\u001b[0m\u001b[1;33m,\u001b[0m \u001b[0mitem\u001b[0m\u001b[1;33m)\u001b[0m\u001b[1;33m:\u001b[0m\u001b[1;33m\u001b[0m\u001b[1;33m\u001b[0m\u001b[0m\n\u001b[0;32m     15\u001b[0m         \u001b[1;32mif\u001b[0m \u001b[0misinstance\u001b[0m\u001b[1;33m(\u001b[0m\u001b[0mitem\u001b[0m\u001b[1;33m,\u001b[0m \u001b[0mtuple\u001b[0m\u001b[1;33m)\u001b[0m \u001b[1;32mand\u001b[0m \u001b[0mlen\u001b[0m\u001b[1;33m(\u001b[0m\u001b[0mitem\u001b[0m\u001b[1;33m)\u001b[0m \u001b[1;33m==\u001b[0m \u001b[1;36m4\u001b[0m\u001b[1;33m:\u001b[0m \u001b[1;32mreturn\u001b[0m \u001b[0msuper\u001b[0m\u001b[1;33m(\u001b[0m\u001b[0mSudoku\u001b[0m\u001b[1;33m,\u001b[0m \u001b[0mself\u001b[0m\u001b[1;33m)\u001b[0m\u001b[1;33m.\u001b[0m\u001b[0m__getitem__\u001b[0m\u001b[1;33m(\u001b[0m\u001b[0mitem\u001b[0m\u001b[1;33m)\u001b[0m\u001b[1;33m\u001b[0m\u001b[1;33m\u001b[0m\u001b[0m\n\u001b[1;32m---> 16\u001b[1;33m         \u001b[1;32mraise\u001b[0m \u001b[0mIndexError\u001b[0m\u001b[1;33m(\u001b[0m\u001b[1;34m\"Wrong indexing for Sudoku: must need 4 indices\"\u001b[0m\u001b[1;33m)\u001b[0m\u001b[1;33m\u001b[0m\u001b[1;33m\u001b[0m\u001b[0m\n\u001b[0m\u001b[0;32m     17\u001b[0m \u001b[1;33m\u001b[0m\u001b[0m\n\u001b[0;32m     18\u001b[0m \u001b[1;31m#     def get(self, row, col):\u001b[0m\u001b[1;33m\u001b[0m\u001b[1;33m\u001b[0m\u001b[1;33m\u001b[0m\u001b[0m\n",
      "\u001b[1;31mIndexError\u001b[0m: Wrong indexing for Sudoku: must need 4 indices"
     ]
    }
   ],
   "source": [
    "sudoku.reshape(9, 9)"
   ]
  },
  {
   "cell_type": "code",
   "execution_count": 40,
   "id": "e442a980",
   "metadata": {
    "scrolled": false
   },
   "outputs": [
    {
     "name": "stdout",
     "output_type": "stream",
     "text": [
      "<class '__main__.Sudoku'> (slice(None, None, None), slice(None, None, None), 0, 0) 4\n",
      "slice(None, None, None) slice(None, None, None) 0 0\n",
      "<class '__main__.Sudoku'> (-3, -3) 2\n"
     ]
    },
    {
     "ename": "ValueError",
     "evalue": "Bad Input",
     "output_type": "error",
     "traceback": [
      "\u001b[1;31m---------------------------------------------------------------------------\u001b[0m",
      "\u001b[1;31mValueError\u001b[0m                                Traceback (most recent call last)",
      "\u001b[1;32m~\\AppData\\Local\\Temp\\ipykernel_37192\\95262309.py\u001b[0m in \u001b[0;36m<module>\u001b[1;34m\u001b[0m\n\u001b[1;32m----> 1\u001b[1;33m \u001b[0mprint\u001b[0m\u001b[1;33m(\u001b[0m\u001b[0msudoku\u001b[0m\u001b[1;33m[\u001b[0m\u001b[0mslice\u001b[0m\u001b[1;33m(\u001b[0m\u001b[1;32mNone\u001b[0m\u001b[1;33m,\u001b[0m \u001b[1;32mNone\u001b[0m\u001b[1;33m,\u001b[0m \u001b[1;32mNone\u001b[0m\u001b[1;33m)\u001b[0m\u001b[1;33m,\u001b[0m \u001b[0mslice\u001b[0m\u001b[1;33m(\u001b[0m\u001b[1;32mNone\u001b[0m\u001b[1;33m,\u001b[0m \u001b[1;32mNone\u001b[0m\u001b[1;33m,\u001b[0m \u001b[1;32mNone\u001b[0m\u001b[1;33m)\u001b[0m\u001b[1;33m,\u001b[0m \u001b[1;36m0\u001b[0m\u001b[1;33m,\u001b[0m \u001b[1;36m0\u001b[0m\u001b[1;33m]\u001b[0m\u001b[1;33m)\u001b[0m\u001b[1;33m\u001b[0m\u001b[1;33m\u001b[0m\u001b[0m\n\u001b[0m",
      "\u001b[1;32mC:\\ProgramData\\Anaconda3\\lib\\site-packages\\numpy\\core\\arrayprint.py\u001b[0m in \u001b[0;36m_array_str_implementation\u001b[1;34m(a, max_line_width, precision, suppress_small, array2string)\u001b[0m\n\u001b[0;32m   1590\u001b[0m         \u001b[1;32mreturn\u001b[0m \u001b[0m_guarded_repr_or_str\u001b[0m\u001b[1;33m(\u001b[0m\u001b[0mnp\u001b[0m\u001b[1;33m.\u001b[0m\u001b[0mndarray\u001b[0m\u001b[1;33m.\u001b[0m\u001b[0m__getitem__\u001b[0m\u001b[1;33m(\u001b[0m\u001b[0ma\u001b[0m\u001b[1;33m,\u001b[0m \u001b[1;33m(\u001b[0m\u001b[1;33m)\u001b[0m\u001b[1;33m)\u001b[0m\u001b[1;33m)\u001b[0m\u001b[1;33m\u001b[0m\u001b[1;33m\u001b[0m\u001b[0m\n\u001b[0;32m   1591\u001b[0m \u001b[1;33m\u001b[0m\u001b[0m\n\u001b[1;32m-> 1592\u001b[1;33m     \u001b[1;32mreturn\u001b[0m \u001b[0marray2string\u001b[0m\u001b[1;33m(\u001b[0m\u001b[0ma\u001b[0m\u001b[1;33m,\u001b[0m \u001b[0mmax_line_width\u001b[0m\u001b[1;33m,\u001b[0m \u001b[0mprecision\u001b[0m\u001b[1;33m,\u001b[0m \u001b[0msuppress_small\u001b[0m\u001b[1;33m,\u001b[0m \u001b[1;34m' '\u001b[0m\u001b[1;33m,\u001b[0m \u001b[1;34m\"\"\u001b[0m\u001b[1;33m)\u001b[0m\u001b[1;33m\u001b[0m\u001b[1;33m\u001b[0m\u001b[0m\n\u001b[0m\u001b[0;32m   1593\u001b[0m \u001b[1;33m\u001b[0m\u001b[0m\n\u001b[0;32m   1594\u001b[0m \u001b[1;33m\u001b[0m\u001b[0m\n",
      "\u001b[1;32mC:\\ProgramData\\Anaconda3\\lib\\site-packages\\numpy\\core\\arrayprint.py\u001b[0m in \u001b[0;36marray2string\u001b[1;34m(a, max_line_width, precision, suppress_small, separator, prefix, style, formatter, threshold, edgeitems, sign, floatmode, suffix, legacy)\u001b[0m\n\u001b[0;32m    734\u001b[0m         \u001b[1;32mreturn\u001b[0m \u001b[1;34m\"[]\"\u001b[0m\u001b[1;33m\u001b[0m\u001b[1;33m\u001b[0m\u001b[0m\n\u001b[0;32m    735\u001b[0m \u001b[1;33m\u001b[0m\u001b[0m\n\u001b[1;32m--> 736\u001b[1;33m     \u001b[1;32mreturn\u001b[0m \u001b[0m_array2string\u001b[0m\u001b[1;33m(\u001b[0m\u001b[0ma\u001b[0m\u001b[1;33m,\u001b[0m \u001b[0moptions\u001b[0m\u001b[1;33m,\u001b[0m \u001b[0mseparator\u001b[0m\u001b[1;33m,\u001b[0m \u001b[0mprefix\u001b[0m\u001b[1;33m)\u001b[0m\u001b[1;33m\u001b[0m\u001b[1;33m\u001b[0m\u001b[0m\n\u001b[0m\u001b[0;32m    737\u001b[0m \u001b[1;33m\u001b[0m\u001b[0m\n\u001b[0;32m    738\u001b[0m \u001b[1;33m\u001b[0m\u001b[0m\n",
      "\u001b[1;32mC:\\ProgramData\\Anaconda3\\lib\\site-packages\\numpy\\core\\arrayprint.py\u001b[0m in \u001b[0;36mwrapper\u001b[1;34m(self, *args, **kwargs)\u001b[0m\n\u001b[0;32m    511\u001b[0m             \u001b[0mrepr_running\u001b[0m\u001b[1;33m.\u001b[0m\u001b[0madd\u001b[0m\u001b[1;33m(\u001b[0m\u001b[0mkey\u001b[0m\u001b[1;33m)\u001b[0m\u001b[1;33m\u001b[0m\u001b[1;33m\u001b[0m\u001b[0m\n\u001b[0;32m    512\u001b[0m             \u001b[1;32mtry\u001b[0m\u001b[1;33m:\u001b[0m\u001b[1;33m\u001b[0m\u001b[1;33m\u001b[0m\u001b[0m\n\u001b[1;32m--> 513\u001b[1;33m                 \u001b[1;32mreturn\u001b[0m \u001b[0mf\u001b[0m\u001b[1;33m(\u001b[0m\u001b[0mself\u001b[0m\u001b[1;33m,\u001b[0m \u001b[1;33m*\u001b[0m\u001b[0margs\u001b[0m\u001b[1;33m,\u001b[0m \u001b[1;33m**\u001b[0m\u001b[0mkwargs\u001b[0m\u001b[1;33m)\u001b[0m\u001b[1;33m\u001b[0m\u001b[1;33m\u001b[0m\u001b[0m\n\u001b[0m\u001b[0;32m    514\u001b[0m             \u001b[1;32mfinally\u001b[0m\u001b[1;33m:\u001b[0m\u001b[1;33m\u001b[0m\u001b[1;33m\u001b[0m\u001b[0m\n\u001b[0;32m    515\u001b[0m                 \u001b[0mrepr_running\u001b[0m\u001b[1;33m.\u001b[0m\u001b[0mdiscard\u001b[0m\u001b[1;33m(\u001b[0m\u001b[0mkey\u001b[0m\u001b[1;33m)\u001b[0m\u001b[1;33m\u001b[0m\u001b[1;33m\u001b[0m\u001b[0m\n",
      "\u001b[1;32mC:\\ProgramData\\Anaconda3\\lib\\site-packages\\numpy\\core\\arrayprint.py\u001b[0m in \u001b[0;36m_array2string\u001b[1;34m(a, options, separator, prefix)\u001b[0m\n\u001b[0;32m    544\u001b[0m     \u001b[0mnext_line_prefix\u001b[0m \u001b[1;33m+=\u001b[0m \u001b[1;34m\" \"\u001b[0m\u001b[1;33m*\u001b[0m\u001b[0mlen\u001b[0m\u001b[1;33m(\u001b[0m\u001b[0mprefix\u001b[0m\u001b[1;33m)\u001b[0m\u001b[1;33m\u001b[0m\u001b[1;33m\u001b[0m\u001b[0m\n\u001b[0;32m    545\u001b[0m \u001b[1;33m\u001b[0m\u001b[0m\n\u001b[1;32m--> 546\u001b[1;33m     lst = _formatArray(a, format_function, options['linewidth'],\n\u001b[0m\u001b[0;32m    547\u001b[0m                        \u001b[0mnext_line_prefix\u001b[0m\u001b[1;33m,\u001b[0m \u001b[0mseparator\u001b[0m\u001b[1;33m,\u001b[0m \u001b[0moptions\u001b[0m\u001b[1;33m[\u001b[0m\u001b[1;34m'edgeitems'\u001b[0m\u001b[1;33m]\u001b[0m\u001b[1;33m,\u001b[0m\u001b[1;33m\u001b[0m\u001b[1;33m\u001b[0m\u001b[0m\n\u001b[0;32m    548\u001b[0m                        summary_insert, options['legacy'])\n",
      "\u001b[1;32mC:\\ProgramData\\Anaconda3\\lib\\site-packages\\numpy\\core\\arrayprint.py\u001b[0m in \u001b[0;36m_formatArray\u001b[1;34m(a, format_function, line_width, next_line_prefix, separator, edge_items, summary_insert, legacy)\u001b[0m\n\u001b[0;32m    887\u001b[0m     \u001b[1;32mtry\u001b[0m\u001b[1;33m:\u001b[0m\u001b[1;33m\u001b[0m\u001b[1;33m\u001b[0m\u001b[0m\n\u001b[0;32m    888\u001b[0m         \u001b[1;31m# invoke the recursive part with an initial index and prefix\u001b[0m\u001b[1;33m\u001b[0m\u001b[1;33m\u001b[0m\u001b[1;33m\u001b[0m\u001b[0m\n\u001b[1;32m--> 889\u001b[1;33m         return recurser(index=(),\n\u001b[0m\u001b[0;32m    890\u001b[0m                         \u001b[0mhanging_indent\u001b[0m\u001b[1;33m=\u001b[0m\u001b[0mnext_line_prefix\u001b[0m\u001b[1;33m,\u001b[0m\u001b[1;33m\u001b[0m\u001b[1;33m\u001b[0m\u001b[0m\n\u001b[0;32m    891\u001b[0m                         curr_width=line_width)\n",
      "\u001b[1;32mC:\\ProgramData\\Anaconda3\\lib\\site-packages\\numpy\\core\\arrayprint.py\u001b[0m in \u001b[0;36mrecurser\u001b[1;34m(index, hanging_indent, curr_width)\u001b[0m\n\u001b[0;32m    874\u001b[0m \u001b[1;33m\u001b[0m\u001b[0m\n\u001b[0;32m    875\u001b[0m             \u001b[1;32mfor\u001b[0m \u001b[0mi\u001b[0m \u001b[1;32min\u001b[0m \u001b[0mrange\u001b[0m\u001b[1;33m(\u001b[0m\u001b[0mtrailing_items\u001b[0m\u001b[1;33m,\u001b[0m \u001b[1;36m1\u001b[0m\u001b[1;33m,\u001b[0m \u001b[1;33m-\u001b[0m\u001b[1;36m1\u001b[0m\u001b[1;33m)\u001b[0m\u001b[1;33m:\u001b[0m\u001b[1;33m\u001b[0m\u001b[1;33m\u001b[0m\u001b[0m\n\u001b[1;32m--> 876\u001b[1;33m                 nested = recurser(index + (-i,), next_hanging_indent,\n\u001b[0m\u001b[0;32m    877\u001b[0m                                   next_width)\n\u001b[0;32m    878\u001b[0m                 \u001b[0ms\u001b[0m \u001b[1;33m+=\u001b[0m \u001b[0mhanging_indent\u001b[0m \u001b[1;33m+\u001b[0m \u001b[0mnested\u001b[0m \u001b[1;33m+\u001b[0m \u001b[0mline_sep\u001b[0m\u001b[1;33m\u001b[0m\u001b[1;33m\u001b[0m\u001b[0m\n",
      "\u001b[1;32mC:\\ProgramData\\Anaconda3\\lib\\site-packages\\numpy\\core\\arrayprint.py\u001b[0m in \u001b[0;36mrecurser\u001b[1;34m(index, hanging_indent, curr_width)\u001b[0m\n\u001b[0;32m    843\u001b[0m \u001b[1;33m\u001b[0m\u001b[0m\n\u001b[0;32m    844\u001b[0m             \u001b[1;32mfor\u001b[0m \u001b[0mi\u001b[0m \u001b[1;32min\u001b[0m \u001b[0mrange\u001b[0m\u001b[1;33m(\u001b[0m\u001b[0mtrailing_items\u001b[0m\u001b[1;33m,\u001b[0m \u001b[1;36m1\u001b[0m\u001b[1;33m,\u001b[0m \u001b[1;33m-\u001b[0m\u001b[1;36m1\u001b[0m\u001b[1;33m)\u001b[0m\u001b[1;33m:\u001b[0m\u001b[1;33m\u001b[0m\u001b[1;33m\u001b[0m\u001b[0m\n\u001b[1;32m--> 845\u001b[1;33m                 \u001b[0mword\u001b[0m \u001b[1;33m=\u001b[0m \u001b[0mrecurser\u001b[0m\u001b[1;33m(\u001b[0m\u001b[0mindex\u001b[0m \u001b[1;33m+\u001b[0m \u001b[1;33m(\u001b[0m\u001b[1;33m-\u001b[0m\u001b[0mi\u001b[0m\u001b[1;33m,\u001b[0m\u001b[1;33m)\u001b[0m\u001b[1;33m,\u001b[0m \u001b[0mnext_hanging_indent\u001b[0m\u001b[1;33m,\u001b[0m \u001b[0mnext_width\u001b[0m\u001b[1;33m)\u001b[0m\u001b[1;33m\u001b[0m\u001b[1;33m\u001b[0m\u001b[0m\n\u001b[0m\u001b[0;32m    846\u001b[0m                 s, line = _extendLine_pretty(\n\u001b[0;32m    847\u001b[0m                     s, line, word, elem_width, hanging_indent, legacy)\n",
      "\u001b[1;32mC:\\ProgramData\\Anaconda3\\lib\\site-packages\\numpy\\core\\arrayprint.py\u001b[0m in \u001b[0;36mrecurser\u001b[1;34m(index, hanging_indent, curr_width)\u001b[0m\n\u001b[0;32m    797\u001b[0m \u001b[1;33m\u001b[0m\u001b[0m\n\u001b[0;32m    798\u001b[0m         \u001b[1;32mif\u001b[0m \u001b[0maxes_left\u001b[0m \u001b[1;33m==\u001b[0m \u001b[1;36m0\u001b[0m\u001b[1;33m:\u001b[0m\u001b[1;33m\u001b[0m\u001b[1;33m\u001b[0m\u001b[0m\n\u001b[1;32m--> 799\u001b[1;33m             \u001b[1;32mreturn\u001b[0m \u001b[0mformat_function\u001b[0m\u001b[1;33m(\u001b[0m\u001b[0ma\u001b[0m\u001b[1;33m[\u001b[0m\u001b[0mindex\u001b[0m\u001b[1;33m]\u001b[0m\u001b[1;33m)\u001b[0m\u001b[1;33m\u001b[0m\u001b[1;33m\u001b[0m\u001b[0m\n\u001b[0m\u001b[0;32m    800\u001b[0m \u001b[1;33m\u001b[0m\u001b[0m\n\u001b[0;32m    801\u001b[0m         \u001b[1;31m# when recursing, add a space to align with the [ added, and reduce the\u001b[0m\u001b[1;33m\u001b[0m\u001b[1;33m\u001b[0m\u001b[1;33m\u001b[0m\u001b[0m\n",
      "\u001b[1;32m~\\AppData\\Local\\Temp\\ipykernel_37192\\2859020491.py\u001b[0m in \u001b[0;36m__getitem__\u001b[1;34m(self, item)\u001b[0m\n\u001b[0;32m     27\u001b[0m \u001b[1;31m#                 inner_col = col % 3\u001b[0m\u001b[1;33m\u001b[0m\u001b[1;33m\u001b[0m\u001b[1;33m\u001b[0m\u001b[0m\n\u001b[0;32m     28\u001b[0m \u001b[1;31m#                 return super(Sudoku, self).__getitem__((row_block, col_block, inner_row, inner_col))#.flatten()\u001b[0m\u001b[1;33m\u001b[0m\u001b[1;33m\u001b[0m\u001b[1;33m\u001b[0m\u001b[0m\n\u001b[1;32m---> 29\u001b[1;33m         \u001b[1;32mraise\u001b[0m \u001b[0mValueError\u001b[0m\u001b[1;33m(\u001b[0m\u001b[1;34m\"Bad Input\"\u001b[0m\u001b[1;33m)\u001b[0m\u001b[1;33m\u001b[0m\u001b[1;33m\u001b[0m\u001b[0m\n\u001b[0m\u001b[0;32m     30\u001b[0m         \u001b[1;32mreturn\u001b[0m \u001b[0msuper\u001b[0m\u001b[1;33m(\u001b[0m\u001b[1;33m)\u001b[0m\u001b[1;33m.\u001b[0m\u001b[0m__getitems__\u001b[0m\u001b[1;33m(\u001b[0m\u001b[0mitem\u001b[0m\u001b[1;33m)\u001b[0m\u001b[1;33m\u001b[0m\u001b[1;33m\u001b[0m\u001b[0m\n\u001b[0;32m     31\u001b[0m \u001b[1;33m\u001b[0m\u001b[0m\n",
      "\u001b[1;31mValueError\u001b[0m: Bad Input"
     ]
    }
   ],
   "source": [
    "print(sudoku[slice(None, None, None), slice(None, None, None), 0, 0])"
   ]
  },
  {
   "cell_type": "code",
   "execution_count": 39,
   "id": "2f07385c",
   "metadata": {},
   "outputs": [
    {
     "name": "stdout",
     "output_type": "stream",
     "text": [
      "<class '__main__.Sudoku'> (0, 0, 0, 0) 4\n",
      "0 0 0 0\n",
      "<class '__main__.Sudoku'> (0, 0, 0, 1) 4\n",
      "0 0 0 1\n",
      "<class '__main__.Sudoku'> (0, 0, 0, 2) 4\n",
      "0 0 0 2\n",
      "<class '__main__.Sudoku'> (0, 1, 0, 0) 4\n",
      "0 1 0 0\n",
      "<class '__main__.Sudoku'> (0, 1, 0, 1) 4\n",
      "0 1 0 1\n",
      "<class '__main__.Sudoku'> (0, 1, 0, 2) 4\n",
      "0 1 0 2\n",
      "<class '__main__.Sudoku'> (0, 2, 0, 0) 4\n",
      "0 2 0 0\n",
      "<class '__main__.Sudoku'> (0, 2, 0, 1) 4\n",
      "0 2 0 1\n",
      "<class '__main__.Sudoku'> (0, 2, 0, 2) 4\n",
      "0 2 0 2\n",
      "<class '__main__.Sudoku'> (0, 0, 1, 0) 4\n",
      "0 0 1 0\n",
      "<class '__main__.Sudoku'> (0, 0, 1, 1) 4\n",
      "0 0 1 1\n",
      "<class '__main__.Sudoku'> (0, 0, 1, 2) 4\n",
      "0 0 1 2\n",
      "<class '__main__.Sudoku'> (0, 1, 1, 0) 4\n",
      "0 1 1 0\n",
      "<class '__main__.Sudoku'> (0, 1, 1, 1) 4\n",
      "0 1 1 1\n",
      "<class '__main__.Sudoku'> (0, 1, 1, 2) 4\n",
      "0 1 1 2\n",
      "<class '__main__.Sudoku'> (0, 2, 1, 0) 4\n",
      "0 2 1 0\n",
      "<class '__main__.Sudoku'> (0, 2, 1, 1) 4\n",
      "0 2 1 1\n",
      "<class '__main__.Sudoku'> (0, 2, 1, 2) 4\n",
      "0 2 1 2\n",
      "<class '__main__.Sudoku'> (0, 0, 2, 0) 4\n",
      "0 0 2 0\n",
      "<class '__main__.Sudoku'> (0, 0, 2, 1) 4\n",
      "0 0 2 1\n",
      "<class '__main__.Sudoku'> (0, 0, 2, 2) 4\n",
      "0 0 2 2\n",
      "<class '__main__.Sudoku'> (0, 1, 2, 0) 4\n",
      "0 1 2 0\n",
      "<class '__main__.Sudoku'> (0, 1, 2, 1) 4\n",
      "0 1 2 1\n",
      "<class '__main__.Sudoku'> (0, 1, 2, 2) 4\n",
      "0 1 2 2\n",
      "<class '__main__.Sudoku'> (0, 2, 2, 0) 4\n",
      "0 2 2 0\n",
      "<class '__main__.Sudoku'> (0, 2, 2, 1) 4\n",
      "0 2 2 1\n",
      "<class '__main__.Sudoku'> (0, 2, 2, 2) 4\n",
      "0 2 2 2\n",
      "<class '__main__.Sudoku'> (1, 0, 0, 0) 4\n",
      "1 0 0 0\n",
      "<class '__main__.Sudoku'> (1, 0, 0, 1) 4\n",
      "1 0 0 1\n",
      "<class '__main__.Sudoku'> (1, 0, 0, 2) 4\n",
      "1 0 0 2\n",
      "<class '__main__.Sudoku'> (1, 1, 0, 0) 4\n",
      "1 1 0 0\n",
      "<class '__main__.Sudoku'> (1, 1, 0, 1) 4\n",
      "1 1 0 1\n",
      "<class '__main__.Sudoku'> (1, 1, 0, 2) 4\n",
      "1 1 0 2\n",
      "<class '__main__.Sudoku'> (1, 2, 0, 0) 4\n",
      "1 2 0 0\n",
      "<class '__main__.Sudoku'> (1, 2, 0, 1) 4\n",
      "1 2 0 1\n",
      "<class '__main__.Sudoku'> (1, 2, 0, 2) 4\n",
      "1 2 0 2\n",
      "<class '__main__.Sudoku'> (1, 0, 1, 0) 4\n",
      "1 0 1 0\n",
      "<class '__main__.Sudoku'> (1, 0, 1, 1) 4\n",
      "1 0 1 1\n",
      "<class '__main__.Sudoku'> (1, 0, 1, 2) 4\n",
      "1 0 1 2\n",
      "<class '__main__.Sudoku'> (1, 1, 1, 0) 4\n",
      "1 1 1 0\n",
      "<class '__main__.Sudoku'> (1, 1, 1, 1) 4\n",
      "1 1 1 1\n",
      "<class '__main__.Sudoku'> (1, 1, 1, 2) 4\n",
      "1 1 1 2\n",
      "<class '__main__.Sudoku'> (1, 2, 1, 0) 4\n",
      "1 2 1 0\n",
      "<class '__main__.Sudoku'> (1, 2, 1, 1) 4\n",
      "1 2 1 1\n",
      "<class '__main__.Sudoku'> (1, 2, 1, 2) 4\n",
      "1 2 1 2\n",
      "<class '__main__.Sudoku'> (1, 0, 2, 0) 4\n",
      "1 0 2 0\n",
      "<class '__main__.Sudoku'> (1, 0, 2, 1) 4\n",
      "1 0 2 1\n",
      "<class '__main__.Sudoku'> (1, 0, 2, 2) 4\n",
      "1 0 2 2\n",
      "<class '__main__.Sudoku'> (1, 1, 2, 0) 4\n",
      "1 1 2 0\n",
      "<class '__main__.Sudoku'> (1, 1, 2, 1) 4\n",
      "1 1 2 1\n",
      "<class '__main__.Sudoku'> (1, 1, 2, 2) 4\n",
      "1 1 2 2\n",
      "<class '__main__.Sudoku'> (1, 2, 2, 0) 4\n",
      "1 2 2 0\n",
      "<class '__main__.Sudoku'> (1, 2, 2, 1) 4\n",
      "1 2 2 1\n",
      "<class '__main__.Sudoku'> (1, 2, 2, 2) 4\n",
      "1 2 2 2\n",
      "<class '__main__.Sudoku'> (2, 0, 0, 0) 4\n",
      "2 0 0 0\n",
      "<class '__main__.Sudoku'> (2, 0, 0, 1) 4\n",
      "2 0 0 1\n",
      "<class '__main__.Sudoku'> (2, 0, 0, 2) 4\n",
      "2 0 0 2\n",
      "<class '__main__.Sudoku'> (2, 1, 0, 0) 4\n",
      "2 1 0 0\n",
      "<class '__main__.Sudoku'> (2, 1, 0, 1) 4\n",
      "2 1 0 1\n",
      "<class '__main__.Sudoku'> (2, 1, 0, 2) 4\n",
      "2 1 0 2\n",
      "<class '__main__.Sudoku'> (2, 2, 0, 0) 4\n",
      "2 2 0 0\n",
      "<class '__main__.Sudoku'> (2, 2, 0, 1) 4\n",
      "2 2 0 1\n",
      "<class '__main__.Sudoku'> (2, 2, 0, 2) 4\n",
      "2 2 0 2\n",
      "<class '__main__.Sudoku'> (2, 0, 1, 0) 4\n",
      "2 0 1 0\n",
      "<class '__main__.Sudoku'> (2, 0, 1, 1) 4\n",
      "2 0 1 1\n",
      "<class '__main__.Sudoku'> (2, 0, 1, 2) 4\n",
      "2 0 1 2\n",
      "<class '__main__.Sudoku'> (2, 1, 1, 0) 4\n",
      "2 1 1 0\n",
      "<class '__main__.Sudoku'> (2, 1, 1, 1) 4\n",
      "2 1 1 1\n",
      "<class '__main__.Sudoku'> (2, 1, 1, 2) 4\n",
      "2 1 1 2\n",
      "<class '__main__.Sudoku'> (2, 2, 1, 0) 4\n",
      "2 2 1 0\n",
      "<class '__main__.Sudoku'> (2, 2, 1, 1) 4\n",
      "2 2 1 1\n",
      "<class '__main__.Sudoku'> (2, 2, 1, 2) 4\n",
      "2 2 1 2\n",
      "<class '__main__.Sudoku'> (2, 0, 2, 0) 4\n",
      "2 0 2 0\n",
      "<class '__main__.Sudoku'> (2, 0, 2, 1) 4\n",
      "2 0 2 1\n",
      "<class '__main__.Sudoku'> (2, 0, 2, 2) 4\n",
      "2 0 2 2\n",
      "<class '__main__.Sudoku'> (2, 1, 2, 0) 4\n",
      "2 1 2 0\n",
      "<class '__main__.Sudoku'> (2, 1, 2, 1) 4\n",
      "2 1 2 1\n",
      "<class '__main__.Sudoku'> (2, 1, 2, 2) 4\n",
      "2 1 2 2\n",
      "<class '__main__.Sudoku'> (2, 2, 2, 0) 4\n",
      "2 2 2 0\n",
      "<class '__main__.Sudoku'> (2, 2, 2, 1) 4\n",
      "2 2 2 1\n",
      "<class '__main__.Sudoku'> (2, 2, 2, 2) 4\n",
      "2 2 2 2\n"
     ]
    },
    {
     "data": {
      "text/plain": [
       " 5  3  0 | 0  7  0 | 0  0  0 \n",
       " 6  0  0 | 1  9  5 | 0  0  0 \n",
       " 0  9  8 | 0  0  0 | 0  6  0 \n",
       "---------+---------+---------\n",
       " 8  0  0 | 0  6  0 | 0  0  3 \n",
       " 4  0  0 | 8  0  3 | 0  0  1 \n",
       " 7  0  0 | 0  2  0 | 0  0  6 \n",
       "---------+---------+---------\n",
       " 0  6  0 | 0  0  0 | 2  8  0 \n",
       " 0  0  0 | 4  1  9 | 0  0  5 \n",
       " 0  0  0 | 0  8  0 | 6  0  0 "
      ]
     },
     "execution_count": 39,
     "metadata": {},
     "output_type": "execute_result"
    }
   ],
   "source": [
    "sudoku"
   ]
  },
  {
   "cell_type": "code",
   "execution_count": 216,
   "id": "9e88e08f",
   "metadata": {},
   "outputs": [
    {
     "name": "stdout",
     "output_type": "stream",
     "text": [
      "[ 0 27 54]x[ 3 30 57]x[ 6 33 60]\n",
      "[ 9 36 63]x[12 39 66]x[15 42 69]\n",
      "[18 45 72]x[21 48 75]x[24 51 78]\n",
      "\n",
      "[ 1 28 55]x[ 4 31 58]x[ 7 34 61]\n",
      "[10 37 64]x[13 40 67]x[16 43 70]\n",
      "[19 46 73]x[22 49 76]x[25 52 79]\n",
      "\n",
      "[ 2 29 56]x[ 5 32 59]x[ 8 35 62]\n",
      "[11 38 65]x[14 41 68]x[17 44 71]\n",
      "[20 47 74]x[23 50 77]x[26 53 80]\n"
     ]
    }
   ],
   "source": [
    "print(\"\\n\\n\".join(\"\\n\".join(\"x\".join(str(k) for k in j) for j in i) for i in sudoku_grid.reshape(3,9,3).T.reshape(3,3,3,3)))"
   ]
  },
  {
   "cell_type": "code",
   "execution_count": 197,
   "id": "b6a9d3bd",
   "metadata": {},
   "outputs": [],
   "source": [
    "sudoku_grid = np.array(range(81)).reshape(3,3,3,3) "
   ]
  },
  {
   "cell_type": "code",
   "execution_count": 198,
   "id": "16420e7a",
   "metadata": {
    "scrolled": true
   },
   "outputs": [
    {
     "name": "stdout",
     "output_type": "stream",
     "text": [
      "[0 1 2]x[3 4 5]x[6 7 8]\n",
      "[ 9 10 11]x[12 13 14]x[15 16 17]\n",
      "[18 19 20]x[21 22 23]x[24 25 26]\n",
      "\n",
      "[27 28 29]x[30 31 32]x[33 34 35]\n",
      "[36 37 38]x[39 40 41]x[42 43 44]\n",
      "[45 46 47]x[48 49 50]x[51 52 53]\n",
      "\n",
      "[54 55 56]x[57 58 59]x[60 61 62]\n",
      "[63 64 65]x[66 67 68]x[69 70 71]\n",
      "[72 73 74]x[75 76 77]x[78 79 80]\n"
     ]
    }
   ],
   "source": [
    "print(\"\\n\\n\".join(\"\\n\".join(\"x\".join(str(k) for k in j) for j in i) for i in sudoku_grid.reshape(3,3,3,3)))"
   ]
  },
  {
   "cell_type": "code",
   "execution_count": 218,
   "id": "bc245f1b",
   "metadata": {},
   "outputs": [
    {
     "data": {
      "text/plain": [
       " 0  1  2 | 9  10  11 | 18  19  20 \n",
       " 3  4  5 | 12  13  14 | 21  22  23 \n",
       " 6  7  8 | 15  16  17 | 24  25  26 \n",
       "---------+---------+---------\n",
       " 27  28  29 | 36  37  38 | 45  46  47 \n",
       " 30  31  32 | 39  40  41 | 48  49  50 \n",
       " 33  34  35 | 42  43  44 | 51  52  53 \n",
       "---------+---------+---------\n",
       " 54  55  56 | 63  64  65 | 72  73  74 \n",
       " 57  58  59 | 66  67  68 | 75  76  77 \n",
       " 60  61  62 | 69  70  71 | 78  79  80 "
      ]
     },
     "execution_count": 218,
     "metadata": {},
     "output_type": "execute_result"
    }
   ],
   "source": [
    "Sudoku(sudoku_grid)"
   ]
  },
  {
   "cell_type": "code",
   "execution_count": null,
   "id": "143078f2",
   "metadata": {},
   "outputs": [],
   "source": []
  }
 ],
 "metadata": {
  "kernelspec": {
   "display_name": "Python 3 (ipykernel)",
   "language": "python",
   "name": "python3"
  },
  "language_info": {
   "codemirror_mode": {
    "name": "ipython",
    "version": 3
   },
   "file_extension": ".py",
   "mimetype": "text/x-python",
   "name": "python",
   "nbconvert_exporter": "python",
   "pygments_lexer": "ipython3",
   "version": "3.8.16"
  }
 },
 "nbformat": 4,
 "nbformat_minor": 5
}
