{
 "cells": [
  {
   "cell_type": "code",
   "execution_count": 3,
   "id": "40f5359e",
   "metadata": {},
   "outputs": [],
   "source": [
    "import numpy as np"
   ]
  },
  {
   "cell_type": "markdown",
   "id": "d0194d9d",
   "metadata": {},
   "source": [
    "# SudokuEntry Class"
   ]
  },
  {
   "cell_type": "code",
   "execution_count": 348,
   "id": "d8c57938",
   "metadata": {},
   "outputs": [
    {
     "name": "stdout",
     "output_type": "stream",
     "text": [
      "0\n"
     ]
    },
    {
     "data": {
      "text/plain": [
       "SudokuEntry{3, 6, 7}"
      ]
     },
     "execution_count": 348,
     "metadata": {},
     "output_type": "execute_result"
    }
   ],
   "source": [
    "class SudokuEntry:\n",
    "    def __init__(self, input_entry, size=9, indecisive=0):\n",
    "        possible = np.asarray([input_entry]).reshape((-1,))\n",
    "        if possible.shape[0] == 1 and possible[0] == indecisive:\n",
    "                self.possible = np.ones(size, dtype=bool)\n",
    "        else:\n",
    "            self.possible = np.zeros(size, dtype=bool)\n",
    "            self.possible[possible - 1] = 1\n",
    "    \n",
    "    def count(self):\n",
    "        return self.possible.sum()\n",
    "    \n",
    "    def weightage(self):\n",
    "        return self.possible * np.arange(1, self.possible.shape[0]+1)\n",
    "    \n",
    "    def as_set(self):\n",
    "        s = set(self.weightage())\n",
    "        if 0 in s: s.remove(0)\n",
    "        return s\n",
    "    \n",
    "    def value(self):\n",
    "        return 0 if self.count() > 1 else self.weightage().sum()\n",
    "    \n",
    "    def __str__(self):\n",
    "        return str(self.value())\n",
    "    \n",
    "    def __repr__(self):\n",
    "        return f\"SudokuEntry{self.as_set()}\"\n",
    "    \n",
    "    def __contains__(self, key):\n",
    "        if not (0 < key <= self.possible.shape[0]):\n",
    "            raise IndexError(f\"{key} is out of bound of {repr(self)}, Range: [1, {self.possible.shape[0]}]\")\n",
    "        return self.possible[key-1]\n",
    "    \n",
    "    def __eq__(self, value):\n",
    "        return self.value() == value\n",
    "    \n",
    "    def __add__(self, other):\n",
    "        if isinstance(other, SudokuEntry):\n",
    "            new = SudokuEntry(0, size=self.possible.shape[0])\n",
    "            new.possible = self.possible | other.possible\n",
    "            return new\n",
    "        else:\n",
    "            raise ValueError(\"Unsupported operand type for -: 'SudokuEntry' and {}\".format(type(other)))\n",
    "    \n",
    "    \n",
    "    def __sub__(self, other):\n",
    "        if isinstance(other, SudokuEntry):\n",
    "            new = self + other\n",
    "            new.possible = new.possible ^ other.possible\n",
    "            return new\n",
    "        else:\n",
    "            raise ValueError(\"Unsupported operand type for -: 'SudokuEntry' and {}\".format(type(other)))\n",
    "    \n",
    "    def __mul__(self, scalar):\n",
    "        if isinstance(scalar, (int, float)):\n",
    "            new = SudokuEntry(0, size=self.possible.shape[0])\n",
    "            if scalar: new.possible = self.possible\n",
    "            return new\n",
    "        else:\n",
    "            raise ValueError(\"Unsupported operand type for *: 'SudokuEntry' and {}\".format(type(scalar)))\n",
    "\n",
    "    def remove_possibility(self, val):\n",
    "        if val in self:\n",
    "            self.possible[val-1] = False\n",
    "            \n",
    "    def set_val(self, vals):\n",
    "        self.possible.fill(0)\n",
    "        self.possible[np.asarray(vals)-1] = 1\n",
    "        \n",
    "    def copy(self):\n",
    "        return SudokuEntry([*self.as_set()])\n",
    "\n",
    "s = SudokuEntry([6, 7, 3])\n",
    "print(s)\n",
    "s"
   ]
  },
  {
   "cell_type": "markdown",
   "id": "709c4a85",
   "metadata": {},
   "source": [
    "# SudokuEntry Demo:"
   ]
  },
  {
   "cell_type": "code",
   "execution_count": 349,
   "id": "ab834729",
   "metadata": {},
   "outputs": [
    {
     "data": {
      "text/plain": [
       "SudokuEntry{3, 6, 7}"
      ]
     },
     "execution_count": 349,
     "metadata": {},
     "output_type": "execute_result"
    }
   ],
   "source": [
    "s.copy()"
   ]
  },
  {
   "cell_type": "code",
   "execution_count": 530,
   "id": "9926fb75",
   "metadata": {},
   "outputs": [
    {
     "data": {
      "text/plain": [
       "SudokuEntry{4}"
      ]
     },
     "execution_count": 530,
     "metadata": {},
     "output_type": "execute_result"
    }
   ],
   "source": [
    "s1 = SudokuEntry([1, 4])\n",
    "s2 = SudokuEntry([1, 2, 3])\n",
    "s1-s2"
   ]
  },
  {
   "cell_type": "code",
   "execution_count": 533,
   "id": "b93123f8",
   "metadata": {},
   "outputs": [
    {
     "data": {
      "text/plain": [
       "SudokuEntry{1, 2, 3, 4, 5, 6, 7, 8, 9}"
      ]
     },
     "execution_count": 533,
     "metadata": {},
     "output_type": "execute_result"
    }
   ],
   "source": [
    "s1*0"
   ]
  },
  {
   "cell_type": "code",
   "execution_count": 392,
   "id": "f909c187",
   "metadata": {},
   "outputs": [
    {
     "data": {
      "text/plain": [
       "SudokuEntry{3, 4}"
      ]
     },
     "execution_count": 392,
     "metadata": {},
     "output_type": "execute_result"
    }
   ],
   "source": [
    "s.set_val([3, 4])\n",
    "s"
   ]
  },
  {
   "cell_type": "code",
   "execution_count": 228,
   "id": "8cd6ef6a",
   "metadata": {},
   "outputs": [],
   "source": [
    "s.remove_possibility(3)"
   ]
  },
  {
   "cell_type": "code",
   "execution_count": 224,
   "id": "f93d786d",
   "metadata": {},
   "outputs": [
    {
     "data": {
      "text/plain": [
       "1"
      ]
     },
     "execution_count": 224,
     "metadata": {},
     "output_type": "execute_result"
    }
   ],
   "source": [
    "s.count()"
   ]
  },
  {
   "cell_type": "code",
   "execution_count": 225,
   "id": "3a83e3c8",
   "metadata": {},
   "outputs": [
    {
     "data": {
      "text/plain": [
       "{6}"
      ]
     },
     "execution_count": 225,
     "metadata": {},
     "output_type": "execute_result"
    }
   ],
   "source": [
    "s.as_set()"
   ]
  },
  {
   "cell_type": "code",
   "execution_count": 101,
   "id": "1b1121f8",
   "metadata": {},
   "outputs": [
    {
     "data": {
      "text/plain": [
       "True"
      ]
     },
     "execution_count": 101,
     "metadata": {},
     "output_type": "execute_result"
    }
   ],
   "source": [
    "6 in s"
   ]
  },
  {
   "cell_type": "code",
   "execution_count": 213,
   "id": "0cd15c7c",
   "metadata": {},
   "outputs": [
    {
     "name": "stdout",
     "output_type": "stream",
     "text": [
      "9\n"
     ]
    },
    {
     "data": {
      "text/plain": [
       "False"
      ]
     },
     "execution_count": 213,
     "metadata": {},
     "output_type": "execute_result"
    }
   ],
   "source": [
    "9 in s"
   ]
  },
  {
   "cell_type": "code",
   "execution_count": 103,
   "id": "be09f877",
   "metadata": {},
   "outputs": [
    {
     "data": {
      "text/plain": [
       "False"
      ]
     },
     "execution_count": 103,
     "metadata": {},
     "output_type": "execute_result"
    }
   ],
   "source": [
    "s == 6"
   ]
  },
  {
   "cell_type": "code",
   "execution_count": 104,
   "id": "84f19f73",
   "metadata": {},
   "outputs": [
    {
     "data": {
      "text/plain": [
       "True"
      ]
     },
     "execution_count": 104,
     "metadata": {},
     "output_type": "execute_result"
    }
   ],
   "source": [
    "s == 0"
   ]
  },
  {
   "cell_type": "code",
   "execution_count": 106,
   "id": "ad398e8e",
   "metadata": {},
   "outputs": [
    {
     "data": {
      "text/plain": [
       "True"
      ]
     },
     "execution_count": 106,
     "metadata": {},
     "output_type": "execute_result"
    }
   ],
   "source": [
    "0 in [s]"
   ]
  },
  {
   "cell_type": "markdown",
   "id": "eeba75f9",
   "metadata": {},
   "source": [
    "# Sudoku Class:"
   ]
  },
  {
   "cell_type": "code",
   "execution_count": 421,
   "id": "dfc1d4ff",
   "metadata": {},
   "outputs": [
    {
     "name": "stdout",
     "output_type": "stream",
     "text": [
      "Sudoku grid:\n",
      " 5  3  0 | 0  7  0 | 0  0  0 \n",
      " 6  0  0 | 1  9  5 | 0  0  0 \n",
      " 0  9  8 | 0  0  0 | 0  6  0 \n",
      "---------+---------+---------\n",
      " 8  0  0 | 0  6  0 | 0  0  3 \n",
      " 4  0  0 | 8  0  3 | 0  0  1 \n",
      " 7  0  0 | 0  2  0 | 0  0  6 \n",
      "---------+---------+---------\n",
      " 0  6  0 | 0  0  0 | 2  8  0 \n",
      " 0  0  0 | 4  1  9 | 0  0  5 \n",
      " 0  0  0 | 0  8  0 | 6  0  0 \n"
     ]
    }
   ],
   "source": [
    "import numpy as np\n",
    "\n",
    "class Sudoku(np.ndarray):\n",
    "    def __new__(cls, input_array):\n",
    "        obj = np.vectorize(lambda x: SudokuEntry(x, len(input_array) * len(input_array[0])))(np.asarray(input_array).view(cls))\n",
    "        if len(obj.shape) != 4:\n",
    "            raise ValueError(\"Input array must have shape (block_rows, block_cols, inner_rows, inner_cols)\")\n",
    "        return obj\n",
    "\n",
    "    def __array_finalize__(self, obj):\n",
    "        if obj is None:\n",
    "            return\n",
    "\n",
    "    def get(self, row, col):\n",
    "        row_block = row // self.shape[2]\n",
    "        inner_row = row % self.shape[2]\n",
    "        col_block = col // self.shape[3]\n",
    "        inner_col = col % self.shape[3]\n",
    "        return super(Sudoku, self).__getitem__((row_block, col_block, inner_row, inner_col))\n",
    "    \n",
    "    def get_row(self, row, reduce=True):\n",
    "        block_row = row // self.shape[2]\n",
    "        inner_row = row % self.shape[2]\n",
    "        ret = super(Sudoku, self).__getitem__((block_row, slice(None, None, None), inner_row, slice(None, None, None)))\n",
    "        if reduce: return ret.reshape((-1,))\n",
    "        return ret\n",
    "        \n",
    "    def rows(self, reduce=True):\n",
    "        for i in range(self.shape[0]*self.shape[1]): yield self.get_row(i, reduce=reduce)\n",
    "    \n",
    "    def get_col(self, col, reduce=True):\n",
    "        block_col = col // self.shape[3]\n",
    "        inner_col = col % self.shape[3]\n",
    "        ret = super(Sudoku, self).__getitem__((slice(None, None, None), block_col, slice(None, None, None), inner_col))\n",
    "        if reduce: return ret.reshape((-1,))\n",
    "        return ret\n",
    "    \n",
    "    def cols(self, reduce=True):\n",
    "        for i in range(self.shape[0]*self.shape[1]): yield self.get_col(i, reduce=reduce)\n",
    "            \n",
    "    def get_block(self, block_row, block_col, reduce=False):\n",
    "        if reduce: return self[block_row, block_col].reshape((-1,))\n",
    "        else: return self[block_row, block_col]\n",
    "    \n",
    "    def blocks(self, reduce=False, enum=False):\n",
    "        for block_row in range(self.shape[0]):\n",
    "            for block_col in range(self.shape[1]):\n",
    "                if enum: yield block_row, block_col, self.get_block(block_row, block_col, reduce=reduce)\n",
    "                else: yield self.get_block(block_row, block_col, reduce=reduce)\n",
    "        \n",
    "    def __setitem__(self, item, value):\n",
    "        if isinstance(item, tuple) and len(item) == 4: super().__setitem__(item, value)\n",
    "        raise IndexError(\"Wrong indexing for Sudoku: must need 4 indices\")\n",
    "\n",
    "    def __str__(self):\n",
    "        try:\n",
    "            lines = []\n",
    "            for block_row in range(self.shape[0]):\n",
    "                for row in range(self.shape[2]):\n",
    "                    line = \"\"\n",
    "                    for block_col in range(self.shape[1]):\n",
    "                        for col in range(self.shape[3]):\n",
    "                            value = self[block_row, block_col, row, col]\n",
    "                            line += f\" {str(value)} \"\n",
    "                        if block_col < self.shape[1] - 1:\n",
    "                            line += \"|\"\n",
    "                    lines.append(line)\n",
    "                if block_row < self.shape[0] - 1:\n",
    "                    lines.append(\"+\".join('-'*(3*self.shape[3]) for i in range(self.shape[1])))\n",
    "            return \"\\n\".join(lines)\n",
    "        except:\n",
    "            return super().__repr__()\n",
    "    \n",
    "    def __repr__(self):\n",
    "        try:\n",
    "            lines = []\n",
    "            for block_row in range(self.shape[0]):\n",
    "                for row in range(self.shape[2]):\n",
    "                    line = \"\"\n",
    "                    for block_col in range(self.shape[1]):\n",
    "                        for col in range(self.shape[3]):\n",
    "                            value = self[block_row, block_col, row, col]\n",
    "                            line += f\" {'-'.join(repr(value)[12:-1].split(', '))} \"\n",
    "                        if block_col < self.shape[1] - 1:\n",
    "                            line += \"|\"\n",
    "                    lines.append(line)\n",
    "                if block_row < self.shape[0] - 1:\n",
    "                    lines.append(\"+\".join('-'*(3*self.shape[3]) for i in range(self.shape[1])))\n",
    "            return \"\\n\".join(lines)\n",
    "        except:\n",
    "            return super().__repr__()\n",
    "    \n",
    "    def copy(self):\n",
    "        return np.vectorize(lambda x: x.copy())(super().copy())\n",
    "\n",
    "\n",
    "# Example usage:\n",
    "sudoku_grid = np.array([\n",
    "    [[[5, 3, 0], [6, 0, 0], [0, 9, 8]],\n",
    "    [[0, 7, 0], [1, 9, 5], [0, 0, 0]],\n",
    "    [[0, 0, 0], [0, 0, 0], [0, 6, 0]]],\n",
    "    [[[8, 0, 0], [4, 0, 0], [7, 0, 0]],\n",
    "    [[0, 6, 0], [8, 0, 3], [0, 2, 0]],\n",
    "    [[0, 0, 3], [0, 0, 1], [0, 0, 6]]],\n",
    "    [[[0, 6, 0], [0, 0, 0], [0, 0, 0]],\n",
    "    [[0, 0, 0], [4, 1, 9], [0, 8, 0]],\n",
    "    [[2, 8, 0], [0, 0, 5], [6, 0, 0]]]\n",
    "])\n",
    "\n",
    "sudoku = Sudoku(sudoku_grid)\n",
    "print(\"Sudoku grid:\")\n",
    "print(sudoku)\n",
    "# sudoku.get_row(1)"
   ]
  },
  {
   "cell_type": "markdown",
   "id": "f3ba5d68",
   "metadata": {},
   "source": [
    "# Sudoku Class Demo:"
   ]
  },
  {
   "cell_type": "code",
   "execution_count": 404,
   "id": "407ce7b5",
   "metadata": {},
   "outputs": [
    {
     "data": {
      "text/plain": [
       " 5  3  1-2-3-4-5-6-7-8-9 | 1-2-3-4-5-6-7-8-9  7  1-2-3-4-5-6-7-8-9 | 1-2-3-4-5-6-7-8-9  1-2-3-4-5-6-7-8-9  1-2-3-4-5-6-7-8-9 \n",
       " 6  1-2-3-4-5-6-7-8-9  1-2-3-4-5-6-7-8-9 | 1  9  5 | 1-2-3-4-5-6-7-8-9  1-2-3-4-5-6-7-8-9  1-2-3-4-5-6-7-8-9 \n",
       " 1-2-3-4-5-6-7-8-9  9  8 | 1-2-3-4-5-6-7-8-9  1-2-3-4-5-6-7-8-9  1-2-3-4-5-6-7-8-9 | 1-2-3-4-5-6-7-8-9  6  1-2-3-4-5-6-7-8-9 \n",
       "---------+---------+---------\n",
       " 8  1-2-3-4-5-6-7-8-9  1-2-3-4-5-6-7-8-9 | 1-2-3-4-5-6-7-8-9  6  1-2-3-4-5-6-7-8-9 | 1-2-3-4-5-6-7-8-9  1-2-3-4-5-6-7-8-9  3 \n",
       " 4  1-2-3-4-5-6-7-8-9  1-2-3-4-5-6-7-8-9 | 8  1-2-3-4-5-6-7-8-9  3 | 1-2-3-4-5-6-7-8-9  1-2-3-4-5-6-7-8-9  1 \n",
       " 7  1-2-3-4-5-6-7-8-9  1-2-3-4-5-6-7-8-9 | 1-2-3-4-5-6-7-8-9  2  1-2-3-4-5-6-7-8-9 | 1-2-3-4-5-6-7-8-9  1-2-3-4-5-6-7-8-9  6 \n",
       "---------+---------+---------\n",
       " 1-2-3-4-5-6-7-8-9  6  1-2-3-4-5-6-7-8-9 | 1-2-3-4-5-6-7-8-9  1-2-3-4-5-6-7-8-9  1-2-3-4-5-6-7-8-9 | 2  8  1-2-3-4-5-6-7-8-9 \n",
       " 1-2-3-4-5-6-7-8-9  1-2-3-4-5-6-7-8-9  1-2-3-4-5-6-7-8-9 | 4  1  9 | 1-2-3-4-5-6-7-8-9  1-2-3-4-5-6-7-8-9  5 \n",
       " 1-2-3-4-5-6-7-8-9  1-2-3-4-5-6-7-8-9  1-2-3-4-5-6-7-8-9 | 1-2-3-4-5-6-7-8-9  8  1-2-3-4-5-6-7-8-9 | 6  1-2-3-4-5-6-7-8-9  1-2-3-4-5-6-7-8-9 "
      ]
     },
     "execution_count": 404,
     "metadata": {},
     "output_type": "execute_result"
    }
   ],
   "source": [
    "sudoku"
   ]
  },
  {
   "cell_type": "code",
   "execution_count": 243,
   "id": "e9b04001",
   "metadata": {
    "collapsed": true
   },
   "outputs": [
    {
     "name": "stdout",
     "output_type": "stream",
     "text": [
      "Sudoku([SudokuEntry{5}, SudokuEntry{3},\n",
      "        SudokuEntry{1, 2, 3, 4, 5, 6, 7, 8, 9}, SudokuEntry{6},\n",
      "        SudokuEntry{1, 2, 3, 4, 5, 6, 7, 8, 9},\n",
      "        SudokuEntry{1, 2, 3, 4, 5, 6, 7, 8, 9},\n",
      "        SudokuEntry{1, 2, 3, 4, 5, 6, 7, 8, 9}, SudokuEntry{9},\n",
      "        SudokuEntry{8}], dtype=object)\n",
      "Sudoku([SudokuEntry{1, 2, 3, 4, 5, 6, 7, 8, 9}, SudokuEntry{7},\n",
      "        SudokuEntry{1, 2, 3, 4, 5, 6, 7, 8, 9}, SudokuEntry{1},\n",
      "        SudokuEntry{9}, SudokuEntry{5},\n",
      "        SudokuEntry{1, 2, 3, 4, 5, 6, 7, 8, 9},\n",
      "        SudokuEntry{1, 2, 3, 4, 5, 6, 7, 8, 9},\n",
      "        SudokuEntry{1, 2, 3, 4, 5, 6, 7, 8, 9}], dtype=object)\n",
      "Sudoku([SudokuEntry{1, 2, 3, 4, 5, 6, 7, 8, 9},\n",
      "        SudokuEntry{1, 2, 3, 4, 5, 6, 7, 8, 9},\n",
      "        SudokuEntry{1, 2, 3, 4, 5, 6, 7, 8, 9},\n",
      "        SudokuEntry{1, 2, 3, 4, 5, 6, 7, 8, 9},\n",
      "        SudokuEntry{1, 2, 3, 4, 5, 6, 7, 8, 9},\n",
      "        SudokuEntry{1, 2, 3, 4, 5, 6, 7, 8, 9},\n",
      "        SudokuEntry{1, 2, 3, 4, 5, 6, 7, 8, 9}, SudokuEntry{6},\n",
      "        SudokuEntry{1, 2, 3, 4, 5, 6, 7, 8, 9}], dtype=object)\n",
      "Sudoku([SudokuEntry{8}, SudokuEntry{1, 2, 3, 4, 5, 6, 7, 8, 9},\n",
      "        SudokuEntry{1, 2, 3, 4, 5, 6, 7, 8, 9}, SudokuEntry{4},\n",
      "        SudokuEntry{1, 2, 3, 4, 5, 6, 7, 8, 9},\n",
      "        SudokuEntry{1, 2, 3, 4, 5, 6, 7, 8, 9}, SudokuEntry{7},\n",
      "        SudokuEntry{1, 2, 3, 4, 5, 6, 7, 8, 9},\n",
      "        SudokuEntry{1, 2, 3, 4, 5, 6, 7, 8, 9}], dtype=object)\n",
      "Sudoku([SudokuEntry{1, 2, 3, 4, 5, 6, 7, 8, 9}, SudokuEntry{6},\n",
      "        SudokuEntry{1, 2, 3, 4, 5, 6, 7, 8, 9}, SudokuEntry{8},\n",
      "        SudokuEntry{1, 2, 3, 4, 5, 6, 7, 8, 9}, SudokuEntry{3},\n",
      "        SudokuEntry{1, 2, 3, 4, 5, 6, 7, 8, 9}, SudokuEntry{2},\n",
      "        SudokuEntry{1, 2, 3, 4, 5, 6, 7, 8, 9}], dtype=object)\n",
      "Sudoku([SudokuEntry{1, 2, 3, 4, 5, 6, 7, 8, 9},\n",
      "        SudokuEntry{1, 2, 3, 4, 5, 6, 7, 8, 9}, SudokuEntry{3},\n",
      "        SudokuEntry{1, 2, 3, 4, 5, 6, 7, 8, 9},\n",
      "        SudokuEntry{1, 2, 3, 4, 5, 6, 7, 8, 9}, SudokuEntry{1},\n",
      "        SudokuEntry{1, 2, 3, 4, 5, 6, 7, 8, 9},\n",
      "        SudokuEntry{1, 2, 3, 4, 5, 6, 7, 8, 9}, SudokuEntry{6}],\n",
      "       dtype=object)\n",
      "Sudoku([SudokuEntry{1, 2, 3, 4, 5, 6, 7, 8, 9}, SudokuEntry{6},\n",
      "        SudokuEntry{1, 2, 3, 4, 5, 6, 7, 8, 9},\n",
      "        SudokuEntry{1, 2, 3, 4, 5, 6, 7, 8, 9},\n",
      "        SudokuEntry{1, 2, 3, 4, 5, 6, 7, 8, 9},\n",
      "        SudokuEntry{1, 2, 3, 4, 5, 6, 7, 8, 9},\n",
      "        SudokuEntry{1, 2, 3, 4, 5, 6, 7, 8, 9},\n",
      "        SudokuEntry{1, 2, 3, 4, 5, 6, 7, 8, 9},\n",
      "        SudokuEntry{1, 2, 3, 4, 5, 6, 7, 8, 9}], dtype=object)\n",
      "Sudoku([SudokuEntry{1, 2, 3, 4, 5, 6, 7, 8, 9},\n",
      "        SudokuEntry{1, 2, 3, 4, 5, 6, 7, 8, 9},\n",
      "        SudokuEntry{1, 2, 3, 4, 5, 6, 7, 8, 9}, SudokuEntry{4},\n",
      "        SudokuEntry{1}, SudokuEntry{9},\n",
      "        SudokuEntry{1, 2, 3, 4, 5, 6, 7, 8, 9}, SudokuEntry{8},\n",
      "        SudokuEntry{1, 2, 3, 4, 5, 6, 7, 8, 9}], dtype=object)\n",
      "Sudoku([SudokuEntry{2}, SudokuEntry{8},\n",
      "        SudokuEntry{1, 2, 3, 4, 5, 6, 7, 8, 9},\n",
      "        SudokuEntry{1, 2, 3, 4, 5, 6, 7, 8, 9},\n",
      "        SudokuEntry{1, 2, 3, 4, 5, 6, 7, 8, 9}, SudokuEntry{5},\n",
      "        SudokuEntry{6}, SudokuEntry{1, 2, 3, 4, 5, 6, 7, 8, 9},\n",
      "        SudokuEntry{1, 2, 3, 4, 5, 6, 7, 8, 9}], dtype=object)\n"
     ]
    }
   ],
   "source": [
    "for block in sudoku.blocks(reduce=True):\n",
    "    print(block)"
   ]
  },
  {
   "cell_type": "code",
   "execution_count": 207,
   "id": "9c6b6114",
   "metadata": {
    "scrolled": true
   },
   "outputs": [
    {
     "data": {
      "text/plain": [
       "Sudoku([SudokuEntry{6}, SudokuEntry{1, 2, 3, 4, 5, 6, 7, 8, 9},\n",
       "        SudokuEntry{1, 2, 3, 4, 5, 6, 7, 8, 9}, SudokuEntry{1},\n",
       "        SudokuEntry{9}, SudokuEntry{5},\n",
       "        SudokuEntry{1, 2, 3, 4, 5, 6, 7, 8, 9},\n",
       "        SudokuEntry{1, 2, 3, 4, 5, 6, 7, 8, 9},\n",
       "        SudokuEntry{1, 2, 3, 4, 5, 6, 7, 8, 9}], dtype=object)"
      ]
     },
     "execution_count": 207,
     "metadata": {},
     "output_type": "execute_result"
    }
   ],
   "source": [
    "sudoku.get_row(1)"
   ]
  },
  {
   "cell_type": "code",
   "execution_count": 196,
   "id": "f7a1de9b",
   "metadata": {},
   "outputs": [
    {
     "data": {
      "text/plain": [
       "__main__.SudokuEntry"
      ]
     },
     "execution_count": 196,
     "metadata": {},
     "output_type": "execute_result"
    }
   ],
   "source": [
    "type(sudoku.get(0, 0))"
   ]
  },
  {
   "cell_type": "code",
   "execution_count": 199,
   "id": "dfb5ab2b",
   "metadata": {},
   "outputs": [
    {
     "data": {
      "text/plain": [
       "Sudoku([SudokuEntry{5}, SudokuEntry{3},\n",
       "        SudokuEntry{1, 2, 3, 4, 5, 6, 7, 8, 9},\n",
       "        SudokuEntry{1, 2, 3, 4, 5, 6, 7, 8, 9}, SudokuEntry{7},\n",
       "        SudokuEntry{1, 2, 3, 4, 5, 6, 7, 8, 9},\n",
       "        SudokuEntry{1, 2, 3, 4, 5, 6, 7, 8, 9},\n",
       "        SudokuEntry{1, 2, 3, 4, 5, 6, 7, 8, 9},\n",
       "        SudokuEntry{1, 2, 3, 4, 5, 6, 7, 8, 9}], dtype=object)"
      ]
     },
     "execution_count": 199,
     "metadata": {},
     "output_type": "execute_result"
    }
   ],
   "source": [
    "sudoku[0, :, 0, :].reshape(-1)"
   ]
  },
  {
   "cell_type": "code",
   "execution_count": 176,
   "id": "ee98bb8d",
   "metadata": {},
   "outputs": [
    {
     "data": {
      "text/plain": [
       "5"
      ]
     },
     "execution_count": 176,
     "metadata": {},
     "output_type": "execute_result"
    }
   ],
   "source": [
    "sudoku.get(1, 5)"
   ]
  },
  {
   "cell_type": "code",
   "execution_count": 204,
   "id": "426f9ad3",
   "metadata": {
    "collapsed": true
   },
   "outputs": [
    {
     "name": "stdout",
     "output_type": "stream",
     "text": [
      "Sudoku([[SudokuEntry{5}, SudokuEntry{3},\n",
      "         SudokuEntry{1, 2, 3, 4, 5, 6, 7, 8, 9}],\n",
      "        [SudokuEntry{1, 2, 3, 4, 5, 6, 7, 8, 9}, SudokuEntry{7},\n",
      "         SudokuEntry{1, 2, 3, 4, 5, 6, 7, 8, 9}],\n",
      "        [SudokuEntry{1, 2, 3, 4, 5, 6, 7, 8, 9},\n",
      "         SudokuEntry{1, 2, 3, 4, 5, 6, 7, 8, 9},\n",
      "         SudokuEntry{1, 2, 3, 4, 5, 6, 7, 8, 9}]], dtype=object)\n",
      "Sudoku([[SudokuEntry{6}, SudokuEntry{1, 2, 3, 4, 5, 6, 7, 8, 9},\n",
      "         SudokuEntry{1, 2, 3, 4, 5, 6, 7, 8, 9}],\n",
      "        [SudokuEntry{1}, SudokuEntry{9}, SudokuEntry{5}],\n",
      "        [SudokuEntry{1, 2, 3, 4, 5, 6, 7, 8, 9},\n",
      "         SudokuEntry{1, 2, 3, 4, 5, 6, 7, 8, 9},\n",
      "         SudokuEntry{1, 2, 3, 4, 5, 6, 7, 8, 9}]], dtype=object)\n",
      "Sudoku([[SudokuEntry{1, 2, 3, 4, 5, 6, 7, 8, 9}, SudokuEntry{9},\n",
      "         SudokuEntry{8}],\n",
      "        [SudokuEntry{1, 2, 3, 4, 5, 6, 7, 8, 9},\n",
      "         SudokuEntry{1, 2, 3, 4, 5, 6, 7, 8, 9},\n",
      "         SudokuEntry{1, 2, 3, 4, 5, 6, 7, 8, 9}],\n",
      "        [SudokuEntry{1, 2, 3, 4, 5, 6, 7, 8, 9}, SudokuEntry{6},\n",
      "         SudokuEntry{1, 2, 3, 4, 5, 6, 7, 8, 9}]], dtype=object)\n",
      "Sudoku([[SudokuEntry{8}, SudokuEntry{1, 2, 3, 4, 5, 6, 7, 8, 9},\n",
      "         SudokuEntry{1, 2, 3, 4, 5, 6, 7, 8, 9}],\n",
      "        [SudokuEntry{1, 2, 3, 4, 5, 6, 7, 8, 9}, SudokuEntry{6},\n",
      "         SudokuEntry{1, 2, 3, 4, 5, 6, 7, 8, 9}],\n",
      "        [SudokuEntry{1, 2, 3, 4, 5, 6, 7, 8, 9},\n",
      "         SudokuEntry{1, 2, 3, 4, 5, 6, 7, 8, 9}, SudokuEntry{3}]],\n",
      "       dtype=object)\n",
      "Sudoku([[SudokuEntry{4}, SudokuEntry{1, 2, 3, 4, 5, 6, 7, 8, 9},\n",
      "         SudokuEntry{1, 2, 3, 4, 5, 6, 7, 8, 9}],\n",
      "        [SudokuEntry{8}, SudokuEntry{1, 2, 3, 4, 5, 6, 7, 8, 9},\n",
      "         SudokuEntry{3}],\n",
      "        [SudokuEntry{1, 2, 3, 4, 5, 6, 7, 8, 9},\n",
      "         SudokuEntry{1, 2, 3, 4, 5, 6, 7, 8, 9}, SudokuEntry{1}]],\n",
      "       dtype=object)\n",
      "Sudoku([[SudokuEntry{7}, SudokuEntry{1, 2, 3, 4, 5, 6, 7, 8, 9},\n",
      "         SudokuEntry{1, 2, 3, 4, 5, 6, 7, 8, 9}],\n",
      "        [SudokuEntry{1, 2, 3, 4, 5, 6, 7, 8, 9}, SudokuEntry{2},\n",
      "         SudokuEntry{1, 2, 3, 4, 5, 6, 7, 8, 9}],\n",
      "        [SudokuEntry{1, 2, 3, 4, 5, 6, 7, 8, 9},\n",
      "         SudokuEntry{1, 2, 3, 4, 5, 6, 7, 8, 9}, SudokuEntry{6}]],\n",
      "       dtype=object)\n",
      "Sudoku([[SudokuEntry{1, 2, 3, 4, 5, 6, 7, 8, 9}, SudokuEntry{6},\n",
      "         SudokuEntry{1, 2, 3, 4, 5, 6, 7, 8, 9}],\n",
      "        [SudokuEntry{1, 2, 3, 4, 5, 6, 7, 8, 9},\n",
      "         SudokuEntry{1, 2, 3, 4, 5, 6, 7, 8, 9},\n",
      "         SudokuEntry{1, 2, 3, 4, 5, 6, 7, 8, 9}],\n",
      "        [SudokuEntry{2}, SudokuEntry{8},\n",
      "         SudokuEntry{1, 2, 3, 4, 5, 6, 7, 8, 9}]], dtype=object)\n",
      "Sudoku([[SudokuEntry{1, 2, 3, 4, 5, 6, 7, 8, 9},\n",
      "         SudokuEntry{1, 2, 3, 4, 5, 6, 7, 8, 9},\n",
      "         SudokuEntry{1, 2, 3, 4, 5, 6, 7, 8, 9}],\n",
      "        [SudokuEntry{4}, SudokuEntry{1}, SudokuEntry{9}],\n",
      "        [SudokuEntry{1, 2, 3, 4, 5, 6, 7, 8, 9},\n",
      "         SudokuEntry{1, 2, 3, 4, 5, 6, 7, 8, 9}, SudokuEntry{5}]],\n",
      "       dtype=object)\n",
      "Sudoku([[SudokuEntry{1, 2, 3, 4, 5, 6, 7, 8, 9},\n",
      "         SudokuEntry{1, 2, 3, 4, 5, 6, 7, 8, 9},\n",
      "         SudokuEntry{1, 2, 3, 4, 5, 6, 7, 8, 9}],\n",
      "        [SudokuEntry{1, 2, 3, 4, 5, 6, 7, 8, 9}, SudokuEntry{8},\n",
      "         SudokuEntry{1, 2, 3, 4, 5, 6, 7, 8, 9}],\n",
      "        [SudokuEntry{6}, SudokuEntry{1, 2, 3, 4, 5, 6, 7, 8, 9},\n",
      "         SudokuEntry{1, 2, 3, 4, 5, 6, 7, 8, 9}]], dtype=object)\n"
     ]
    }
   ],
   "source": [
    "for row in sudoku.rows():\n",
    "    print(row)"
   ]
  },
  {
   "cell_type": "code",
   "execution_count": 216,
   "id": "9e88e08f",
   "metadata": {},
   "outputs": [
    {
     "name": "stdout",
     "output_type": "stream",
     "text": [
      "[ 0 27 54]x[ 3 30 57]x[ 6 33 60]\n",
      "[ 9 36 63]x[12 39 66]x[15 42 69]\n",
      "[18 45 72]x[21 48 75]x[24 51 78]\n",
      "\n",
      "[ 1 28 55]x[ 4 31 58]x[ 7 34 61]\n",
      "[10 37 64]x[13 40 67]x[16 43 70]\n",
      "[19 46 73]x[22 49 76]x[25 52 79]\n",
      "\n",
      "[ 2 29 56]x[ 5 32 59]x[ 8 35 62]\n",
      "[11 38 65]x[14 41 68]x[17 44 71]\n",
      "[20 47 74]x[23 50 77]x[26 53 80]\n"
     ]
    }
   ],
   "source": [
    "print(\"\\n\\n\".join(\"\\n\".join(\"x\".join(str(k) for k in j) for j in i) for i in sudoku_grid.reshape(3,9,3).T.reshape(3,3,3,3)))"
   ]
  },
  {
   "cell_type": "code",
   "execution_count": 197,
   "id": "b6a9d3bd",
   "metadata": {},
   "outputs": [],
   "source": [
    "sudoku_grid = np.array(range(81)).reshape(3,3,3,3) "
   ]
  },
  {
   "cell_type": "code",
   "execution_count": 198,
   "id": "16420e7a",
   "metadata": {
    "scrolled": true
   },
   "outputs": [
    {
     "name": "stdout",
     "output_type": "stream",
     "text": [
      "[0 1 2]x[3 4 5]x[6 7 8]\n",
      "[ 9 10 11]x[12 13 14]x[15 16 17]\n",
      "[18 19 20]x[21 22 23]x[24 25 26]\n",
      "\n",
      "[27 28 29]x[30 31 32]x[33 34 35]\n",
      "[36 37 38]x[39 40 41]x[42 43 44]\n",
      "[45 46 47]x[48 49 50]x[51 52 53]\n",
      "\n",
      "[54 55 56]x[57 58 59]x[60 61 62]\n",
      "[63 64 65]x[66 67 68]x[69 70 71]\n",
      "[72 73 74]x[75 76 77]x[78 79 80]\n"
     ]
    }
   ],
   "source": [
    "print(\"\\n\\n\".join(\"\\n\".join(\"x\".join(str(k) for k in j) for j in i) for i in sudoku_grid.reshape(3,3,3,3)))"
   ]
  },
  {
   "cell_type": "code",
   "execution_count": 218,
   "id": "bc245f1b",
   "metadata": {},
   "outputs": [
    {
     "data": {
      "text/plain": [
       " 0  1  2 | 9  10  11 | 18  19  20 \n",
       " 3  4  5 | 12  13  14 | 21  22  23 \n",
       " 6  7  8 | 15  16  17 | 24  25  26 \n",
       "---------+---------+---------\n",
       " 27  28  29 | 36  37  38 | 45  46  47 \n",
       " 30  31  32 | 39  40  41 | 48  49  50 \n",
       " 33  34  35 | 42  43  44 | 51  52  53 \n",
       "---------+---------+---------\n",
       " 54  55  56 | 63  64  65 | 72  73  74 \n",
       " 57  58  59 | 66  67  68 | 75  76  77 \n",
       " 60  61  62 | 69  70  71 | 78  79  80 "
      ]
     },
     "execution_count": 218,
     "metadata": {},
     "output_type": "execute_result"
    }
   ],
   "source": [
    "Sudoku(sudoku_grid)"
   ]
  },
  {
   "cell_type": "code",
   "execution_count": 7,
   "id": "bd786e45",
   "metadata": {},
   "outputs": [
    {
     "name": "stdout",
     "output_type": "stream",
     "text": [
      " 9  0  0 | 3  0  0 | 0  0  0 \n",
      " 2  0  5 | 0  0  1 | 6  0  0 \n",
      " 0  0  0 | 0  6  0 | 0  4  0 \n",
      "---------+---------+---------\n",
      " 0  0  0 | 7  0  0 | 0  0  3 \n",
      " 6  0  1 | 0  0  2 | 4  0  0 \n",
      " 0  8  0 | 0  0  0 | 0  0  0 \n",
      "---------+---------+---------\n",
      " 0  9  0 | 0  0  0 | 5  0  0 \n",
      " 0  4  0 | 0  0  8 | 0  0  0 \n",
      " 5  0  8 | 2  0  0 | 0  7  0 \n"
     ]
    }
   ],
   "source": [
    "# mat = \"\"\"5 3 0 0 7 0 0 0 0\n",
    "# 6 0 0 1 9 5 0 0 0\n",
    "# 0 9 8 0 0 0 0 6 0\n",
    "# 8 0 0 0 6 0 0 0 3\n",
    "# 4 0 0 8 0 3 0 0 1\n",
    "# 7 0 0 0 2 0 0 0 6\n",
    "# 0 6 0 0 0 0 2 8 0 \n",
    "# 0 0 0 4 1 9 0 0 5 \n",
    "# 0 0 0 0 8 0 6 0 0\"\"\"\n",
    "\n",
    "mat = \"\"\"9 0 0 3 0 0 0 0 0\n",
    "2 0 5 0 0 1 6 0 0\n",
    "0 0 0 0 6 0 0 4 0\n",
    "0 0 0 7 0 0 0 0 3\n",
    "6 0 1 0 0 2 4 0 0\n",
    "0 8 0 0 0 0 0 0 0\n",
    "0 9 0 0 0 0 5 0 0\n",
    "0 4 0 0 0 8 0 0 0\n",
    "5 0 8 2 0 0 0 7 0\"\"\"\n",
    "\n",
    "mat = [[*map(int, row.split())] for row in mat.split('\\n')]\n",
    "\n",
    "def matrix_to_sudoku(matrix, inner_rows):\n",
    "    size = len(matrix)\n",
    "    if size % inner_rows: \n",
    "        raise ValueError(f\"Invalid value for inner_rows as {size} is not divisible by {inner_rows}\")\n",
    "    else: inner_cols = size // inner_rows\n",
    "    block_rows = inner_cols\n",
    "    block_cols = inner_rows\n",
    "    sudoku_grid = [[[[matrix[block_row*inner_rows+inner_row][block_col*inner_cols+inner_col] for inner_col in range(inner_cols)] for inner_row in range(inner_rows)] \n",
    "                    for block_col in range(block_cols)] for block_row in range(block_rows)]\n",
    "    return Sudoku(sudoku_grid)\n",
    "\n",
    "print(matrix_to_sudoku(mat, 3))"
   ]
  },
  {
   "cell_type": "code",
   "execution_count": 145,
   "id": "495fdddc",
   "metadata": {
    "collapsed": true
   },
   "outputs": [
    {
     "name": "stdout",
     "output_type": "stream",
     "text": [
      "[SudokuEntry{5} SudokuEntry{3} SudokuEntry{1, 2, 3, 4, 5, 6, 7, 8, 9}]x[SudokuEntry{6} SudokuEntry{1, 2, 3, 4, 5, 6, 7, 8, 9}\n",
      " SudokuEntry{1, 2, 3, 4, 5, 6, 7, 8, 9}]x[SudokuEntry{1, 2, 3, 4, 5, 6, 7, 8, 9} SudokuEntry{9} SudokuEntry{8}]\n",
      "[SudokuEntry{1, 2, 3, 4, 5, 6, 7, 8, 9} SudokuEntry{7}\n",
      " SudokuEntry{1, 2, 3, 4, 5, 6, 7, 8, 9}]x[SudokuEntry{1} SudokuEntry{9} SudokuEntry{5}]x[SudokuEntry{1, 2, 3, 4, 5, 6, 7, 8, 9}\n",
      " SudokuEntry{1, 2, 3, 4, 5, 6, 7, 8, 9}\n",
      " SudokuEntry{1, 2, 3, 4, 5, 6, 7, 8, 9}]\n",
      "[SudokuEntry{1, 2, 3, 4, 5, 6, 7, 8, 9}\n",
      " SudokuEntry{1, 2, 3, 4, 5, 6, 7, 8, 9}\n",
      " SudokuEntry{1, 2, 3, 4, 5, 6, 7, 8, 9}]x[SudokuEntry{1, 2, 3, 4, 5, 6, 7, 8, 9}\n",
      " SudokuEntry{1, 2, 3, 4, 5, 6, 7, 8, 9}\n",
      " SudokuEntry{1, 2, 3, 4, 5, 6, 7, 8, 9}]x[SudokuEntry{1, 2, 3, 4, 5, 6, 7, 8, 9} SudokuEntry{6}\n",
      " SudokuEntry{1, 2, 3, 4, 5, 6, 7, 8, 9}]\n",
      "\n",
      "[SudokuEntry{8} SudokuEntry{1, 2, 3, 4, 5, 6, 7, 8, 9}\n",
      " SudokuEntry{1, 2, 3, 4, 5, 6, 7, 8, 9}]x[SudokuEntry{4} SudokuEntry{1, 2, 3, 4, 5, 6, 7, 8, 9}\n",
      " SudokuEntry{1, 2, 3, 4, 5, 6, 7, 8, 9}]x[SudokuEntry{7} SudokuEntry{1, 2, 3, 4, 5, 6, 7, 8, 9}\n",
      " SudokuEntry{1, 2, 3, 4, 5, 6, 7, 8, 9}]\n",
      "[SudokuEntry{1, 2, 3, 4, 5, 6, 7, 8, 9} SudokuEntry{6}\n",
      " SudokuEntry{1, 2, 3, 4, 5, 6, 7, 8, 9}]x[SudokuEntry{8} SudokuEntry{1, 2, 3, 4, 5, 6, 7, 8, 9} SudokuEntry{3}]x[SudokuEntry{1, 2, 3, 4, 5, 6, 7, 8, 9} SudokuEntry{2}\n",
      " SudokuEntry{1, 2, 3, 4, 5, 6, 7, 8, 9}]\n",
      "[SudokuEntry{1, 2, 3, 4, 5, 6, 7, 8, 9}\n",
      " SudokuEntry{1, 2, 3, 4, 5, 6, 7, 8, 9} SudokuEntry{3}]x[SudokuEntry{1, 2, 3, 4, 5, 6, 7, 8, 9}\n",
      " SudokuEntry{1, 2, 3, 4, 5, 6, 7, 8, 9} SudokuEntry{1}]x[SudokuEntry{1, 2, 3, 4, 5, 6, 7, 8, 9}\n",
      " SudokuEntry{1, 2, 3, 4, 5, 6, 7, 8, 9} SudokuEntry{6}]\n",
      "\n",
      "[SudokuEntry{1, 2, 3, 4, 5, 6, 7, 8, 9} SudokuEntry{6}\n",
      " SudokuEntry{1, 2, 3, 4, 5, 6, 7, 8, 9}]x[SudokuEntry{1, 2, 3, 4, 5, 6, 7, 8, 9}\n",
      " SudokuEntry{1, 2, 3, 4, 5, 6, 7, 8, 9}\n",
      " SudokuEntry{1, 2, 3, 4, 5, 6, 7, 8, 9}]x[SudokuEntry{1, 2, 3, 4, 5, 6, 7, 8, 9}\n",
      " SudokuEntry{1, 2, 3, 4, 5, 6, 7, 8, 9}\n",
      " SudokuEntry{1, 2, 3, 4, 5, 6, 7, 8, 9}]\n",
      "[SudokuEntry{1, 2, 3, 4, 5, 6, 7, 8, 9}\n",
      " SudokuEntry{1, 2, 3, 4, 5, 6, 7, 8, 9}\n",
      " SudokuEntry{1, 2, 3, 4, 5, 6, 7, 8, 9}]x[SudokuEntry{4} SudokuEntry{1} SudokuEntry{9}]x[SudokuEntry{1, 2, 3, 4, 5, 6, 7, 8, 9} SudokuEntry{8}\n",
      " SudokuEntry{1, 2, 3, 4, 5, 6, 7, 8, 9}]\n",
      "[SudokuEntry{2} SudokuEntry{8} SudokuEntry{1, 2, 3, 4, 5, 6, 7, 8, 9}]x[SudokuEntry{1, 2, 3, 4, 5, 6, 7, 8, 9}\n",
      " SudokuEntry{1, 2, 3, 4, 5, 6, 7, 8, 9} SudokuEntry{5}]x[SudokuEntry{6} SudokuEntry{1, 2, 3, 4, 5, 6, 7, 8, 9}\n",
      " SudokuEntry{1, 2, 3, 4, 5, 6, 7, 8, 9}]\n"
     ]
    },
    {
     "ename": "TypeError",
     "evalue": "__str__ returned non-string (type NoneType)",
     "output_type": "error",
     "traceback": [
      "\u001b[1;31m---------------------------------------------------------------------------\u001b[0m",
      "\u001b[1;31mTypeError\u001b[0m                                 Traceback (most recent call last)",
      "\u001b[1;32m~\\AppData\\Local\\Temp\\ipykernel_24848\\2602377518.py\u001b[0m in \u001b[0;36m<module>\u001b[1;34m\u001b[0m\n\u001b[0;32m     69\u001b[0m ])\n\u001b[0;32m     70\u001b[0m \u001b[0ms\u001b[0m \u001b[1;33m=\u001b[0m \u001b[0mSudoku\u001b[0m\u001b[1;33m(\u001b[0m\u001b[0msudoku_grid\u001b[0m\u001b[1;33m)\u001b[0m\u001b[1;33m\u001b[0m\u001b[1;33m\u001b[0m\u001b[0m\n\u001b[1;32m---> 71\u001b[1;33m \u001b[0mprint\u001b[0m\u001b[1;33m(\u001b[0m\u001b[0ms\u001b[0m\u001b[1;33m)\u001b[0m\u001b[1;33m\u001b[0m\u001b[1;33m\u001b[0m\u001b[0m\n\u001b[0m",
      "\u001b[1;31mTypeError\u001b[0m: __str__ returned non-string (type NoneType)"
     ]
    }
   ],
   "source": [
    "class SudokuPuzzle:\n",
    "    \n",
    "    def __init__(self, input_array):\n",
    "        problem = np.asarray(input_array)\n",
    "        block_rows, block_cols, inner_rows, inner_cols = problem.shape\n",
    "        self.problem = np.vectorize(lambda x: SudokuEntry(x))(problem)\n",
    "        self.solution = self.get_solution()\n",
    "\n",
    "    def get_solution(self):\n",
    "        pass\n",
    "    \n",
    "    def __str__(self):\n",
    "        for self\n",
    "\n",
    "    \n",
    "    \n",
    "\n",
    "size = 9\n",
    "inner_rows = 3\n",
    "sudoku_grid = np.array([\n",
    "    [[[5, 3, 0], [6, 0, 0], [0, 9, 8]],\n",
    "     [[0, 7, 0], [1, 9, 5], [0, 0, 0]],\n",
    "     [[0, 0, 0], [0, 0, 0], [0, 6, 0]]],\n",
    "    [[[8, 0, 0], [4, 0, 0], [7, 0, 0]],\n",
    "     [[0, 6, 0], [8, 0, 3], [0, 2, 0]],\n",
    "     [[0, 0, 3], [0, 0, 1], [0, 0, 6]]],\n",
    "    [[[0, 6, 0], [0, 0, 0], [0, 0, 0]],\n",
    "     [[0, 0, 0], [4, 1, 9], [0, 8, 0]],\n",
    "     [[2, 8, 0], [0, 0, 5], [6, 0, 0]]]\n",
    "])\n",
    "s = Sudoku(sudoku_grid)\n",
    "print(s)"
   ]
  },
  {
   "cell_type": "markdown",
   "id": "5db14d68",
   "metadata": {},
   "source": [
    "# Sudoku Generator Algorithm:"
   ]
  },
  {
   "cell_type": "code",
   "execution_count": 375,
   "id": "7926c0b4",
   "metadata": {
    "scrolled": false
   },
   "outputs": [
    {
     "name": "stdout",
     "output_type": "stream",
     "text": [
      "Before:\n",
      " 5  3  0 | 0  7  0 | 0  0  0 \n",
      " 6  0  0 | 1  9  5 | 0  0  0 \n",
      " 0  9  8 | 0  0  0 | 0  6  0 \n",
      "---------+---------+---------\n",
      " 8  0  0 | 0  6  0 | 0  0  3 \n",
      " 4  0  0 | 8  0  3 | 0  0  1 \n",
      " 7  0  0 | 0  2  0 | 0  0  6 \n",
      "---------+---------+---------\n",
      " 0  6  0 | 0  0  0 | 2  8  0 \n",
      " 0  0  0 | 4  1  9 | 0  0  5 \n",
      " 0  0  0 | 0  8  0 | 6  0  0 \n",
      "Total Unknown: 52\n",
      "\n",
      "changes = 387\n",
      "changes = 0\n",
      "After:\n",
      " 5  3  2 | 6  7  6 | 1  9  8 \n",
      " 6  7  4 | 1  9  5 | 4  2  8 \n",
      " 1  9  8 | 3  4  2 | 5  6  7 \n",
      "---------+---------+---------\n",
      " 8  5  9 | 7  6  1 | 4  2  3 \n",
      " 4  2  6 | 8  5  3 | 9  7  1 \n",
      " 7  1  3 | 9  2  4 | 8  5  6 \n",
      "---------+---------+---------\n",
      " 9  6  1 | 5  3  7 | 2  8  4 \n",
      " 2  8  7 | 4  1  9 | 3  3  5 \n",
      " 3  4  5 | 2  8  2 | 6  1  9 \n",
      "Total Unknown: 52\n"
     ]
    }
   ],
   "source": [
    "sudoku_grid = np.array([\n",
    "    [[[5, 3, 0], [6, 0, 0], [0, 9, 8]],\n",
    "     [[0, 7, 0], [1, 9, 5], [0, 0, 0]],\n",
    "     [[0, 0, 0], [0, 0, 0], [0, 6, 0]]],\n",
    "    [[[8, 0, 0], [4, 0, 0], [7, 0, 0]],\n",
    "     [[0, 6, 0], [8, 0, 3], [0, 2, 0]],\n",
    "     [[0, 0, 3], [0, 0, 1], [0, 0, 6]]],\n",
    "    [[[0, 6, 0], [0, 0, 0], [0, 0, 0]],\n",
    "     [[0, 0, 0], [4, 1, 9], [0, 8, 0]],\n",
    "     [[2, 8, 0], [0, 0, 5], [6, 0, 0]]]\n",
    "])\n",
    "\n",
    "sudoku = Sudoku(sudoku_grid)\n",
    "\n",
    "\n",
    "# mat = \"\"\"9 0 0 3 0 0 0 0 0\n",
    "# 2 0 5 0 0 1 6 0 0\n",
    "# 0 0 0 0 6 0 0 4 0\n",
    "# 0 0 0 7 0 0 0 0 3\n",
    "# 6 0 1 0 0 2 4 0 0\n",
    "# 0 8 0 0 0 0 0 0 0\n",
    "# 0 9 0 0 0 0 5 0 0\n",
    "# 0 4 0 0 0 8 0 0 0\n",
    "# 5 0 8 2 0 0 0 7 0\"\"\"\n",
    "\n",
    "# mat = \"\"\"0 7 0 0 0 1 0 0 5\n",
    "# 0 4 0 5 2 0 0 6 0\n",
    "# 0 0 2 0 0 3 0 0 0\n",
    "# 0 0 0 1 0 0 0 0 0\n",
    "# 0 0 8 4 5 0 0 0 7\n",
    "# 7 0 0 0 0 0 0 3 0\n",
    "# 0 0 0 0 0 2 0 0 0\n",
    "# 0 0 4 7 8 0 0 0 3\n",
    "# 0 6 0 0 0 0 9 0 0\"\"\"\n",
    "\n",
    "# mat = \"\"\"0 0 0 0 0 0 6 4 0\n",
    "# 5 4 0 0 0 0 8 0 7\n",
    "# 0 0 0 0 8 0 0 0 1\n",
    "# 9 0 0 0 6 0 0 7 0\n",
    "# 0 6 3 4 0 0 1 0 5\n",
    "# 0 0 0 0 7 8 0 0 0\n",
    "# 0 0 4 1 0 0 0 0 0\n",
    "# 3 0 6 0 0 5 0 1 8\n",
    "# 1 0 0 0 0 2 0 9 0\"\"\"\n",
    "\n",
    "# mat = \"\"\"9 0 0 0 0 2 0 0 7\n",
    "# 0 0 0 0 0 7 0 5 0\n",
    "# 0 0 0 0 6 0 0 1 3\n",
    "# 0 0 0 6 0 0 0 0 9\n",
    "# 0 9 0 0 3 0 1 0 2\n",
    "# 7 0 0 2 1 0 0 0 0\n",
    "# 0 0 1 0 0 0 0 4 0\n",
    "# 2 0 0 0 0 0 8 0 1\n",
    "# 0 0 0 0 5 0 0 0 0\"\"\"\n",
    "\n",
    "# mat = \"\"\"0 6 7 9 1 0 0 3 0\n",
    "# 4 0 0 0 0 7 0 0 0\n",
    "# 8 0 0 0 0 0 6 0 0\n",
    "# 0 2 1 0 0 9 4 0 0\n",
    "# 7 0 0 0 0 0 0 0 0\n",
    "# 0 0 0 3 0 0 0 0 5\n",
    "# 0 0 0 0 2 0 0 4 0\n",
    "# 0 9 6 0 0 1 2 0 0\n",
    "# 0 8 0 0 0 0 0 0 0\"\"\"\n",
    "\n",
    "# mat = \"\"\"0 9 0 7 0 1 0 0 0\n",
    "# 0 0 0 4 0 0 0 0 0\n",
    "# 7 0 0 0 0 6 0 0 0\n",
    "# 0 1 0 0 0 0 0 0 4\n",
    "# 0 0 0 0 9 5 0 0 7\n",
    "# 6 0 8 0 4 0 0 9 0\n",
    "# 8 0 0 3 0 0 7 0 0\n",
    "# 0 0 4 0 5 0 0 0 2\n",
    "# 0 2 9 0 0 0 0 5 8\"\"\"\n",
    "\n",
    "# mat = \"\"\"0 7 0 0 0 0 5 0 0\n",
    "# 0 4 0 0 8 7 0 1 0\n",
    "# 0 8 0 0 0 9 2 0 0\n",
    "# 6 0 0 0 0 1 3 0 0\n",
    "# 0 0 0 7 5 0 0 0 0\n",
    "# 9 0 0 3 0 0 0 5 0\n",
    "# 0 0 0 0 0 0 0 0 0\n",
    "# 0 9 0 0 0 3 0 0 4\n",
    "# 2 0 0 0 0 8 1 0 0\"\"\"\n",
    "\n",
    "# mat = \"\"\"0 0 1 0 0 4 0 8 0\n",
    "# 0 0 5 0 0 0 0 0 7\n",
    "# 4 7 0 0 3 0 0 6 0\n",
    "# 6 4 0 0 0 8 0 0 9\n",
    "# 1 0 0 0 0 0 0 0 0\n",
    "# 0 0 0 0 5 0 8 0 0\n",
    "# 0 0 0 2 0 0 0 3 0\n",
    "# 0 0 7 0 0 0 0 0 0\n",
    "# 8 9 0 0 0 5 0 0 6\"\"\"\n",
    "\n",
    "\n",
    "# mat = [[*map(int, row.split())] for row in mat.split('\\n')]\n",
    "# sudoku = matrix_to_sudoku(mat, 3)\n",
    "\n",
    "print(\"Before:\")\n",
    "print(sudoku)\n",
    "print(\"Total Unknown:\", sum((sudoku == 0).reshape(-1)))\n",
    "\n",
    "def atleastTwoExists(a):\n",
    "    I = np.ones(a.shape*3)\n",
    "    AAI = a.reshape(-1, 1, 1) * a.reshape(1, -1, 1) * I\n",
    "    AIA = a.reshape(-1, 1, 1) * I * a.reshape(1, 1, -1)\n",
    "    IAA = I * a.reshape(1, -1, 1) * a.reshape(1, 1, -1)\n",
    "    return AAI + AIA + IAA\n",
    "\n",
    "def solve_sudoku(puzzle):\n",
    "    sudoku = puzzle.copy()\n",
    "    changes = 1\n",
    "    while changes:\n",
    "        changes = 0\n",
    "\n",
    "        changes_difficult = 1\n",
    "        while changes_difficult:\n",
    "            changes_difficult = 0\n",
    "\n",
    "            changes_medium = 1\n",
    "            while changes_medium:\n",
    "                changes_medium = 0\n",
    "\n",
    "                changes_easy = 1\n",
    "                while changes_easy:\n",
    "                    changes_easy = 0\n",
    "                    # Technique 1: Remove possibility of a certain entry value from all other entries in scope\n",
    "                    # \n",
    "                    for val in range(1, np.multiply(*sudoku.shape[0:2])+1): # O(N)\n",
    "                        for scope_gen in (sudoku.rows, sudoku.cols, sudoku.blocks):\n",
    "                            for scope in scope_gen(reduce=True): # *O(N)\n",
    "                                if val in scope: # *O(N)\n",
    "                                    for entry in scope: # +O(N)\n",
    "                                        if val in entry and entry != val:\n",
    "                                            entry.remove_possibility(val) # *O(N)\n",
    "                                            changes_easy += 1\n",
    "\n",
    "                    # Technique 2: remove possibility of all other values from an entry only where a value is possible wrt any one scope\n",
    "                    # \n",
    "                    for scope_gen in (sudoku.rows, sudoku.cols, sudoku.blocks):\n",
    "                        for scope in scope_gen(reduce=True):\n",
    "                            row = None\n",
    "                            val_count = sum(entry.possible for entry in scope)\n",
    "                            for val in (val_count == 1).nonzero()[0] + 1:\n",
    "                                for entry in scope:\n",
    "                                    if (val in entry) and (entry != val):\n",
    "                                        entry.set_val(val)\n",
    "                                        changes_easy += 1\n",
    "                    changes += changes_easy\n",
    "\n",
    "\n",
    "\n",
    "                # Technique 5: Block rays\n",
    "                for  block_row, block_col, block in sudoku.blocks(enum=True):\n",
    "                    null_pos = np.zeros(np.multiply(*block.shape))\n",
    "                    pos_mat = np.asarray([[entry.possible if entry.count() > 1 else null_pos for entry in inner_row_entries] for inner_row_entries in block], dtype=bool)\n",
    "                    for axis in range(2): #0:col, 1:row\n",
    "                        pos_rays = pos_mat.sum(axis=axis, dtype=bool)\n",
    "                        pos_weight = np.eye(len(pos_rays), dtype=np.int8) * 2 - 1\n",
    "                        unique_rays = pos_weight.dot(pos_rays)\n",
    "                        for inner_scope, val in zip(*(unique_rays>0).nonzero()):\n",
    "                            val += 1\n",
    "                            if axis: #row rays\n",
    "                                for bcol in range(len(block)):\n",
    "                                    if bcol != block_col:\n",
    "                                        for entry in sudoku[block_row, bcol, inner_scope, :]:\n",
    "                                            if val in entry and entry != val:\n",
    "                                                entry.remove_possibility(val) # *O(N)\n",
    "                                                changes_medium += 1\n",
    "\n",
    "                            else: #col rays\n",
    "                                for brow in range(len(block[0])):\n",
    "                                    if brow != block_row:\n",
    "                                        for entry in sudoku[brow, block_col, :, inner_scope]:\n",
    "                                            if val in entry and entry != val:\n",
    "                                                entry.remove_possibility(val) # *O(N)\n",
    "                                                changes_medium += 1\n",
    "    #             if changes_medium:\n",
    "    #                 changes += changes_medium\n",
    "    #                 continue\n",
    "\n",
    "                # Technique 3: Hidden Pair by discovering exactly two values possible only in two entries\n",
    "                # \n",
    "                for scope_gen in (sudoku.rows, sudoku.cols, sudoku.blocks):\n",
    "                    for scope in scope_gen(reduce=True):\n",
    "                        val_count = sum(entry.possible for entry in scope)\n",
    "                        candidates = (val_count == 2).nonzero()[0]\n",
    "                        if len(candidates) > 1:\n",
    "                            val_val_count = sum(np.triu(entry.possible[candidates] * entry.possible[candidates].reshape(-1, 1), 1) for entry in scope)\n",
    "                            for i1, i2 in zip(*(val_val_count == 2).nonzero()):\n",
    "                                val1 = candidates[i1] + 1\n",
    "                                val2 = candidates[i2] + 1\n",
    "                                entry1, entry2 = [entry for entry in scope if val1 in entry]\n",
    "                                if entry1.count() > 2:\n",
    "                                    entry1.set_val([val1, val2])\n",
    "                                    changes_medium += 1\n",
    "                                if entry2.count() > 2:\n",
    "                                    entry2.set_val([val1, val2])\n",
    "                                    changes_medium += 1\n",
    "                if changes_medium:\n",
    "                    changes += changes_medium\n",
    "                    continue\n",
    "\n",
    "                # Technique 4: Other entries in scope of Hidden Pair entries must not carry hidden pair values\n",
    "                # \n",
    "                for scope_gen in (sudoku.rows, sudoku.cols, sudoku.blocks):\n",
    "                    for scope in scope_gen(reduce=True):\n",
    "                        val_val_count = np.zeros((scope.shape[0], scope.shape[0])) + sum(np.triu(entry.possible * entry.possible.reshape(-1, 1), 1) for entry in scope if entry.count() == 2)\n",
    "                        candidates = (val_val_count == 2).nonzero()\n",
    "                        if len(candidates[0]):\n",
    "                            hidden_pair_vals = np.concatenate(candidates)\n",
    "                            for entry in scope:\n",
    "                                new = entry.possible[hidden_pair_vals].sum()\n",
    "                                if new and not ((new == 2) and (entry.count() == 2)):\n",
    "                                    entry.possible[hidden_pair_vals] = False\n",
    "                                    changes_medium += new\n",
    "                if changes_medium:\n",
    "                    changes += changes_medium\n",
    "                    continue\n",
    "\n",
    "\n",
    "            # Technique 6: Obvious Triplets:\n",
    "            for scope_gen in (sudoku.rows, sudoku.cols, sudoku.blocks):\n",
    "                for scope in scope_gen(reduce=True):\n",
    "                    pos_scope = [entry.possible for entry in scope]\n",
    "                    val_count = sum(pos_scope)\n",
    "                    candidates = ((1 < val_count) & (val_count < 4)).nonzero()[0]\n",
    "                    if len(candidates) > 2:\n",
    "                        U = np.triu(np.ones(candidates.shape), 1)\n",
    "                        UwU = U.reshape(*U.shape, 1) * U.reshape(1, *U.shape)\n",
    "                        vvv_count = sum((atleastTwoExists(entry.possible[candidates]) * UwU).astype(bool) for entry in scope)\n",
    "                        for i1, i2, i3 in zip(*(vvv_count >= 3).nonzero()):\n",
    "                            val1 = candidates[i1] + 1\n",
    "                            val2 = candidates[i2] + 1\n",
    "                            val3 = candidates[i3] + 1\n",
    "                            if len([entry for entry in scope if ((val1 in entry) or (val2 in entry))]) == 3:\n",
    "                                for entry in scope:\n",
    "                                    if (val1 in entry) or (val2 in entry):\n",
    "                                        if entry.count() > 2:\n",
    "                                            old_count = entry.count()\n",
    "                                            indices = candidates[[i1, i2, i3]]\n",
    "                                            old_pos = entry.possible[indices]\n",
    "                                            entry.possible[:] = False\n",
    "                                            entry.possible[indices] = old_pos\n",
    "                                            changes_difficult += (old_count - entry.count())\n",
    "                            else: continue\n",
    "\n",
    "            changes += changes_difficult\n",
    "\n",
    "        print(f\"{changes = }\")\n",
    "\n",
    "    return sudoku\n",
    "\n",
    "    \n",
    "print()\n",
    "solution = solve_sudoku(sudoku)\n",
    "print(\"After:\")\n",
    "print(solution)\n",
    "print(\"Total Unknown:\", sum((sudoku == 0).reshape(-1)))\n",
    "\n",
    "# sudoku"
   ]
  },
  {
   "cell_type": "markdown",
   "id": "eab4d3a8",
   "metadata": {},
   "source": [
    "# Create Sudoku Generator:"
   ]
  },
  {
   "cell_type": "code",
   "execution_count": 422,
   "id": "007c6b0e",
   "metadata": {},
   "outputs": [
    {
     "name": "stdout",
     "output_type": "stream",
     "text": [
      "4 3\n",
      "[[[[ 6. 11. 10.]\n",
      "   [ 7.  9. 12.]\n",
      "   [ 5.  4.  3.]\n",
      "   [ 2.  1.  8.]]\n",
      "\n",
      "  [[ 0.  0.  0.]\n",
      "   [ 0.  0.  0.]\n",
      "   [ 0.  0.  0.]\n",
      "   [ 0.  0.  0.]]\n",
      "\n",
      "  [[ 0.  0.  0.]\n",
      "   [ 0.  0.  0.]\n",
      "   [ 0.  0.  0.]\n",
      "   [ 0.  0.  0.]]\n",
      "\n",
      "  [[ 0.  0.  0.]\n",
      "   [ 0.  0.  0.]\n",
      "   [ 0.  0.  0.]\n",
      "   [ 0.  0.  0.]]]\n",
      "\n",
      "\n",
      " [[[ 0.  0.  0.]\n",
      "   [ 0.  0.  0.]\n",
      "   [ 0.  0.  0.]\n",
      "   [ 0.  0.  0.]]\n",
      "\n",
      "  [[ 2.  7. 10.]\n",
      "   [ 6.  9.  3.]\n",
      "   [ 1. 12.  4.]\n",
      "   [11.  8.  5.]]\n",
      "\n",
      "  [[ 0.  0.  0.]\n",
      "   [ 0.  0.  0.]\n",
      "   [ 0.  0.  0.]\n",
      "   [ 0.  0.  0.]]\n",
      "\n",
      "  [[ 0.  0.  0.]\n",
      "   [ 0.  0.  0.]\n",
      "   [ 0.  0.  0.]\n",
      "   [ 0.  0.  0.]]]\n",
      "\n",
      "\n",
      " [[[ 0.  0.  0.]\n",
      "   [ 0.  0.  0.]\n",
      "   [ 0.  0.  0.]\n",
      "   [ 0.  0.  0.]]\n",
      "\n",
      "  [[ 0.  0.  0.]\n",
      "   [ 0.  0.  0.]\n",
      "   [ 0.  0.  0.]\n",
      "   [ 0.  0.  0.]]\n",
      "\n",
      "  [[11. 12.  6.]\n",
      "   [ 9. 10.  4.]\n",
      "   [ 7.  2.  3.]\n",
      "   [ 5.  8.  1.]]\n",
      "\n",
      "  [[ 0.  0.  0.]\n",
      "   [ 0.  0.  0.]\n",
      "   [ 0.  0.  0.]\n",
      "   [ 0.  0.  0.]]]]\n"
     ]
    },
    {
     "ename": "IndexError",
     "evalue": "arrays used as indices must be of integer (or boolean) type",
     "output_type": "error",
     "traceback": [
      "\u001b[1;31m---------------------------------------------------------------------------\u001b[0m",
      "\u001b[1;31mIndexError\u001b[0m                                Traceback (most recent call last)",
      "\u001b[1;32m~\\AppData\\Local\\Temp\\ipykernel_31332\\143827922.py\u001b[0m in \u001b[0;36m<module>\u001b[1;34m\u001b[0m\n\u001b[0;32m     10\u001b[0m         \u001b[0mpuzzle\u001b[0m\u001b[1;33m[\u001b[0m\u001b[0mi\u001b[0m\u001b[1;33m,\u001b[0m \u001b[0mi\u001b[0m\u001b[1;33m,\u001b[0m \u001b[1;33m:\u001b[0m\u001b[1;33m,\u001b[0m \u001b[1;33m:\u001b[0m\u001b[1;33m]\u001b[0m \u001b[1;33m=\u001b[0m \u001b[0mnp\u001b[0m\u001b[1;33m.\u001b[0m\u001b[0mrandom\u001b[0m\u001b[1;33m.\u001b[0m\u001b[0mpermutation\u001b[0m\u001b[1;33m(\u001b[0m\u001b[0mnp\u001b[0m\u001b[1;33m.\u001b[0m\u001b[0marange\u001b[0m\u001b[1;33m(\u001b[0m\u001b[1;36m1\u001b[0m\u001b[1;33m,\u001b[0m \u001b[0msize\u001b[0m\u001b[1;33m+\u001b[0m\u001b[1;36m1\u001b[0m\u001b[1;33m)\u001b[0m\u001b[1;33m)\u001b[0m\u001b[1;33m.\u001b[0m\u001b[0mreshape\u001b[0m\u001b[1;33m(\u001b[0m\u001b[0minner_rows\u001b[0m\u001b[1;33m,\u001b[0m \u001b[0minner_cols\u001b[0m\u001b[1;33m)\u001b[0m\u001b[1;33m\u001b[0m\u001b[1;33m\u001b[0m\u001b[0m\n\u001b[0;32m     11\u001b[0m \u001b[0mprint\u001b[0m\u001b[1;33m(\u001b[0m\u001b[0mpuzzle\u001b[0m\u001b[1;33m)\u001b[0m\u001b[1;33m\u001b[0m\u001b[1;33m\u001b[0m\u001b[0m\n\u001b[1;32m---> 12\u001b[1;33m \u001b[0mpuzzle\u001b[0m \u001b[1;33m=\u001b[0m \u001b[0mSudoku\u001b[0m\u001b[1;33m(\u001b[0m\u001b[0mpuzzle\u001b[0m\u001b[1;33m)\u001b[0m\u001b[1;33m\u001b[0m\u001b[1;33m\u001b[0m\u001b[0m\n\u001b[0m\u001b[0;32m     13\u001b[0m \u001b[0mprint\u001b[0m\u001b[1;33m(\u001b[0m\u001b[0mpuzzle\u001b[0m\u001b[1;33m)\u001b[0m\u001b[1;33m\u001b[0m\u001b[1;33m\u001b[0m\u001b[0m\n",
      "\u001b[1;32m~\\AppData\\Local\\Temp\\ipykernel_31332\\2449039327.py\u001b[0m in \u001b[0;36m__new__\u001b[1;34m(cls, input_array)\u001b[0m\n\u001b[0;32m      3\u001b[0m \u001b[1;32mclass\u001b[0m \u001b[0mSudoku\u001b[0m\u001b[1;33m(\u001b[0m\u001b[0mnp\u001b[0m\u001b[1;33m.\u001b[0m\u001b[0mndarray\u001b[0m\u001b[1;33m)\u001b[0m\u001b[1;33m:\u001b[0m\u001b[1;33m\u001b[0m\u001b[1;33m\u001b[0m\u001b[0m\n\u001b[0;32m      4\u001b[0m     \u001b[1;32mdef\u001b[0m \u001b[0m__new__\u001b[0m\u001b[1;33m(\u001b[0m\u001b[0mcls\u001b[0m\u001b[1;33m,\u001b[0m \u001b[0minput_array\u001b[0m\u001b[1;33m)\u001b[0m\u001b[1;33m:\u001b[0m\u001b[1;33m\u001b[0m\u001b[1;33m\u001b[0m\u001b[0m\n\u001b[1;32m----> 5\u001b[1;33m         \u001b[0mobj\u001b[0m \u001b[1;33m=\u001b[0m \u001b[0mnp\u001b[0m\u001b[1;33m.\u001b[0m\u001b[0mvectorize\u001b[0m\u001b[1;33m(\u001b[0m\u001b[1;32mlambda\u001b[0m \u001b[0mx\u001b[0m\u001b[1;33m:\u001b[0m \u001b[0mSudokuEntry\u001b[0m\u001b[1;33m(\u001b[0m\u001b[0mx\u001b[0m\u001b[1;33m,\u001b[0m \u001b[0mlen\u001b[0m\u001b[1;33m(\u001b[0m\u001b[0minput_array\u001b[0m\u001b[1;33m)\u001b[0m \u001b[1;33m*\u001b[0m \u001b[0mlen\u001b[0m\u001b[1;33m(\u001b[0m\u001b[0minput_array\u001b[0m\u001b[1;33m[\u001b[0m\u001b[1;36m0\u001b[0m\u001b[1;33m]\u001b[0m\u001b[1;33m)\u001b[0m\u001b[1;33m)\u001b[0m\u001b[1;33m)\u001b[0m\u001b[1;33m(\u001b[0m\u001b[0mnp\u001b[0m\u001b[1;33m.\u001b[0m\u001b[0masarray\u001b[0m\u001b[1;33m(\u001b[0m\u001b[0minput_array\u001b[0m\u001b[1;33m)\u001b[0m\u001b[1;33m.\u001b[0m\u001b[0mview\u001b[0m\u001b[1;33m(\u001b[0m\u001b[0mcls\u001b[0m\u001b[1;33m)\u001b[0m\u001b[1;33m)\u001b[0m\u001b[1;33m\u001b[0m\u001b[1;33m\u001b[0m\u001b[0m\n\u001b[0m\u001b[0;32m      6\u001b[0m         \u001b[1;32mif\u001b[0m \u001b[0mlen\u001b[0m\u001b[1;33m(\u001b[0m\u001b[0mobj\u001b[0m\u001b[1;33m.\u001b[0m\u001b[0mshape\u001b[0m\u001b[1;33m)\u001b[0m \u001b[1;33m!=\u001b[0m \u001b[1;36m4\u001b[0m\u001b[1;33m:\u001b[0m\u001b[1;33m\u001b[0m\u001b[1;33m\u001b[0m\u001b[0m\n\u001b[0;32m      7\u001b[0m             \u001b[1;32mraise\u001b[0m \u001b[0mValueError\u001b[0m\u001b[1;33m(\u001b[0m\u001b[1;34m\"Input array must have shape (block_rows, block_cols, inner_rows, inner_cols)\"\u001b[0m\u001b[1;33m)\u001b[0m\u001b[1;33m\u001b[0m\u001b[1;33m\u001b[0m\u001b[0m\n",
      "\u001b[1;32mC:\\ProgramData\\Anaconda3\\lib\\site-packages\\numpy\\lib\\function_base.py\u001b[0m in \u001b[0;36m__call__\u001b[1;34m(self, *args, **kwargs)\u001b[0m\n\u001b[0;32m   2326\u001b[0m             \u001b[0mvargs\u001b[0m\u001b[1;33m.\u001b[0m\u001b[0mextend\u001b[0m\u001b[1;33m(\u001b[0m\u001b[1;33m[\u001b[0m\u001b[0mkwargs\u001b[0m\u001b[1;33m[\u001b[0m\u001b[0m_n\u001b[0m\u001b[1;33m]\u001b[0m \u001b[1;32mfor\u001b[0m \u001b[0m_n\u001b[0m \u001b[1;32min\u001b[0m \u001b[0mnames\u001b[0m\u001b[1;33m]\u001b[0m\u001b[1;33m)\u001b[0m\u001b[1;33m\u001b[0m\u001b[1;33m\u001b[0m\u001b[0m\n\u001b[0;32m   2327\u001b[0m \u001b[1;33m\u001b[0m\u001b[0m\n\u001b[1;32m-> 2328\u001b[1;33m         \u001b[1;32mreturn\u001b[0m \u001b[0mself\u001b[0m\u001b[1;33m.\u001b[0m\u001b[0m_vectorize_call\u001b[0m\u001b[1;33m(\u001b[0m\u001b[0mfunc\u001b[0m\u001b[1;33m=\u001b[0m\u001b[0mfunc\u001b[0m\u001b[1;33m,\u001b[0m \u001b[0margs\u001b[0m\u001b[1;33m=\u001b[0m\u001b[0mvargs\u001b[0m\u001b[1;33m)\u001b[0m\u001b[1;33m\u001b[0m\u001b[1;33m\u001b[0m\u001b[0m\n\u001b[0m\u001b[0;32m   2329\u001b[0m \u001b[1;33m\u001b[0m\u001b[0m\n\u001b[0;32m   2330\u001b[0m     \u001b[1;32mdef\u001b[0m \u001b[0m_get_ufunc_and_otypes\u001b[0m\u001b[1;33m(\u001b[0m\u001b[0mself\u001b[0m\u001b[1;33m,\u001b[0m \u001b[0mfunc\u001b[0m\u001b[1;33m,\u001b[0m \u001b[0margs\u001b[0m\u001b[1;33m)\u001b[0m\u001b[1;33m:\u001b[0m\u001b[1;33m\u001b[0m\u001b[1;33m\u001b[0m\u001b[0m\n",
      "\u001b[1;32mC:\\ProgramData\\Anaconda3\\lib\\site-packages\\numpy\\lib\\function_base.py\u001b[0m in \u001b[0;36m_vectorize_call\u001b[1;34m(self, func, args)\u001b[0m\n\u001b[0;32m   2404\u001b[0m             \u001b[0mres\u001b[0m \u001b[1;33m=\u001b[0m \u001b[0mfunc\u001b[0m\u001b[1;33m(\u001b[0m\u001b[1;33m)\u001b[0m\u001b[1;33m\u001b[0m\u001b[1;33m\u001b[0m\u001b[0m\n\u001b[0;32m   2405\u001b[0m         \u001b[1;32melse\u001b[0m\u001b[1;33m:\u001b[0m\u001b[1;33m\u001b[0m\u001b[1;33m\u001b[0m\u001b[0m\n\u001b[1;32m-> 2406\u001b[1;33m             \u001b[0mufunc\u001b[0m\u001b[1;33m,\u001b[0m \u001b[0motypes\u001b[0m \u001b[1;33m=\u001b[0m \u001b[0mself\u001b[0m\u001b[1;33m.\u001b[0m\u001b[0m_get_ufunc_and_otypes\u001b[0m\u001b[1;33m(\u001b[0m\u001b[0mfunc\u001b[0m\u001b[1;33m=\u001b[0m\u001b[0mfunc\u001b[0m\u001b[1;33m,\u001b[0m \u001b[0margs\u001b[0m\u001b[1;33m=\u001b[0m\u001b[0margs\u001b[0m\u001b[1;33m)\u001b[0m\u001b[1;33m\u001b[0m\u001b[1;33m\u001b[0m\u001b[0m\n\u001b[0m\u001b[0;32m   2407\u001b[0m \u001b[1;33m\u001b[0m\u001b[0m\n\u001b[0;32m   2408\u001b[0m             \u001b[1;31m# Convert args to object arrays first\u001b[0m\u001b[1;33m\u001b[0m\u001b[1;33m\u001b[0m\u001b[1;33m\u001b[0m\u001b[0m\n",
      "\u001b[1;32mC:\\ProgramData\\Anaconda3\\lib\\site-packages\\numpy\\lib\\function_base.py\u001b[0m in \u001b[0;36m_get_ufunc_and_otypes\u001b[1;34m(self, func, args)\u001b[0m\n\u001b[0;32m   2364\u001b[0m \u001b[1;33m\u001b[0m\u001b[0m\n\u001b[0;32m   2365\u001b[0m             \u001b[0minputs\u001b[0m \u001b[1;33m=\u001b[0m \u001b[1;33m[\u001b[0m\u001b[0marg\u001b[0m\u001b[1;33m.\u001b[0m\u001b[0mflat\u001b[0m\u001b[1;33m[\u001b[0m\u001b[1;36m0\u001b[0m\u001b[1;33m]\u001b[0m \u001b[1;32mfor\u001b[0m \u001b[0marg\u001b[0m \u001b[1;32min\u001b[0m \u001b[0margs\u001b[0m\u001b[1;33m]\u001b[0m\u001b[1;33m\u001b[0m\u001b[1;33m\u001b[0m\u001b[0m\n\u001b[1;32m-> 2366\u001b[1;33m             \u001b[0moutputs\u001b[0m \u001b[1;33m=\u001b[0m \u001b[0mfunc\u001b[0m\u001b[1;33m(\u001b[0m\u001b[1;33m*\u001b[0m\u001b[0minputs\u001b[0m\u001b[1;33m)\u001b[0m\u001b[1;33m\u001b[0m\u001b[1;33m\u001b[0m\u001b[0m\n\u001b[0m\u001b[0;32m   2367\u001b[0m \u001b[1;33m\u001b[0m\u001b[0m\n\u001b[0;32m   2368\u001b[0m             \u001b[1;31m# Performance note: profiling indicates that -- for simple\u001b[0m\u001b[1;33m\u001b[0m\u001b[1;33m\u001b[0m\u001b[1;33m\u001b[0m\u001b[0m\n",
      "\u001b[1;32m~\\AppData\\Local\\Temp\\ipykernel_31332\\2449039327.py\u001b[0m in \u001b[0;36m<lambda>\u001b[1;34m(x)\u001b[0m\n\u001b[0;32m      3\u001b[0m \u001b[1;32mclass\u001b[0m \u001b[0mSudoku\u001b[0m\u001b[1;33m(\u001b[0m\u001b[0mnp\u001b[0m\u001b[1;33m.\u001b[0m\u001b[0mndarray\u001b[0m\u001b[1;33m)\u001b[0m\u001b[1;33m:\u001b[0m\u001b[1;33m\u001b[0m\u001b[1;33m\u001b[0m\u001b[0m\n\u001b[0;32m      4\u001b[0m     \u001b[1;32mdef\u001b[0m \u001b[0m__new__\u001b[0m\u001b[1;33m(\u001b[0m\u001b[0mcls\u001b[0m\u001b[1;33m,\u001b[0m \u001b[0minput_array\u001b[0m\u001b[1;33m)\u001b[0m\u001b[1;33m:\u001b[0m\u001b[1;33m\u001b[0m\u001b[1;33m\u001b[0m\u001b[0m\n\u001b[1;32m----> 5\u001b[1;33m         \u001b[0mobj\u001b[0m \u001b[1;33m=\u001b[0m \u001b[0mnp\u001b[0m\u001b[1;33m.\u001b[0m\u001b[0mvectorize\u001b[0m\u001b[1;33m(\u001b[0m\u001b[1;32mlambda\u001b[0m \u001b[0mx\u001b[0m\u001b[1;33m:\u001b[0m \u001b[0mSudokuEntry\u001b[0m\u001b[1;33m(\u001b[0m\u001b[0mx\u001b[0m\u001b[1;33m,\u001b[0m \u001b[0mlen\u001b[0m\u001b[1;33m(\u001b[0m\u001b[0minput_array\u001b[0m\u001b[1;33m)\u001b[0m \u001b[1;33m*\u001b[0m \u001b[0mlen\u001b[0m\u001b[1;33m(\u001b[0m\u001b[0minput_array\u001b[0m\u001b[1;33m[\u001b[0m\u001b[1;36m0\u001b[0m\u001b[1;33m]\u001b[0m\u001b[1;33m)\u001b[0m\u001b[1;33m)\u001b[0m\u001b[1;33m)\u001b[0m\u001b[1;33m(\u001b[0m\u001b[0mnp\u001b[0m\u001b[1;33m.\u001b[0m\u001b[0masarray\u001b[0m\u001b[1;33m(\u001b[0m\u001b[0minput_array\u001b[0m\u001b[1;33m)\u001b[0m\u001b[1;33m.\u001b[0m\u001b[0mview\u001b[0m\u001b[1;33m(\u001b[0m\u001b[0mcls\u001b[0m\u001b[1;33m)\u001b[0m\u001b[1;33m)\u001b[0m\u001b[1;33m\u001b[0m\u001b[1;33m\u001b[0m\u001b[0m\n\u001b[0m\u001b[0;32m      6\u001b[0m         \u001b[1;32mif\u001b[0m \u001b[0mlen\u001b[0m\u001b[1;33m(\u001b[0m\u001b[0mobj\u001b[0m\u001b[1;33m.\u001b[0m\u001b[0mshape\u001b[0m\u001b[1;33m)\u001b[0m \u001b[1;33m!=\u001b[0m \u001b[1;36m4\u001b[0m\u001b[1;33m:\u001b[0m\u001b[1;33m\u001b[0m\u001b[1;33m\u001b[0m\u001b[0m\n\u001b[0;32m      7\u001b[0m             \u001b[1;32mraise\u001b[0m \u001b[0mValueError\u001b[0m\u001b[1;33m(\u001b[0m\u001b[1;34m\"Input array must have shape (block_rows, block_cols, inner_rows, inner_cols)\"\u001b[0m\u001b[1;33m)\u001b[0m\u001b[1;33m\u001b[0m\u001b[1;33m\u001b[0m\u001b[0m\n",
      "\u001b[1;32m~\\AppData\\Local\\Temp\\ipykernel_31332\\1099085408.py\u001b[0m in \u001b[0;36m__init__\u001b[1;34m(self, input_entry, size, indecisive)\u001b[0m\n\u001b[0;32m      6\u001b[0m         \u001b[1;32melse\u001b[0m\u001b[1;33m:\u001b[0m\u001b[1;33m\u001b[0m\u001b[1;33m\u001b[0m\u001b[0m\n\u001b[0;32m      7\u001b[0m             \u001b[0mself\u001b[0m\u001b[1;33m.\u001b[0m\u001b[0mpossible\u001b[0m \u001b[1;33m=\u001b[0m \u001b[0mnp\u001b[0m\u001b[1;33m.\u001b[0m\u001b[0mzeros\u001b[0m\u001b[1;33m(\u001b[0m\u001b[0msize\u001b[0m\u001b[1;33m,\u001b[0m \u001b[0mdtype\u001b[0m\u001b[1;33m=\u001b[0m\u001b[0mbool\u001b[0m\u001b[1;33m)\u001b[0m\u001b[1;33m\u001b[0m\u001b[1;33m\u001b[0m\u001b[0m\n\u001b[1;32m----> 8\u001b[1;33m             \u001b[0mself\u001b[0m\u001b[1;33m.\u001b[0m\u001b[0mpossible\u001b[0m\u001b[1;33m[\u001b[0m\u001b[0mpossible\u001b[0m \u001b[1;33m-\u001b[0m \u001b[1;36m1\u001b[0m\u001b[1;33m]\u001b[0m \u001b[1;33m=\u001b[0m \u001b[1;36m1\u001b[0m\u001b[1;33m\u001b[0m\u001b[1;33m\u001b[0m\u001b[0m\n\u001b[0m\u001b[0;32m      9\u001b[0m \u001b[1;33m\u001b[0m\u001b[0m\n\u001b[0;32m     10\u001b[0m     \u001b[1;32mdef\u001b[0m \u001b[0mcount\u001b[0m\u001b[1;33m(\u001b[0m\u001b[0mself\u001b[0m\u001b[1;33m)\u001b[0m\u001b[1;33m:\u001b[0m\u001b[1;33m\u001b[0m\u001b[1;33m\u001b[0m\u001b[0m\n",
      "\u001b[1;31mIndexError\u001b[0m: arrays used as indices must be of integer (or boolean) type"
     ]
    }
   ],
   "source": [
    "size = 12\n",
    "block_rows = 3\n",
    "if block_rows * block_rows <= size:\n",
    "    block_cols = size // block_rows\n",
    "    inner_rows = block_cols\n",
    "    inner_cols = block_rows\n",
    "    print(inner_rows, inner_cols)\n",
    "    puzzle = np.zeros((block_rows, block_cols, inner_rows, inner_cols))\n",
    "    for i in range(block_rows):\n",
    "        puzzle[i, i, :, :] = np.random.permutation(np.arange(1, size+1)).reshape(inner_rows, inner_cols)\n",
    "print(puzzle)\n",
    "puzzle = Sudoku(puzzle)\n",
    "print(puzzle)"
   ]
  },
  {
   "cell_type": "code",
   "execution_count": 386,
   "id": "257810bf",
   "metadata": {},
   "outputs": [
    {
     "data": {
      "text/plain": [
       "<function RandomState.shuffle>"
      ]
     },
     "execution_count": 386,
     "metadata": {},
     "output_type": "execute_result"
    }
   ],
   "source": [
    "np.random.shuffle"
   ]
  },
  {
   "cell_type": "code",
   "execution_count": 326,
   "id": "b1d330fa",
   "metadata": {},
   "outputs": [
    {
     "data": {
      "text/plain": [
       "array([0, 2], dtype=int64)"
      ]
     },
     "execution_count": 326,
     "metadata": {},
     "output_type": "execute_result"
    }
   ],
   "source": [
    "# candidates[[0, 1]]"
   ]
  },
  {
   "cell_type": "code",
   "execution_count": 392,
   "id": "d6f8143a",
   "metadata": {},
   "outputs": [
    {
     "name": "stdout",
     "output_type": "stream",
     "text": [
      " 5  3  0 | 0  7  0 | 0  0  0 \n",
      " 6  0  0 | 1  9  5 | 0  0  0 \n",
      " 0  9  8 | 0  0  0 | 0  6  0 \n",
      "---------+---------+---------\n",
      " 8  0  0 | 0  6  0 | 0  0  3 \n",
      " 4  0  0 | 8  0  3 | 0  0  1 \n",
      " 7  0  0 | 0  2  0 | 0  0  6 \n",
      "---------+---------+---------\n",
      " 0  6  0 | 0  0  0 | 2  8  0 \n",
      " 0  0  0 | 4  1  9 | 0  0  5 \n",
      " 0  0  0 | 0  8  0 | 6  0  0 \n"
     ]
    }
   ],
   "source": [
    "print(sudoku)"
   ]
  },
  {
   "cell_type": "code",
   "execution_count": 396,
   "id": "7f18bb75",
   "metadata": {},
   "outputs": [
    {
     "name": "stdout",
     "output_type": "stream",
     "text": [
      " 5  6  0 | 8  4  7 | 0  0  0 \n",
      " 3  0  9 | 0  0  0 | 6  0  0 \n",
      " 0  0  8 | 0  0  0 | 0  0  0 \n",
      "---------+---------+---------\n",
      " 0  1  0 | 0  8  0 | 0  4  0 \n",
      " 7  9  0 | 6  0  2 | 0  1  8 \n",
      " 0  5  0 | 0  3  0 | 0  9  0 \n",
      "---------+---------+---------\n",
      " 0  0  0 | 0  0  0 | 2  0  6 \n",
      " 0  0  6 | 0  0  0 | 8  0  0 \n",
      " 0  0  0 | 3  1  6 | 0  5  0 \n"
     ]
    }
   ],
   "source": [
    "print(sudoku.transpose(1,0,3,2))"
   ]
  },
  {
   "cell_type": "code",
   "execution_count": 38,
   "id": "329027a1",
   "metadata": {},
   "outputs": [
    {
     "data": {
      "text/plain": [
       "4096"
      ]
     },
     "execution_count": 38,
     "metadata": {},
     "output_type": "execute_result"
    }
   ],
   "source": [
    "16*16*16"
   ]
  },
  {
   "cell_type": "code",
   "execution_count": 346,
   "id": "72cbda56",
   "metadata": {},
   "outputs": [],
   "source": [
    "pos = entry.possible#.reshape(1, -1)"
   ]
  },
  {
   "cell_type": "code",
   "execution_count": 347,
   "id": "2a7720fe",
   "metadata": {},
   "outputs": [
    {
     "data": {
      "text/plain": [
       "array([ True, False, False,  True, False,  True, False, False,  True])"
      ]
     },
     "execution_count": 347,
     "metadata": {},
     "output_type": "execute_result"
    }
   ],
   "source": [
    "pos.T"
   ]
  },
  {
   "cell_type": "code",
   "execution_count": 369,
   "id": "8975ee8f",
   "metadata": {},
   "outputs": [
    {
     "data": {
      "text/plain": [
       "array([[False, False, False,  True, False,  True, False, False,  True],\n",
       "       [False, False, False, False, False, False, False, False, False],\n",
       "       [False, False, False, False, False, False, False, False, False],\n",
       "       [False, False, False, False, False,  True, False, False,  True],\n",
       "       [False, False, False, False, False, False, False, False, False],\n",
       "       [False, False, False, False, False, False, False, False,  True],\n",
       "       [False, False, False, False, False, False, False, False, False],\n",
       "       [False, False, False, False, False, False, False, False, False],\n",
       "       [False, False, False, False, False, False, False, False, False]])"
      ]
     },
     "execution_count": 369,
     "metadata": {},
     "output_type": "execute_result"
    }
   ],
   "source": [
    "np.triu(np.multiply(pos, pos.reshape(-1, 1)), 1)"
   ]
  },
  {
   "cell_type": "code",
   "execution_count": 360,
   "id": "83dcf645",
   "metadata": {},
   "outputs": [
    {
     "ename": "AttributeError",
     "evalue": "'numpy.ndarray' object has no attribute 'diag_indices'",
     "output_type": "error",
     "traceback": [
      "\u001b[1;31m---------------------------------------------------------------------------\u001b[0m",
      "\u001b[1;31mAttributeError\u001b[0m                            Traceback (most recent call last)",
      "\u001b[1;32m~\\AppData\\Local\\Temp\\ipykernel_24848\\697180714.py\u001b[0m in \u001b[0;36m<module>\u001b[1;34m\u001b[0m\n\u001b[1;32m----> 1\u001b[1;33m \u001b[0mnp\u001b[0m\u001b[1;33m.\u001b[0m\u001b[0mmultiply\u001b[0m\u001b[1;33m(\u001b[0m\u001b[0mpos\u001b[0m\u001b[1;33m,\u001b[0m \u001b[0mpos\u001b[0m\u001b[1;33m.\u001b[0m\u001b[0mreshape\u001b[0m\u001b[1;33m(\u001b[0m\u001b[1;33m-\u001b[0m\u001b[1;36m1\u001b[0m\u001b[1;33m,\u001b[0m \u001b[1;36m1\u001b[0m\u001b[1;33m)\u001b[0m\u001b[1;33m)\u001b[0m\u001b[1;33m.\u001b[0m\u001b[0mdiag_indices\u001b[0m\u001b[1;33m\u001b[0m\u001b[1;33m\u001b[0m\u001b[0m\n\u001b[0m",
      "\u001b[1;31mAttributeError\u001b[0m: 'numpy.ndarray' object has no attribute 'diag_indices'"
     ]
    }
   ],
   "source": [
    "np.multiply(pos, pos.reshape(-1, 1)).diag_indices()"
   ]
  },
  {
   "cell_type": "code",
   "execution_count": 357,
   "id": "90ce0025",
   "metadata": {},
   "outputs": [
    {
     "ename": "ValueError",
     "evalue": "setting an array element with a sequence.",
     "output_type": "error",
     "traceback": [
      "\u001b[1;31m---------------------------------------------------------------------------\u001b[0m",
      "\u001b[1;31mValueError\u001b[0m                                Traceback (most recent call last)",
      "\u001b[1;31mValueError\u001b[0m: The truth value of an array with more than one element is ambiguous. Use a.any() or a.all()",
      "\nThe above exception was the direct cause of the following exception:\n",
      "\u001b[1;31mValueError\u001b[0m                                Traceback (most recent call last)",
      "\u001b[1;32m~\\AppData\\Local\\Temp\\ipykernel_24848\\1285436935.py\u001b[0m in \u001b[0;36m<module>\u001b[1;34m\u001b[0m\n\u001b[1;32m----> 1\u001b[1;33m \u001b[0mnp\u001b[0m\u001b[1;33m.\u001b[0m\u001b[0mvectorize\u001b[0m\u001b[1;33m(\u001b[0m\u001b[1;32mlambda\u001b[0m \u001b[0mx\u001b[0m\u001b[1;33m:\u001b[0m \u001b[0mx\u001b[0m\u001b[1;33m.\u001b[0m\u001b[0mpossible\u001b[0m \u001b[1;33m*\u001b[0m \u001b[0mx\u001b[0m\u001b[1;33m.\u001b[0m\u001b[0mpossible\u001b[0m\u001b[1;33m.\u001b[0m\u001b[0mreshape\u001b[0m\u001b[1;33m(\u001b[0m\u001b[1;36m1\u001b[0m\u001b[1;33m,\u001b[0m \u001b[1;33m-\u001b[0m\u001b[1;36m1\u001b[0m\u001b[1;33m)\u001b[0m\u001b[1;33m)\u001b[0m\u001b[1;33m(\u001b[0m\u001b[0mrow\u001b[0m\u001b[1;33m)\u001b[0m\u001b[1;33m\u001b[0m\u001b[1;33m\u001b[0m\u001b[0m\n\u001b[0m",
      "\u001b[1;32mC:\\ProgramData\\Anaconda3\\lib\\site-packages\\numpy\\lib\\function_base.py\u001b[0m in \u001b[0;36m__call__\u001b[1;34m(self, *args, **kwargs)\u001b[0m\n\u001b[0;32m   2326\u001b[0m             \u001b[0mvargs\u001b[0m\u001b[1;33m.\u001b[0m\u001b[0mextend\u001b[0m\u001b[1;33m(\u001b[0m\u001b[1;33m[\u001b[0m\u001b[0mkwargs\u001b[0m\u001b[1;33m[\u001b[0m\u001b[0m_n\u001b[0m\u001b[1;33m]\u001b[0m \u001b[1;32mfor\u001b[0m \u001b[0m_n\u001b[0m \u001b[1;32min\u001b[0m \u001b[0mnames\u001b[0m\u001b[1;33m]\u001b[0m\u001b[1;33m)\u001b[0m\u001b[1;33m\u001b[0m\u001b[1;33m\u001b[0m\u001b[0m\n\u001b[0;32m   2327\u001b[0m \u001b[1;33m\u001b[0m\u001b[0m\n\u001b[1;32m-> 2328\u001b[1;33m         \u001b[1;32mreturn\u001b[0m \u001b[0mself\u001b[0m\u001b[1;33m.\u001b[0m\u001b[0m_vectorize_call\u001b[0m\u001b[1;33m(\u001b[0m\u001b[0mfunc\u001b[0m\u001b[1;33m=\u001b[0m\u001b[0mfunc\u001b[0m\u001b[1;33m,\u001b[0m \u001b[0margs\u001b[0m\u001b[1;33m=\u001b[0m\u001b[0mvargs\u001b[0m\u001b[1;33m)\u001b[0m\u001b[1;33m\u001b[0m\u001b[1;33m\u001b[0m\u001b[0m\n\u001b[0m\u001b[0;32m   2329\u001b[0m \u001b[1;33m\u001b[0m\u001b[0m\n\u001b[0;32m   2330\u001b[0m     \u001b[1;32mdef\u001b[0m \u001b[0m_get_ufunc_and_otypes\u001b[0m\u001b[1;33m(\u001b[0m\u001b[0mself\u001b[0m\u001b[1;33m,\u001b[0m \u001b[0mfunc\u001b[0m\u001b[1;33m,\u001b[0m \u001b[0margs\u001b[0m\u001b[1;33m)\u001b[0m\u001b[1;33m:\u001b[0m\u001b[1;33m\u001b[0m\u001b[1;33m\u001b[0m\u001b[0m\n",
      "\u001b[1;32mC:\\ProgramData\\Anaconda3\\lib\\site-packages\\numpy\\lib\\function_base.py\u001b[0m in \u001b[0;36m_vectorize_call\u001b[1;34m(self, func, args)\u001b[0m\n\u001b[0;32m   2412\u001b[0m \u001b[1;33m\u001b[0m\u001b[0m\n\u001b[0;32m   2413\u001b[0m             \u001b[1;32mif\u001b[0m \u001b[0mufunc\u001b[0m\u001b[1;33m.\u001b[0m\u001b[0mnout\u001b[0m \u001b[1;33m==\u001b[0m \u001b[1;36m1\u001b[0m\u001b[1;33m:\u001b[0m\u001b[1;33m\u001b[0m\u001b[1;33m\u001b[0m\u001b[0m\n\u001b[1;32m-> 2414\u001b[1;33m                 \u001b[0mres\u001b[0m \u001b[1;33m=\u001b[0m \u001b[0masanyarray\u001b[0m\u001b[1;33m(\u001b[0m\u001b[0moutputs\u001b[0m\u001b[1;33m,\u001b[0m \u001b[0mdtype\u001b[0m\u001b[1;33m=\u001b[0m\u001b[0motypes\u001b[0m\u001b[1;33m[\u001b[0m\u001b[1;36m0\u001b[0m\u001b[1;33m]\u001b[0m\u001b[1;33m)\u001b[0m\u001b[1;33m\u001b[0m\u001b[1;33m\u001b[0m\u001b[0m\n\u001b[0m\u001b[0;32m   2415\u001b[0m             \u001b[1;32melse\u001b[0m\u001b[1;33m:\u001b[0m\u001b[1;33m\u001b[0m\u001b[1;33m\u001b[0m\u001b[0m\n\u001b[0;32m   2416\u001b[0m                 res = tuple([asanyarray(x, dtype=t)\n",
      "\u001b[1;31mValueError\u001b[0m: setting an array element with a sequence."
     ]
    }
   ],
   "source": [
    "np.vectorize(lambda x: x.possible * x.possible.reshape(1, -1))(row)"
   ]
  },
  {
   "cell_type": "code",
   "execution_count": 368,
   "id": "505aa528",
   "metadata": {},
   "outputs": [
    {
     "data": {
      "text/plain": [
       "array([[0., 1., 1., 1., 1., 1., 1., 1., 1.],\n",
       "       [0., 0., 1., 1., 1., 1., 1., 1., 1.],\n",
       "       [0., 0., 0., 1., 1., 1., 1., 1., 1.],\n",
       "       [0., 0., 0., 0., 1., 1., 1., 1., 1.],\n",
       "       [0., 0., 0., 0., 0., 1., 1., 1., 1.],\n",
       "       [0., 0., 0., 0., 0., 0., 1., 1., 1.],\n",
       "       [0., 0., 0., 0., 0., 0., 0., 1., 1.],\n",
       "       [0., 0., 0., 0., 0., 0., 0., 0., 1.],\n",
       "       [0., 0., 0., 0., 0., 0., 0., 0., 0.]])"
      ]
     },
     "execution_count": 368,
     "metadata": {},
     "output_type": "execute_result"
    }
   ],
   "source": [
    "np.triu(np.ones((9,9)), 1)"
   ]
  },
  {
   "cell_type": "code",
   "execution_count": 447,
   "id": "6eb2de0e",
   "metadata": {},
   "outputs": [
    {
     "data": {
      "text/plain": [
       "SudokuEntry{1, 2, 5, 6, 7, 9}"
      ]
     },
     "execution_count": 447,
     "metadata": {},
     "output_type": "execute_result"
    }
   ],
   "source": [
    "entry"
   ]
  },
  {
   "cell_type": "code",
   "execution_count": 448,
   "id": "a19fd697",
   "metadata": {},
   "outputs": [
    {
     "data": {
      "text/plain": [
       "array([3, 7], dtype=int64)"
      ]
     },
     "execution_count": 448,
     "metadata": {},
     "output_type": "execute_result"
    }
   ],
   "source": [
    "hidden_pair_vals"
   ]
  },
  {
   "cell_type": "code",
   "execution_count": 451,
   "id": "1d3ff1d6",
   "metadata": {},
   "outputs": [
    {
     "data": {
      "text/plain": [
       "1"
      ]
     },
     "execution_count": 451,
     "metadata": {},
     "output_type": "execute_result"
    }
   ],
   "source": [
    "entry.possible[hidden_pair_vals-1].sum()"
   ]
  },
  {
   "cell_type": "code",
   "execution_count": 116,
   "id": "829d2508",
   "metadata": {},
   "outputs": [],
   "source": [
    "a = np.asarray([1, 0, 0, 1, 1])"
   ]
  },
  {
   "cell_type": "code",
   "execution_count": 59,
   "id": "56f39afe",
   "metadata": {},
   "outputs": [
    {
     "data": {
      "text/plain": [
       "array([[0, 0, 0, 0, 0],\n",
       "       [0, 0, 0, 0, 0],\n",
       "       [0, 0, 0, 0, 0],\n",
       "       [0, 0, 0, 0, 1],\n",
       "       [0, 0, 0, 0, 0]])"
      ]
     },
     "execution_count": 59,
     "metadata": {},
     "output_type": "execute_result"
    }
   ],
   "source": [
    "np.triu(a.reshape(-1, 1) * a.reshape(1, -1), 1) #.nonzero()"
   ]
  },
  {
   "cell_type": "code",
   "execution_count": 189,
   "id": "bc9b865f",
   "metadata": {},
   "outputs": [
    {
     "data": {
      "text/plain": [
       "(array([0, 2], dtype=int64),\n",
       " array([0, 0], dtype=int64),\n",
       " array([2, 2], dtype=int64))"
      ]
     },
     "execution_count": 189,
     "metadata": {},
     "output_type": "execute_result"
    }
   ],
   "source": [
    "a = np.asarray([1, 0, 1])\n",
    "np.triu(np.triu(a.reshape(-1, 1) * a.reshape(1, -1), 1) * a.reshape(-1,1,1), 1).nonzero()"
   ]
  },
  {
   "cell_type": "code",
   "execution_count": null,
   "id": "605426ad",
   "metadata": {},
   "outputs": [],
   "source": [
    "#abc = ab + bc + ca\n",
    "\n",
    "ab = np.triu(a.reshape(-1, 1) * a.reshape(1, -1), 1)\n"
   ]
  },
  {
   "cell_type": "code",
   "execution_count": 78,
   "id": "b050561d",
   "metadata": {},
   "outputs": [
    {
     "data": {
      "text/plain": [
       "(25, 25, 25)"
      ]
     },
     "execution_count": 78,
     "metadata": {},
     "output_type": "execute_result"
    }
   ],
   "source": [
    "ab = np.triu(a.reshape(-1, 1) * a.reshape(1, -1), 1).reshape(-1, 1, 1)\n",
    "bc = np.triu(a.reshape(-1, 1) * a.reshape(1, -1), 1).reshape(1, -1, 1)\n",
    "ca = np.triu(a.reshape(-1, 1) * a.reshape(1, -1), 1).reshape(1, 1, -1)\n",
    "# abc = \n",
    "\n",
    "ans = np.asarray(((ab + bc + ca) == 2).nonzero()).T\n",
    "(ab + bc + ca).shape"
   ]
  },
  {
   "cell_type": "code",
   "execution_count": 214,
   "id": "08dab795",
   "metadata": {},
   "outputs": [
    {
     "data": {
      "text/plain": [
       "array([[0, 1, 0, 1],\n",
       "       [1, 1, 1, 1],\n",
       "       [0, 1, 0, 1],\n",
       "       [1, 1, 1, 1]])"
      ]
     },
     "execution_count": 214,
     "metadata": {},
     "output_type": "execute_result"
    }
   ],
   "source": [
    "(a | a.reshape(-1, 1))# * (a + a.reshape(-1, 1))"
   ]
  },
  {
   "cell_type": "code",
   "execution_count": 206,
   "id": "b250f194",
   "metadata": {},
   "outputs": [
    {
     "data": {
      "text/plain": [
       "(array([], dtype=int64), array([], dtype=int64), array([], dtype=int64))"
      ]
     },
     "execution_count": 206,
     "metadata": {},
     "output_type": "execute_result"
    }
   ],
   "source": [
    "a = np.asarray([0, 1, 0, 1])\n",
    "ab = np.triu(a.reshape(-1, 1) * a.reshape(1, -1), 1)\n",
    "idxs = np.asarray((ab + a.reshape(-1, 1, 1)).nonzero())\n",
    "idxs.T#[((idxs[0] < idxs[1]) & (idxs[1] < idxs[2]))]#.shape\n",
    "ab\n",
    "U = np.triu(np.ones(a.size), 1)\n",
    "UwU = U.reshape(*U.shape, 1) * U.reshape(1, *U.shape)\n",
    "UwU\n",
    "(ab + a.reshape(-1, 1, 1))\n",
    "(((ab + a.reshape(-1, 1, 1)) == 2) * UwU).astype(bool).nonzero()"
   ]
  },
  {
   "cell_type": "code",
   "execution_count": 201,
   "id": "c646b267",
   "metadata": {},
   "outputs": [
    {
     "data": {
      "text/plain": [
       "array([[0, 0, 0, 0],\n",
       "       [0, 0, 0, 1],\n",
       "       [0, 0, 0, 0],\n",
       "       [0, 0, 0, 0]])"
      ]
     },
     "execution_count": 201,
     "metadata": {},
     "output_type": "execute_result"
    }
   ],
   "source": [
    "ab"
   ]
  },
  {
   "cell_type": "code",
   "execution_count": 203,
   "id": "907cafe3",
   "metadata": {},
   "outputs": [
    {
     "data": {
      "text/plain": [
       "array([[[0]],\n",
       "\n",
       "       [[1]],\n",
       "\n",
       "       [[0]],\n",
       "\n",
       "       [[1]]])"
      ]
     },
     "execution_count": 203,
     "metadata": {},
     "output_type": "execute_result"
    }
   ],
   "source": [
    "a.reshape(-1, 1, 1)"
   ]
  },
  {
   "cell_type": "code",
   "execution_count": 205,
   "id": "1f5fd408",
   "metadata": {},
   "outputs": [
    {
     "data": {
      "text/plain": [
       "array([[[False, False, False, False],\n",
       "        [False, False, False, False],\n",
       "        [False, False, False, False],\n",
       "        [False, False, False, False]],\n",
       "\n",
       "       [[False, False, False, False],\n",
       "        [False, False, False,  True],\n",
       "        [False, False, False, False],\n",
       "        [False, False, False, False]],\n",
       "\n",
       "       [[False, False, False, False],\n",
       "        [False, False, False, False],\n",
       "        [False, False, False, False],\n",
       "        [False, False, False, False]],\n",
       "\n",
       "       [[False, False, False, False],\n",
       "        [False, False, False,  True],\n",
       "        [False, False, False, False],\n",
       "        [False, False, False, False]]])"
      ]
     },
     "execution_count": 205,
     "metadata": {},
     "output_type": "execute_result"
    }
   ],
   "source": [
    "((ab + a.reshape(-1, 1, 1)) > 1)"
   ]
  },
  {
   "cell_type": "code",
   "execution_count": 137,
   "id": "158ccb49",
   "metadata": {},
   "outputs": [
    {
     "data": {
      "text/plain": [
       "array([[[0., 1., 1., 1., 1.]],\n",
       "\n",
       "       [[0., 0., 0., 0., 0.]],\n",
       "\n",
       "       [[0., 0., 0., 0., 0.]],\n",
       "\n",
       "       [[0., 0., 0., 0., 1.]],\n",
       "\n",
       "       [[0., 0., 0., 0., 0.]]])"
      ]
     },
     "execution_count": 137,
     "metadata": {},
     "output_type": "execute_result"
    }
   ],
   "source": [
    "np.triu(np.ones(a.size), 1).reshape(a.size, 1, a.size) * a.reshape(-1, 1, 1)"
   ]
  },
  {
   "cell_type": "code",
   "execution_count": null,
   "id": "0238bde6",
   "metadata": {},
   "outputs": [],
   "source": [
    "0 0 0 0 0\n",
    "0 0 1 1 1\n",
    "0 0 0 1 1\n",
    "0 0 0 0 1\n",
    "0 0 0 0 0\n",
    "\n",
    "0 0 0 0 0\n",
    "0 0 0 0 0\n",
    "0 0 0 1 1\n",
    "0 0 0 0 1\n",
    "0 0 0 0 0\n",
    "\n",
    "\n",
    "\n",
    "0 1 1 1 1\n",
    "0 0 1 1 1\n",
    "0 0 0 1 1\n",
    "0 0 0 0 1\n",
    "0 0 0 0 0"
   ]
  },
  {
   "cell_type": "code",
   "execution_count": 143,
   "id": "28cd95ee",
   "metadata": {},
   "outputs": [
    {
     "data": {
      "text/plain": [
       "array([[[0., 0., 0., 0., 0.],\n",
       "        [0., 0., 1., 1., 1.],\n",
       "        [0., 0., 0., 1., 1.],\n",
       "        [0., 0., 0., 0., 1.],\n",
       "        [0., 0., 0., 0., 0.]],\n",
       "\n",
       "       [[0., 0., 0., 0., 0.],\n",
       "        [0., 0., 0., 0., 0.],\n",
       "        [0., 0., 0., 1., 1.],\n",
       "        [0., 0., 0., 0., 1.],\n",
       "        [0., 0., 0., 0., 0.]],\n",
       "\n",
       "       [[0., 0., 0., 0., 0.],\n",
       "        [0., 0., 0., 0., 0.],\n",
       "        [0., 0., 0., 0., 0.],\n",
       "        [0., 0., 0., 0., 1.],\n",
       "        [0., 0., 0., 0., 0.]],\n",
       "\n",
       "       [[0., 0., 0., 0., 0.],\n",
       "        [0., 0., 0., 0., 0.],\n",
       "        [0., 0., 0., 0., 0.],\n",
       "        [0., 0., 0., 0., 0.],\n",
       "        [0., 0., 0., 0., 0.]],\n",
       "\n",
       "       [[0., 0., 0., 0., 0.],\n",
       "        [0., 0., 0., 0., 0.],\n",
       "        [0., 0., 0., 0., 0.],\n",
       "        [0., 0., 0., 0., 0.],\n",
       "        [0., 0., 0., 0., 0.]]])"
      ]
     },
     "execution_count": 143,
     "metadata": {},
     "output_type": "execute_result"
    }
   ],
   "source": []
  },
  {
   "cell_type": "code",
   "execution_count": 148,
   "id": "b0b55dcd",
   "metadata": {},
   "outputs": [
    {
     "data": {
      "text/plain": [
       "(3, 3, 3, 3)"
      ]
     },
     "execution_count": 148,
     "metadata": {},
     "output_type": "execute_result"
    }
   ],
   "source": [
    "sudoku.shape"
   ]
  },
  {
   "cell_type": "code",
   "execution_count": 149,
   "id": "663fe926",
   "metadata": {},
   "outputs": [],
   "source": [
    "U = np.triu(np.ones(sudoku.shape[0] * sudoku.shape[1]), 1)\n",
    "UwU = U.reshape(*U.shape, 1) * U.reshape(1, *U.shape)"
   ]
  },
  {
   "cell_type": "code",
   "execution_count": 207,
   "id": "274ec3c7",
   "metadata": {},
   "outputs": [
    {
     "data": {
      "text/plain": [
       "array([[[0., 0., 0., 0.],\n",
       "        [0., 0., 1., 1.],\n",
       "        [0., 0., 0., 1.],\n",
       "        [0., 0., 0., 0.]],\n",
       "\n",
       "       [[0., 0., 0., 0.],\n",
       "        [0., 0., 0., 0.],\n",
       "        [0., 0., 0., 1.],\n",
       "        [0., 0., 0., 0.]],\n",
       "\n",
       "       [[0., 0., 0., 0.],\n",
       "        [0., 0., 0., 0.],\n",
       "        [0., 0., 0., 0.],\n",
       "        [0., 0., 0., 0.]],\n",
       "\n",
       "       [[0., 0., 0., 0.],\n",
       "        [0., 0., 0., 0.],\n",
       "        [0., 0., 0., 0.],\n",
       "        [0., 0., 0., 0.]]])"
      ]
     },
     "execution_count": 207,
     "metadata": {},
     "output_type": "execute_result"
    }
   ],
   "source": [
    "UwU"
   ]
  },
  {
   "cell_type": "code",
   "execution_count": 155,
   "id": "1cf43cb1",
   "metadata": {},
   "outputs": [
    {
     "data": {
      "text/plain": [
       "(4,)"
      ]
     },
     "execution_count": 155,
     "metadata": {},
     "output_type": "execute_result"
    }
   ],
   "source": [
    "candidates.shape"
   ]
  },
  {
   "cell_type": "code",
   "execution_count": 156,
   "id": "5415c173",
   "metadata": {},
   "outputs": [
    {
     "data": {
      "text/plain": [
       "(12, 12, 12)"
      ]
     },
     "execution_count": 156,
     "metadata": {},
     "output_type": "execute_result"
    }
   ],
   "source": [
    "UwU.shape"
   ]
  },
  {
   "cell_type": "code",
   "execution_count": 158,
   "id": "47039e68",
   "metadata": {},
   "outputs": [],
   "source": [
    "U = np.triu(np.ones(candidates.shape), 1)\n",
    "# UwU = U.reshape(*U.shape, 1) * U.reshape(1, *U.shape)"
   ]
  },
  {
   "cell_type": "code",
   "execution_count": 159,
   "id": "bd061374",
   "metadata": {},
   "outputs": [
    {
     "data": {
      "text/plain": [
       "array([[0., 1., 1., 1.],\n",
       "       [0., 0., 1., 1.],\n",
       "       [0., 0., 0., 1.],\n",
       "       [0., 0., 0., 0.]])"
      ]
     },
     "execution_count": 159,
     "metadata": {},
     "output_type": "execute_result"
    }
   ],
   "source": [
    "U"
   ]
  },
  {
   "cell_type": "code",
   "execution_count": 230,
   "id": "f92856fb",
   "metadata": {},
   "outputs": [
    {
     "data": {
      "text/plain": [
       "(array([0, 0, 0, 0, 1, 1, 1, 1, 2, 2, 2, 2, 3, 3, 3, 3], dtype=int64),\n",
       " array([0, 1, 2, 3, 0, 1, 2, 3, 0, 1, 2, 3, 0, 1, 2, 3], dtype=int64),\n",
       " array([0, 1, 2, 3, 0, 3, 2, 1, 0, 1, 2, 3, 0, 3, 2, 1], dtype=int64))"
      ]
     },
     "execution_count": 230,
     "metadata": {},
     "output_type": "execute_result"
    }
   ],
   "source": [
    "aaa = a.reshape(-1, 1, 1)\n",
    "(((aaa * aaa.transpose(1, 0, 2) * aaa.transpose(2, 1, 0)) - np.eye(a.size, dtype=int)[None, :, :])).nonzero()"
   ]
  },
  {
   "cell_type": "code",
   "execution_count": 223,
   "id": "7f59e66d",
   "metadata": {},
   "outputs": [
    {
     "data": {
      "text/plain": [
       "array([[[0]],\n",
       "\n",
       "       [[1]],\n",
       "\n",
       "       [[0]],\n",
       "\n",
       "       [[1]]])"
      ]
     },
     "execution_count": 223,
     "metadata": {},
     "output_type": "execute_result"
    }
   ],
   "source": [
    "aaa"
   ]
  },
  {
   "cell_type": "code",
   "execution_count": 226,
   "id": "fe3663a3",
   "metadata": {},
   "outputs": [
    {
     "data": {
      "text/plain": [
       "array([[[0],\n",
       "        [1],\n",
       "        [0],\n",
       "        [1]]])"
      ]
     },
     "execution_count": 226,
     "metadata": {},
     "output_type": "execute_result"
    }
   ],
   "source": [
    "aaa.transpose(1, 0, 2)"
   ]
  },
  {
   "cell_type": "code",
   "execution_count": 241,
   "id": "b308695d",
   "metadata": {},
   "outputs": [],
   "source": [
    "def generate_b(a):\n",
    "    size = len(a)\n",
    "    I = np.eye(size)  # Identity matrix\n",
    "    outer_product = np.einsum('i,j,k->ijk', a, a, a)  # Outer product of a with itself\n",
    "#     b = outer_product - I  # Subtract identity to keep only cases where at least two of i, j, k exist\n",
    "#     b = np.clip(b, 0, 1)  # Clip values between 0 and 1\n",
    "    return outer_product"
   ]
  },
  {
   "cell_type": "code",
   "execution_count": 242,
   "id": "01ac6a51",
   "metadata": {},
   "outputs": [
    {
     "data": {
      "text/plain": [
       "(array([1, 1, 1, 1, 3, 3, 3, 3], dtype=int64),\n",
       " array([1, 1, 3, 3, 1, 1, 3, 3], dtype=int64),\n",
       " array([1, 3, 1, 3, 1, 3, 1, 3], dtype=int64))"
      ]
     },
     "execution_count": 242,
     "metadata": {},
     "output_type": "execute_result"
    }
   ],
   "source": [
    "generate_b(a).nonzero()"
   ]
  },
  {
   "cell_type": "code",
   "execution_count": null,
   "id": "02c2f68b",
   "metadata": {},
   "outputs": [],
   "source": []
  },
  {
   "cell_type": "code",
   "execution_count": null,
   "id": "e85daf78",
   "metadata": {},
   "outputs": [],
   "source": []
  },
  {
   "cell_type": "markdown",
   "id": "57f328c3",
   "metadata": {},
   "source": [
    "# .\n",
    "# .\n",
    "# .\n",
    "\n",
    "\n",
    "\n",
    "\n",
    "\n",
    "\n",
    "\n",
    "\n",
    "\n",
    "\n",
    "\n",
    "\n",
    "\n",
    "\n",
    "\n",
    "\n",
    "\n",
    "\n",
    "\n",
    "\n",
    "\n"
   ]
  },
  {
   "cell_type": "code",
   "execution_count": 315,
   "id": "7c62a7aa",
   "metadata": {},
   "outputs": [],
   "source": [
    "a = np.asarray([1, 0, 1, 1])"
   ]
  },
  {
   "cell_type": "code",
   "execution_count": 316,
   "id": "5b34aa85",
   "metadata": {},
   "outputs": [],
   "source": [
    "i = np.asarray([0, 1, 3])"
   ]
  },
  {
   "cell_type": "code",
   "execution_count": 319,
   "id": "7dc02834",
   "metadata": {},
   "outputs": [],
   "source": [
    "store = a[i] & 1\n",
    "a[:] = 0\n",
    "a[i] = store"
   ]
  },
  {
   "cell_type": "code",
   "execution_count": 320,
   "id": "83d13d10",
   "metadata": {},
   "outputs": [
    {
     "data": {
      "text/plain": [
       "array([1, 0, 0, 1])"
      ]
     },
     "execution_count": 320,
     "metadata": {},
     "output_type": "execute_result"
    }
   ],
   "source": [
    "a"
   ]
  },
  {
   "cell_type": "code",
   "execution_count": 263,
   "id": "23015f20",
   "metadata": {},
   "outputs": [
    {
     "data": {
      "text/plain": [
       "array([[1, 0, 0],\n",
       "       [0, 0, 0],\n",
       "       [0, 0, 0]])"
      ]
     },
     "execution_count": 263,
     "metadata": {},
     "output_type": "execute_result"
    }
   ],
   "source": [
    "a * a.reshape(-1, 1)"
   ]
  },
  {
   "cell_type": "code",
   "execution_count": 260,
   "id": "c0de20fa",
   "metadata": {},
   "outputs": [
    {
     "data": {
      "text/plain": [
       "array([[[0., 0., 0.],\n",
       "        [0., 0., 1.],\n",
       "        [0., 0., 0.]],\n",
       "\n",
       "       [[0., 0., 0.],\n",
       "        [0., 0., 0.],\n",
       "        [0., 0., 0.]],\n",
       "\n",
       "       [[0., 0., 0.],\n",
       "        [0., 0., 0.],\n",
       "        [0., 0., 0.]]])"
      ]
     },
     "execution_count": 260,
     "metadata": {},
     "output_type": "execute_result"
    }
   ],
   "source": [
    "U = np.triu(np.ones(a.size), 1)\n",
    "UwU = U.reshape(*U.shape, 1) * U.reshape(1, *U.shape)\n",
    "UwU"
   ]
  },
  {
   "cell_type": "code",
   "execution_count": 281,
   "id": "6a00ebd6",
   "metadata": {},
   "outputs": [
    {
     "data": {
      "text/plain": [
       "array([[[1., 0., 0.]],\n",
       "\n",
       "       [[1., 0., 0.]],\n",
       "\n",
       "       [[1., 0., 0.]]])"
      ]
     },
     "execution_count": 281,
     "metadata": {},
     "output_type": "execute_result"
    }
   ],
   "source": [
    "((a * a.reshape(-1, 1)) + a.reshape(-1, 1, 1))\n",
    "\n",
    "# 1 1 1\n",
    "# 1 0 0\n",
    "# 1 0 0\n",
    "\n",
    "# 1 0 0\n",
    "# 0 0 0\n",
    "# 0 0 0\n",
    "\n",
    "# 1 0 0\n",
    "# 0 0 0\n",
    "# 0 0 0\n",
    "\n",
    "\n",
    "# (a * a.reshape(-1, 1)) * np.ones(shape=(*a.shape, 1, 1))\n",
    "a * np.ones(shape=(*a.shape, 1, 1)) #* a.reshape(-1, 1)"
   ]
  },
  {
   "cell_type": "code",
   "execution_count": 282,
   "id": "897f46ff",
   "metadata": {},
   "outputs": [
    {
     "data": {
      "text/plain": [
       "array([[[2, 1, 1],\n",
       "        [1, 1, 1],\n",
       "        [1, 1, 1]],\n",
       "\n",
       "       [[1, 0, 0],\n",
       "        [0, 0, 0],\n",
       "        [0, 0, 0]],\n",
       "\n",
       "       [[1, 0, 0],\n",
       "        [0, 0, 0],\n",
       "        [0, 0, 0]]])"
      ]
     },
     "execution_count": 282,
     "metadata": {},
     "output_type": "execute_result"
    }
   ],
   "source": [
    "((a * a.reshape(-1, 1)) + a.reshape(-1, 1, 1))"
   ]
  },
  {
   "cell_type": "code",
   "execution_count": null,
   "id": "ad403760",
   "metadata": {},
   "outputs": [],
   "source": [
    "0 1 3, 1 2 3\n",
    "\n",
    "0 0 0 0\n",
    "0 0 0 1\n",
    "0 0 0 0\n",
    "0 1 0 0\n",
    "\n",
    "0 0 0 1\n",
    "0 0 0 0\n",
    "1 0 0 1\n",
    "0 0 1 0\n",
    "\n",
    "0 0 0 0\n",
    "0 0 0 1\n",
    "0 0 0 0\n",
    "0 1 0 0\n",
    "\n",
    "0 1 0 0\n",
    "1 0 1 0\n",
    "0 1 0 0\n",
    "0 0 0 0"
   ]
  },
  {
   "cell_type": "code",
   "execution_count": 297,
   "id": "c83d45af",
   "metadata": {},
   "outputs": [
    {
     "data": {
      "text/plain": [
       "array([[[3., 1., 1.],\n",
       "        [1., 0., 0.],\n",
       "        [1., 0., 0.]],\n",
       "\n",
       "       [[1., 0., 0.],\n",
       "        [0., 0., 0.],\n",
       "        [0., 0., 0.]],\n",
       "\n",
       "       [[1., 0., 0.],\n",
       "        [0., 0., 0.],\n",
       "        [0., 0., 0.]]])"
      ]
     },
     "execution_count": 297,
     "metadata": {},
     "output_type": "execute_result"
    }
   ],
   "source": [
    "((a * a.reshape(-1, 1)) + a.reshape(-1, 1, 1))\n",
    "\n",
    "# 1 1 1\n",
    "# 1 0 0\n",
    "# 1 0 0\n",
    "\n",
    "# 1 0 0\n",
    "# 0 0 0\n",
    "# 0 0 0\n",
    "\n",
    "# 1 0 0\n",
    "# 0 0 0\n",
    "# 0 0 0\n",
    "\n",
    "\n",
    "(a * a.reshape(-1, 1)) * np.ones((*a.shape, 1, 1))\n",
    "\n",
    "AAI = a.reshape(-1, 1, 1) * a.reshape(1, -1, 1) * np.ones(a.shape*3)\n",
    "AIA = a.reshape(-1, 1, 1) * np.ones(a.shape*3) * a.reshape(1, 1, -1)\n",
    "IAA = np.ones(a.shape*3) * a.reshape(1, -1, 1) * a.reshape(1, 1, -1)\n",
    "AAI + AIA + IAA\n",
    "# EA = ((a * np.ones((*a.shape, 1)) + np.ones(a.shape) * a.reshape(-1,1)))\n",
    "# EA * a.reshape(*a.shape, 1, 1)\n",
    "# EA"
   ]
  },
  {
   "cell_type": "code",
   "execution_count": null,
   "id": "5fbbda72",
   "metadata": {},
   "outputs": [],
   "source": []
  },
  {
   "cell_type": "code",
   "execution_count": 300,
   "id": "01136b1a",
   "metadata": {},
   "outputs": [
    {
     "data": {
      "text/plain": [
       "array([1, 0, 0])"
      ]
     },
     "execution_count": 300,
     "metadata": {},
     "output_type": "execute_result"
    }
   ],
   "source": [
    "a"
   ]
  },
  {
   "cell_type": "code",
   "execution_count": 248,
   "id": "ed282d2e",
   "metadata": {},
   "outputs": [],
   "source": [
    "a.shape = (4, 1, 1)"
   ]
  },
  {
   "cell_type": "code",
   "execution_count": 250,
   "id": "6c637f5e",
   "metadata": {},
   "outputs": [],
   "source": [
    "a.shape = 4"
   ]
  },
  {
   "cell_type": "code",
   "execution_count": 251,
   "id": "263336fe",
   "metadata": {},
   "outputs": [
    {
     "data": {
      "text/plain": [
       "array([0, 1, 0, 1])"
      ]
     },
     "execution_count": 251,
     "metadata": {},
     "output_type": "execute_result"
    }
   ],
   "source": [
    "a"
   ]
  },
  {
   "cell_type": "code",
   "execution_count": 363,
   "id": "b7a96c43",
   "metadata": {},
   "outputs": [
    {
     "data": {
      "text/plain": [
       "array([1, 0, 0, 1])"
      ]
     },
     "execution_count": 363,
     "metadata": {},
     "output_type": "execute_result"
    }
   ],
   "source": []
  },
  {
   "cell_type": "code",
   "execution_count": null,
   "id": "3628cc59",
   "metadata": {},
   "outputs": [],
   "source": []
  }
 ],
 "metadata": {
  "kernelspec": {
   "display_name": "Python 3 (ipykernel)",
   "language": "python",
   "name": "python3"
  },
  "language_info": {
   "codemirror_mode": {
    "name": "ipython",
    "version": 3
   },
   "file_extension": ".py",
   "mimetype": "text/x-python",
   "name": "python",
   "nbconvert_exporter": "python",
   "pygments_lexer": "ipython3",
   "version": "3.8.16"
  }
 },
 "nbformat": 4,
 "nbformat_minor": 5
}
